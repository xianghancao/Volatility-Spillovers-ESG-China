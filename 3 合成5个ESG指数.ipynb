{
 "cells": [
  {
   "cell_type": "markdown",
   "id": "e017fbc3-d331-441b-b68d-fb862fe30845",
   "metadata": {},
   "source": [
    "# ESG分组的波动溢出网络"
   ]
  },
  {
   "cell_type": "markdown",
   "id": "34c183c4-c039-4807-a8ea-1d1ac2a6460a",
   "metadata": {},
   "source": [
    "<div class=\"alert alert-info\">\n",
    "使用分位数来进行ESG分组，然后构建每组的ESG指数，再进行波动率溢出效应的度量，构建波动溢出网络。\n",
    "    \n",
    "Draft: 2024.9.1 Updated:2024.9.4 Version: 0.0.3\n",
    "</div>\n"
   ]
  },
  {
   "cell_type": "code",
   "execution_count": 1,
   "id": "85e9bb8c-02d2-4795-940c-5751f6b47d08",
   "metadata": {
    "tags": []
   },
   "outputs": [
    {
     "data": {
      "text/html": [
       "<div>\n",
       "<style scoped>\n",
       "    .dataframe tbody tr th:only-of-type {\n",
       "        vertical-align: middle;\n",
       "    }\n",
       "\n",
       "    .dataframe tbody tr th {\n",
       "        vertical-align: top;\n",
       "    }\n",
       "\n",
       "    .dataframe thead th {\n",
       "        text-align: right;\n",
       "    }\n",
       "</style>\n",
       "<table border=\"1\" class=\"dataframe\">\n",
       "  <thead>\n",
       "    <tr style=\"text-align: right;\">\n",
       "      <th></th>\n",
       "      <th>000001</th>\n",
       "      <th>000002</th>\n",
       "      <th>000004</th>\n",
       "      <th>000005</th>\n",
       "      <th>000006</th>\n",
       "      <th>000007</th>\n",
       "      <th>000008</th>\n",
       "      <th>000009</th>\n",
       "      <th>000010</th>\n",
       "      <th>000011</th>\n",
       "      <th>...</th>\n",
       "      <th>601933</th>\n",
       "      <th>601939</th>\n",
       "      <th>601958</th>\n",
       "      <th>601988</th>\n",
       "      <th>601989</th>\n",
       "      <th>601991</th>\n",
       "      <th>601992</th>\n",
       "      <th>601996</th>\n",
       "      <th>601998</th>\n",
       "      <th>601999</th>\n",
       "    </tr>\n",
       "    <tr>\n",
       "      <th>time</th>\n",
       "      <th></th>\n",
       "      <th></th>\n",
       "      <th></th>\n",
       "      <th></th>\n",
       "      <th></th>\n",
       "      <th></th>\n",
       "      <th></th>\n",
       "      <th></th>\n",
       "      <th></th>\n",
       "      <th></th>\n",
       "      <th></th>\n",
       "      <th></th>\n",
       "      <th></th>\n",
       "      <th></th>\n",
       "      <th></th>\n",
       "      <th></th>\n",
       "      <th></th>\n",
       "      <th></th>\n",
       "      <th></th>\n",
       "      <th></th>\n",
       "      <th></th>\n",
       "    </tr>\n",
       "  </thead>\n",
       "  <tbody>\n",
       "    <tr>\n",
       "      <th>2010-01-04</th>\n",
       "      <td>926.73</td>\n",
       "      <td>1091.9</td>\n",
       "      <td>NaN</td>\n",
       "      <td>61.24</td>\n",
       "      <td>158.64</td>\n",
       "      <td>55.68</td>\n",
       "      <td>NaN</td>\n",
       "      <td>47.34</td>\n",
       "      <td>39.24</td>\n",
       "      <td>35.42</td>\n",
       "      <td>...</td>\n",
       "      <td>NaN</td>\n",
       "      <td>6.42</td>\n",
       "      <td>23.12</td>\n",
       "      <td>4.56</td>\n",
       "      <td>7.63</td>\n",
       "      <td>18.49</td>\n",
       "      <td>NaN</td>\n",
       "      <td>NaN</td>\n",
       "      <td>8.26</td>\n",
       "      <td>11.42</td>\n",
       "    </tr>\n",
       "  </tbody>\n",
       "</table>\n",
       "<p>1 rows × 2212 columns</p>\n",
       "</div>"
      ],
      "text/plain": [
       "            000001  000002  000004  000005  000006  000007  000008  000009  \\\n",
       "time                                                                         \n",
       "2010-01-04  926.73  1091.9     NaN   61.24  158.64   55.68     NaN   47.34   \n",
       "\n",
       "            000010  000011  ...  601933  601939  601958  601988  601989  \\\n",
       "time                        ...                                           \n",
       "2010-01-04   39.24   35.42  ...     NaN    6.42   23.12    4.56    7.63   \n",
       "\n",
       "            601991  601992  601996  601998  601999  \n",
       "time                                                \n",
       "2010-01-04   18.49     NaN     NaN    8.26   11.42  \n",
       "\n",
       "[1 rows x 2212 columns]"
      ]
     },
     "execution_count": 1,
     "metadata": {},
     "output_type": "execute_result"
    }
   ],
   "source": [
    "import pandas as pd\n",
    "import numpy as np\n",
    "df_prices = pd.read_csv('datasets/processed_data/close.csv')\n",
    "df_prices.index = pd.to_datetime(df_prices['time'])\n",
    "df_prices = df_prices.iloc[:, 1:]\n",
    "df_prices.head(1)"
   ]
  },
  {
   "cell_type": "code",
   "execution_count": 7,
   "id": "0e2eb35e-afd4-4542-a7dd-8eee57272798",
   "metadata": {
    "tags": []
   },
   "outputs": [
    {
     "data": {
      "text/html": [
       "<div>\n",
       "<style scoped>\n",
       "    .dataframe tbody tr th:only-of-type {\n",
       "        vertical-align: middle;\n",
       "    }\n",
       "\n",
       "    .dataframe tbody tr th {\n",
       "        vertical-align: top;\n",
       "    }\n",
       "\n",
       "    .dataframe thead th {\n",
       "        text-align: right;\n",
       "    }\n",
       "</style>\n",
       "<table border=\"1\" class=\"dataframe\">\n",
       "  <thead>\n",
       "    <tr style=\"text-align: right;\">\n",
       "      <th></th>\n",
       "      <th>证券代码</th>\n",
       "      <th>年份</th>\n",
       "      <th>证券简称</th>\n",
       "      <th>评级日期</th>\n",
       "      <th>综合评级</th>\n",
       "      <th>综合得分</th>\n",
       "      <th>E评级</th>\n",
       "      <th>E得分</th>\n",
       "      <th>S评级</th>\n",
       "      <th>S得分</th>\n",
       "      <th>G评级</th>\n",
       "      <th>G得分</th>\n",
       "      <th>证监会行业新</th>\n",
       "      <th>同花顺行业新</th>\n",
       "      <th>申万行业</th>\n",
       "    </tr>\n",
       "  </thead>\n",
       "  <tbody>\n",
       "    <tr>\n",
       "      <th>0</th>\n",
       "      <td>1</td>\n",
       "      <td>2009</td>\n",
       "      <td>平安银行</td>\n",
       "      <td>1/31/2009</td>\n",
       "      <td>BBB</td>\n",
       "      <td>82.56</td>\n",
       "      <td>B</td>\n",
       "      <td>72.98</td>\n",
       "      <td>BBB</td>\n",
       "      <td>80.26</td>\n",
       "      <td>A</td>\n",
       "      <td>88.73</td>\n",
       "      <td>货币金融服务</td>\n",
       "      <td>股份制银行</td>\n",
       "      <td>股份制银行Ⅲ</td>\n",
       "    </tr>\n",
       "  </tbody>\n",
       "</table>\n",
       "</div>"
      ],
      "text/plain": [
       "  证券代码    年份  证券简称       评级日期 综合评级   综合得分 E评级    E得分  S评级    S得分 G评级    G得分  \\\n",
       "0    1  2009  平安银行  1/31/2009  BBB  82.56   B  72.98  BBB  80.26   A  88.73   \n",
       "\n",
       "   证监会行业新 同花顺行业新    申万行业  \n",
       "0  货币金融服务  股份制银行  股份制银行Ⅲ  "
      ]
     },
     "execution_count": 7,
     "metadata": {},
     "output_type": "execute_result"
    }
   ],
   "source": [
    "import pandas as pd\n",
    "path='datasets/华证2009-2023年（含细分项+季度)）/华证esg评级2009-2023（细分项）/华证esg评级含细分项（季度）2009-2023.xlsx'\n",
    "df_esg = pd.read_excel(path, dtype={'证券代码':str})\n",
    "df_esg.head(1)"
   ]
  },
  {
   "cell_type": "code",
   "execution_count": 8,
   "id": "06e9faed-c605-4146-8a40-1b178eb0629e",
   "metadata": {
    "tags": []
   },
   "outputs": [],
   "source": [
    "df_esg['证券代码'] = df_esg['证券代码'].str.zfill(6)\n",
    "df_esg['评级日期'] = pd.to_datetime(df_esg['评级日期'])\n",
    "df_esg.index = df_esg['评级日期']"
   ]
  },
  {
   "cell_type": "code",
   "execution_count": 9,
   "id": "ff1585b5-ad9d-47aa-8a7d-556292638a38",
   "metadata": {
    "tags": []
   },
   "outputs": [],
   "source": [
    "year = df_esg.index.year.astype(str)"
   ]
  },
  {
   "cell_type": "code",
   "execution_count": 10,
   "id": "fd501f45-0c6c-4f5d-b986-5649c9778a6f",
   "metadata": {
    "tags": []
   },
   "outputs": [],
   "source": [
    "month = df_esg.index.month.astype(str)"
   ]
  },
  {
   "cell_type": "code",
   "execution_count": 11,
   "id": "1b4a5c5d-1711-4abd-8ea7-4d72b6930a81",
   "metadata": {
    "tags": []
   },
   "outputs": [
    {
     "data": {
      "application/vnd.jupyter.widget-view+json": {
       "model_id": "f3e4c9bff37444a49e16bc7214925d0c",
       "version_major": 2,
       "version_minor": 0
      },
      "text/plain": [
       "  0%|          | 0/182660 [00:00<?, ?it/s]"
      ]
     },
     "metadata": {},
     "output_type": "display_data"
    },
    {
     "data": {
      "text/html": [
       "<div>\n",
       "<style scoped>\n",
       "    .dataframe tbody tr th:only-of-type {\n",
       "        vertical-align: middle;\n",
       "    }\n",
       "\n",
       "    .dataframe tbody tr th {\n",
       "        vertical-align: top;\n",
       "    }\n",
       "\n",
       "    .dataframe thead th {\n",
       "        text-align: right;\n",
       "    }\n",
       "</style>\n",
       "<table border=\"1\" class=\"dataframe\">\n",
       "  <thead>\n",
       "    <tr style=\"text-align: right;\">\n",
       "      <th></th>\n",
       "      <th>证券代码</th>\n",
       "      <th>年份</th>\n",
       "      <th>证券简称</th>\n",
       "      <th>评级日期</th>\n",
       "      <th>综合评级</th>\n",
       "      <th>综合得分</th>\n",
       "      <th>E评级</th>\n",
       "      <th>E得分</th>\n",
       "      <th>S评级</th>\n",
       "      <th>S得分</th>\n",
       "      <th>G评级</th>\n",
       "      <th>G得分</th>\n",
       "      <th>证监会行业新</th>\n",
       "      <th>同花顺行业新</th>\n",
       "      <th>申万行业</th>\n",
       "      <th>月份</th>\n",
       "    </tr>\n",
       "    <tr>\n",
       "      <th>评级日期</th>\n",
       "      <th></th>\n",
       "      <th></th>\n",
       "      <th></th>\n",
       "      <th></th>\n",
       "      <th></th>\n",
       "      <th></th>\n",
       "      <th></th>\n",
       "      <th></th>\n",
       "      <th></th>\n",
       "      <th></th>\n",
       "      <th></th>\n",
       "      <th></th>\n",
       "      <th></th>\n",
       "      <th></th>\n",
       "      <th></th>\n",
       "      <th></th>\n",
       "    </tr>\n",
       "  </thead>\n",
       "  <tbody>\n",
       "    <tr>\n",
       "      <th>2009-01-31</th>\n",
       "      <td>000001</td>\n",
       "      <td>2009</td>\n",
       "      <td>平安银行</td>\n",
       "      <td>2009-01-31</td>\n",
       "      <td>BBB</td>\n",
       "      <td>82.56</td>\n",
       "      <td>B</td>\n",
       "      <td>72.98</td>\n",
       "      <td>BBB</td>\n",
       "      <td>80.26</td>\n",
       "      <td>A</td>\n",
       "      <td>88.73</td>\n",
       "      <td>货币金融服务</td>\n",
       "      <td>股份制银行</td>\n",
       "      <td>股份制银行Ⅲ</td>\n",
       "      <td>2009-1</td>\n",
       "    </tr>\n",
       "  </tbody>\n",
       "</table>\n",
       "</div>"
      ],
      "text/plain": [
       "              证券代码    年份  证券简称       评级日期 综合评级   综合得分 E评级    E得分  S评级    S得分  \\\n",
       "评级日期                                                                           \n",
       "2009-01-31  000001  2009  平安银行 2009-01-31  BBB  82.56   B  72.98  BBB  80.26   \n",
       "\n",
       "           G评级    G得分  证监会行业新 同花顺行业新    申万行业      月份  \n",
       "评级日期                                                  \n",
       "2009-01-31   A  88.73  货币金融服务  股份制银行  股份制银行Ⅲ  2009-1  "
      ]
     },
     "execution_count": 11,
     "metadata": {},
     "output_type": "execute_result"
    }
   ],
   "source": [
    "from tqdm.notebook import tqdm\n",
    "df_esg['月份'] = ['%s-%s' %(year[i], month[i]) for i in tqdm(range(df_esg.shape[0]))]\n",
    "df_esg.head(1)"
   ]
  },
  {
   "cell_type": "code",
   "execution_count": 14,
   "id": "ea7c9ace-5660-4113-ba85-347a669d6880",
   "metadata": {
    "tags": []
   },
   "outputs": [],
   "source": [
    "df_esg.index = df_esg['月份'].values"
   ]
  },
  {
   "cell_type": "code",
   "execution_count": 15,
   "id": "8445c22b-659f-4ece-b301-766631e999a9",
   "metadata": {
    "tags": []
   },
   "outputs": [
    {
     "data": {
      "text/html": [
       "<div>\n",
       "<style scoped>\n",
       "    .dataframe tbody tr th:only-of-type {\n",
       "        vertical-align: middle;\n",
       "    }\n",
       "\n",
       "    .dataframe tbody tr th {\n",
       "        vertical-align: top;\n",
       "    }\n",
       "\n",
       "    .dataframe thead th {\n",
       "        text-align: right;\n",
       "    }\n",
       "</style>\n",
       "<table border=\"1\" class=\"dataframe\">\n",
       "  <thead>\n",
       "    <tr style=\"text-align: right;\">\n",
       "      <th></th>\n",
       "      <th>0.2</th>\n",
       "      <th>0.4</th>\n",
       "      <th>0.6</th>\n",
       "      <th>0.8</th>\n",
       "    </tr>\n",
       "    <tr>\n",
       "      <th>月份</th>\n",
       "      <th></th>\n",
       "      <th></th>\n",
       "      <th></th>\n",
       "      <th></th>\n",
       "    </tr>\n",
       "  </thead>\n",
       "  <tbody>\n",
       "    <tr>\n",
       "      <th>2009-1</th>\n",
       "      <td>68.53</td>\n",
       "      <td>70.72</td>\n",
       "      <td>72.580</td>\n",
       "      <td>74.950</td>\n",
       "    </tr>\n",
       "    <tr>\n",
       "      <th>2009-10</th>\n",
       "      <td>69.67</td>\n",
       "      <td>72.09</td>\n",
       "      <td>73.964</td>\n",
       "      <td>76.302</td>\n",
       "    </tr>\n",
       "    <tr>\n",
       "      <th>2009-4</th>\n",
       "      <td>69.05</td>\n",
       "      <td>71.39</td>\n",
       "      <td>73.470</td>\n",
       "      <td>75.910</td>\n",
       "    </tr>\n",
       "    <tr>\n",
       "      <th>2009-7</th>\n",
       "      <td>69.10</td>\n",
       "      <td>71.58</td>\n",
       "      <td>73.640</td>\n",
       "      <td>76.070</td>\n",
       "    </tr>\n",
       "    <tr>\n",
       "      <th>2010-1</th>\n",
       "      <td>69.56</td>\n",
       "      <td>72.09</td>\n",
       "      <td>74.112</td>\n",
       "      <td>76.398</td>\n",
       "    </tr>\n",
       "  </tbody>\n",
       "</table>\n",
       "</div>"
      ],
      "text/plain": [
       "           0.2    0.4     0.6     0.8\n",
       "月份                                   \n",
       "2009-1   68.53  70.72  72.580  74.950\n",
       "2009-10  69.67  72.09  73.964  76.302\n",
       "2009-4   69.05  71.39  73.470  75.910\n",
       "2009-7   69.10  71.58  73.640  76.070\n",
       "2010-1   69.56  72.09  74.112  76.398"
      ]
     },
     "execution_count": 15,
     "metadata": {},
     "output_type": "execute_result"
    }
   ],
   "source": [
    "esg_quantiles = df_esg.groupby('月份')['综合得分'].quantile([0.2, 0.4, 0.6, 0.8]).unstack()\n",
    "esg_quantiles.head(5)"
   ]
  },
  {
   "cell_type": "code",
   "execution_count": 34,
   "id": "4405b741-b369-4f3a-8d69-d5ec3cd1b24f",
   "metadata": {
    "tags": []
   },
   "outputs": [],
   "source": [
    "resample_prices = df_prices.reindex(pd.date_range(start=df_prices.index.min(),\n",
    "                                         end=df_prices.index.max(),\n",
    "                                         freq='D'))"
   ]
  },
  {
   "cell_type": "code",
   "execution_count": 44,
   "id": "8ca053c1-c1e0-4a6e-9848-773475f8c5f3",
   "metadata": {
    "tags": []
   },
   "outputs": [
    {
     "data": {
      "text/html": [
       "<div>\n",
       "<style scoped>\n",
       "    .dataframe tbody tr th:only-of-type {\n",
       "        vertical-align: middle;\n",
       "    }\n",
       "\n",
       "    .dataframe tbody tr th {\n",
       "        vertical-align: top;\n",
       "    }\n",
       "\n",
       "    .dataframe thead th {\n",
       "        text-align: right;\n",
       "    }\n",
       "</style>\n",
       "<table border=\"1\" class=\"dataframe\">\n",
       "  <thead>\n",
       "    <tr style=\"text-align: right;\">\n",
       "      <th></th>\n",
       "      <th>000001</th>\n",
       "      <th>000002</th>\n",
       "      <th>000004</th>\n",
       "      <th>000005</th>\n",
       "      <th>000006</th>\n",
       "      <th>000007</th>\n",
       "      <th>000008</th>\n",
       "      <th>000009</th>\n",
       "      <th>000010</th>\n",
       "      <th>000011</th>\n",
       "      <th>...</th>\n",
       "      <th>601933</th>\n",
       "      <th>601939</th>\n",
       "      <th>601958</th>\n",
       "      <th>601988</th>\n",
       "      <th>601989</th>\n",
       "      <th>601991</th>\n",
       "      <th>601992</th>\n",
       "      <th>601996</th>\n",
       "      <th>601998</th>\n",
       "      <th>601999</th>\n",
       "    </tr>\n",
       "  </thead>\n",
       "  <tbody>\n",
       "    <tr>\n",
       "      <th>2010-1</th>\n",
       "      <td>-0.088581</td>\n",
       "      <td>-0.126556</td>\n",
       "      <td>NaN</td>\n",
       "      <td>-0.105651</td>\n",
       "      <td>-0.110177</td>\n",
       "      <td>-0.002878</td>\n",
       "      <td>-0.191962</td>\n",
       "      <td>-0.038545</td>\n",
       "      <td>-0.033427</td>\n",
       "      <td>-0.089427</td>\n",
       "      <td>...</td>\n",
       "      <td>NaN</td>\n",
       "      <td>-0.079394</td>\n",
       "      <td>-0.106226</td>\n",
       "      <td>-0.047147</td>\n",
       "      <td>-0.010540</td>\n",
       "      <td>-0.058464</td>\n",
       "      <td>NaN</td>\n",
       "      <td>NaN</td>\n",
       "      <td>-0.152739</td>\n",
       "      <td>0.126501</td>\n",
       "    </tr>\n",
       "    <tr>\n",
       "      <th>2010-2</th>\n",
       "      <td>0.055400</td>\n",
       "      <td>0.002123</td>\n",
       "      <td>0.086611</td>\n",
       "      <td>0.029116</td>\n",
       "      <td>0.009704</td>\n",
       "      <td>0.102819</td>\n",
       "      <td>0.115265</td>\n",
       "      <td>0.078087</td>\n",
       "      <td>0.060851</td>\n",
       "      <td>0.057866</td>\n",
       "      <td>...</td>\n",
       "      <td>NaN</td>\n",
       "      <td>0.008496</td>\n",
       "      <td>0.058250</td>\n",
       "      <td>0.027652</td>\n",
       "      <td>-0.013851</td>\n",
       "      <td>0.022538</td>\n",
       "      <td>NaN</td>\n",
       "      <td>NaN</td>\n",
       "      <td>0.037254</td>\n",
       "      <td>0.134126</td>\n",
       "    </tr>\n",
       "    <tr>\n",
       "      <th>2010-3</th>\n",
       "      <td>0.003889</td>\n",
       "      <td>0.006346</td>\n",
       "      <td>0.045015</td>\n",
       "      <td>0.037627</td>\n",
       "      <td>0.141561</td>\n",
       "      <td>-0.035148</td>\n",
       "      <td>0.143101</td>\n",
       "      <td>0.042091</td>\n",
       "      <td>0.103037</td>\n",
       "      <td>0.136750</td>\n",
       "      <td>...</td>\n",
       "      <td>NaN</td>\n",
       "      <td>-0.005029</td>\n",
       "      <td>-0.045452</td>\n",
       "      <td>0.028923</td>\n",
       "      <td>-0.026857</td>\n",
       "      <td>-0.021138</td>\n",
       "      <td>NaN</td>\n",
       "      <td>NaN</td>\n",
       "      <td>0.032435</td>\n",
       "      <td>0.061495</td>\n",
       "    </tr>\n",
       "    <tr>\n",
       "      <th>2010-4</th>\n",
       "      <td>-0.129384</td>\n",
       "      <td>-0.221093</td>\n",
       "      <td>-0.097382</td>\n",
       "      <td>-0.236733</td>\n",
       "      <td>-0.252157</td>\n",
       "      <td>0.058932</td>\n",
       "      <td>-0.069029</td>\n",
       "      <td>-0.088765</td>\n",
       "      <td>0.032824</td>\n",
       "      <td>-0.392562</td>\n",
       "      <td>...</td>\n",
       "      <td>NaN</td>\n",
       "      <td>-0.083527</td>\n",
       "      <td>-0.054690</td>\n",
       "      <td>-0.028795</td>\n",
       "      <td>-0.044903</td>\n",
       "      <td>-0.074554</td>\n",
       "      <td>NaN</td>\n",
       "      <td>NaN</td>\n",
       "      <td>-0.199644</td>\n",
       "      <td>-0.170640</td>\n",
       "    </tr>\n",
       "    <tr>\n",
       "      <th>2010-5</th>\n",
       "      <td>-0.132954</td>\n",
       "      <td>-0.023254</td>\n",
       "      <td>-0.092307</td>\n",
       "      <td>-0.053725</td>\n",
       "      <td>-0.060356</td>\n",
       "      <td>-0.105095</td>\n",
       "      <td>0.108050</td>\n",
       "      <td>-0.133851</td>\n",
       "      <td>NaN</td>\n",
       "      <td>-0.078384</td>\n",
       "      <td>...</td>\n",
       "      <td>NaN</td>\n",
       "      <td>-0.050620</td>\n",
       "      <td>-0.149676</td>\n",
       "      <td>-0.011455</td>\n",
       "      <td>0.089196</td>\n",
       "      <td>-0.056748</td>\n",
       "      <td>NaN</td>\n",
       "      <td>NaN</td>\n",
       "      <td>-0.116947</td>\n",
       "      <td>-0.097239</td>\n",
       "    </tr>\n",
       "  </tbody>\n",
       "</table>\n",
       "<p>5 rows × 2212 columns</p>\n",
       "</div>"
      ],
      "text/plain": [
       "          000001    000002    000004    000005    000006    000007    000008  \\\n",
       "2010-1 -0.088581 -0.126556       NaN -0.105651 -0.110177 -0.002878 -0.191962   \n",
       "2010-2  0.055400  0.002123  0.086611  0.029116  0.009704  0.102819  0.115265   \n",
       "2010-3  0.003889  0.006346  0.045015  0.037627  0.141561 -0.035148  0.143101   \n",
       "2010-4 -0.129384 -0.221093 -0.097382 -0.236733 -0.252157  0.058932 -0.069029   \n",
       "2010-5 -0.132954 -0.023254 -0.092307 -0.053725 -0.060356 -0.105095  0.108050   \n",
       "\n",
       "          000009    000010    000011  ...  601933    601939    601958  \\\n",
       "2010-1 -0.038545 -0.033427 -0.089427  ...     NaN -0.079394 -0.106226   \n",
       "2010-2  0.078087  0.060851  0.057866  ...     NaN  0.008496  0.058250   \n",
       "2010-3  0.042091  0.103037  0.136750  ...     NaN -0.005029 -0.045452   \n",
       "2010-4 -0.088765  0.032824 -0.392562  ...     NaN -0.083527 -0.054690   \n",
       "2010-5 -0.133851       NaN -0.078384  ...     NaN -0.050620 -0.149676   \n",
       "\n",
       "          601988    601989    601991  601992  601996    601998    601999  \n",
       "2010-1 -0.047147 -0.010540 -0.058464     NaN     NaN -0.152739  0.126501  \n",
       "2010-2  0.027652 -0.013851  0.022538     NaN     NaN  0.037254  0.134126  \n",
       "2010-3  0.028923 -0.026857 -0.021138     NaN     NaN  0.032435  0.061495  \n",
       "2010-4 -0.028795 -0.044903 -0.074554     NaN     NaN -0.199644 -0.170640  \n",
       "2010-5 -0.011455  0.089196 -0.056748     NaN     NaN -0.116947 -0.097239  \n",
       "\n",
       "[5 rows x 2212 columns]"
      ]
     },
     "execution_count": 44,
     "metadata": {},
     "output_type": "execute_result"
    }
   ],
   "source": [
    "diff = np.log(resample_prices.resample('M').last() / resample_prices.resample('M').first())\n",
    "diff.index = ['%s-%s' %(diff.index.year[i], diff.index.month[i]) for i in range(diff.shape[0])]\n",
    "diff.head()"
   ]
  },
  {
   "cell_type": "code",
   "execution_count": 45,
   "id": "212d2ab6-5b4f-40c6-ae50-8d7be09b2a0e",
   "metadata": {
    "tags": []
   },
   "outputs": [],
   "source": [
    "# 为每个股票计算五分位\n",
    "def assign_quantile(row):\n",
    "    for quantile in [0.2, 0.4, 0.6, 0.8]:\n",
    "        if row['综合得分'] <= esg_quantiles.loc[row['月份'], quantile]:\n",
    "            return int(quantile * 5)\n",
    "    return 5\n",
    "\n",
    "df_esg['quantile'] = df_esg.apply(assign_quantile, axis=1)"
   ]
  },
  {
   "cell_type": "code",
   "execution_count": 46,
   "id": "6ac9a14b-eb9a-4f3b-9589-9e548f08601a",
   "metadata": {
    "tags": []
   },
   "outputs": [
    {
     "data": {
      "application/vnd.jupyter.widget-view+json": {
       "model_id": "3b43445e59ab458ba1098e532de1ab64",
       "version_major": 2,
       "version_minor": 0
      },
      "text/plain": [
       "  0%|          | 0/2212 [00:00<?, ?it/s]"
      ]
     },
     "metadata": {},
     "output_type": "display_data"
    }
   ],
   "source": [
    "pivot_df = pd.DataFrame()\n",
    "for i in tqdm(range(diff.shape[1])):\n",
    "    df = pd.DataFrame()\n",
    "    df['收益率'] = diff.iloc[:, i]\n",
    "    df['证券代码'] = diff.columns[i]\n",
    "    pivot_df = pd.concat([pivot_df, df])"
   ]
  },
  {
   "cell_type": "code",
   "execution_count": 47,
   "id": "3032eb4c-c2b7-47bc-a88b-cefca4abc2c2",
   "metadata": {
    "tags": []
   },
   "outputs": [
    {
     "data": {
      "text/html": [
       "<div>\n",
       "<style scoped>\n",
       "    .dataframe tbody tr th:only-of-type {\n",
       "        vertical-align: middle;\n",
       "    }\n",
       "\n",
       "    .dataframe tbody tr th {\n",
       "        vertical-align: top;\n",
       "    }\n",
       "\n",
       "    .dataframe thead th {\n",
       "        text-align: right;\n",
       "    }\n",
       "</style>\n",
       "<table border=\"1\" class=\"dataframe\">\n",
       "  <thead>\n",
       "    <tr style=\"text-align: right;\">\n",
       "      <th></th>\n",
       "      <th>收益率</th>\n",
       "      <th>证券代码</th>\n",
       "    </tr>\n",
       "  </thead>\n",
       "  <tbody>\n",
       "    <tr>\n",
       "      <th>2010-1</th>\n",
       "      <td>-0.088581</td>\n",
       "      <td>000001</td>\n",
       "    </tr>\n",
       "    <tr>\n",
       "      <th>2010-2</th>\n",
       "      <td>0.055400</td>\n",
       "      <td>000001</td>\n",
       "    </tr>\n",
       "    <tr>\n",
       "      <th>2010-3</th>\n",
       "      <td>0.003889</td>\n",
       "      <td>000001</td>\n",
       "    </tr>\n",
       "    <tr>\n",
       "      <th>2010-4</th>\n",
       "      <td>-0.129384</td>\n",
       "      <td>000001</td>\n",
       "    </tr>\n",
       "    <tr>\n",
       "      <th>2010-5</th>\n",
       "      <td>-0.132954</td>\n",
       "      <td>000001</td>\n",
       "    </tr>\n",
       "    <tr>\n",
       "      <th>...</th>\n",
       "      <td>...</td>\n",
       "      <td>...</td>\n",
       "    </tr>\n",
       "    <tr>\n",
       "      <th>2024-2</th>\n",
       "      <td>-0.026126</td>\n",
       "      <td>601999</td>\n",
       "    </tr>\n",
       "    <tr>\n",
       "      <th>2024-3</th>\n",
       "      <td>0.035289</td>\n",
       "      <td>601999</td>\n",
       "    </tr>\n",
       "    <tr>\n",
       "      <th>2024-4</th>\n",
       "      <td>-0.104026</td>\n",
       "      <td>601999</td>\n",
       "    </tr>\n",
       "    <tr>\n",
       "      <th>2024-5</th>\n",
       "      <td>-0.083827</td>\n",
       "      <td>601999</td>\n",
       "    </tr>\n",
       "    <tr>\n",
       "      <th>2024-6</th>\n",
       "      <td>-0.036308</td>\n",
       "      <td>601999</td>\n",
       "    </tr>\n",
       "  </tbody>\n",
       "</table>\n",
       "<p>384888 rows × 2 columns</p>\n",
       "</div>"
      ],
      "text/plain": [
       "             收益率    证券代码\n",
       "2010-1 -0.088581  000001\n",
       "2010-2  0.055400  000001\n",
       "2010-3  0.003889  000001\n",
       "2010-4 -0.129384  000001\n",
       "2010-5 -0.132954  000001\n",
       "...          ...     ...\n",
       "2024-2 -0.026126  601999\n",
       "2024-3  0.035289  601999\n",
       "2024-4 -0.104026  601999\n",
       "2024-5 -0.083827  601999\n",
       "2024-6 -0.036308  601999\n",
       "\n",
       "[384888 rows x 2 columns]"
      ]
     },
     "execution_count": 47,
     "metadata": {},
     "output_type": "execute_result"
    }
   ],
   "source": [
    "pivot_df"
   ]
  },
  {
   "cell_type": "code",
   "execution_count": 48,
   "id": "736e036a-8f83-4f8b-a831-8d84d694131e",
   "metadata": {
    "tags": []
   },
   "outputs": [
    {
     "data": {
      "application/vnd.jupyter.widget-view+json": {
       "model_id": "7dd485d65be946ae8daccd80884a2714",
       "version_major": 2,
       "version_minor": 0
      },
      "text/plain": [
       "  0%|          | 0/182660 [00:00<?, ?it/s]"
      ]
     },
     "metadata": {},
     "output_type": "display_data"
    }
   ],
   "source": [
    "ret = []\n",
    "for i in tqdm(range(df_esg.shape[0])):\n",
    "    if df_esg.iloc[i]['月份'] in diff.index and df_esg.iloc[i]['证券代码'] in diff.columns: \n",
    "        ret.append(diff.loc[df_esg.iloc[i]['月份'], df_esg.iloc[i]['证券代码']])\n",
    "    else:\n",
    "        ret.append(np.nan)"
   ]
  },
  {
   "cell_type": "code",
   "execution_count": 49,
   "id": "2738affc-19eb-40a1-9b97-5a509e77917d",
   "metadata": {
    "tags": []
   },
   "outputs": [],
   "source": [
    "df_esg['收益率'] = ret"
   ]
  },
  {
   "cell_type": "code",
   "execution_count": 50,
   "id": "1e8db619-56bf-46a8-99bc-a30579d48424",
   "metadata": {
    "tags": []
   },
   "outputs": [
    {
     "data": {
      "text/html": [
       "<div>\n",
       "<style scoped>\n",
       "    .dataframe tbody tr th:only-of-type {\n",
       "        vertical-align: middle;\n",
       "    }\n",
       "\n",
       "    .dataframe tbody tr th {\n",
       "        vertical-align: top;\n",
       "    }\n",
       "\n",
       "    .dataframe thead th {\n",
       "        text-align: right;\n",
       "    }\n",
       "</style>\n",
       "<table border=\"1\" class=\"dataframe\">\n",
       "  <thead>\n",
       "    <tr style=\"text-align: right;\">\n",
       "      <th></th>\n",
       "      <th>证券代码</th>\n",
       "      <th>年份</th>\n",
       "      <th>证券简称</th>\n",
       "      <th>评级日期</th>\n",
       "      <th>综合评级</th>\n",
       "      <th>综合得分</th>\n",
       "      <th>E评级</th>\n",
       "      <th>E得分</th>\n",
       "      <th>S评级</th>\n",
       "      <th>S得分</th>\n",
       "      <th>G评级</th>\n",
       "      <th>G得分</th>\n",
       "      <th>证监会行业新</th>\n",
       "      <th>同花顺行业新</th>\n",
       "      <th>申万行业</th>\n",
       "      <th>月份</th>\n",
       "      <th>quantile</th>\n",
       "      <th>收益率</th>\n",
       "    </tr>\n",
       "  </thead>\n",
       "  <tbody>\n",
       "    <tr>\n",
       "      <th>2009-1</th>\n",
       "      <td>000001</td>\n",
       "      <td>2009</td>\n",
       "      <td>平安银行</td>\n",
       "      <td>2009-01-31</td>\n",
       "      <td>BBB</td>\n",
       "      <td>82.56</td>\n",
       "      <td>B</td>\n",
       "      <td>72.98</td>\n",
       "      <td>BBB</td>\n",
       "      <td>80.26</td>\n",
       "      <td>A</td>\n",
       "      <td>88.73</td>\n",
       "      <td>货币金融服务</td>\n",
       "      <td>股份制银行</td>\n",
       "      <td>股份制银行Ⅲ</td>\n",
       "      <td>2009-1</td>\n",
       "      <td>5</td>\n",
       "      <td>NaN</td>\n",
       "    </tr>\n",
       "    <tr>\n",
       "      <th>2009-4</th>\n",
       "      <td>000001</td>\n",
       "      <td>2009</td>\n",
       "      <td>平安银行</td>\n",
       "      <td>2009-04-30</td>\n",
       "      <td>BBB</td>\n",
       "      <td>82.26</td>\n",
       "      <td>CCC</td>\n",
       "      <td>69.87</td>\n",
       "      <td>BB</td>\n",
       "      <td>77.46</td>\n",
       "      <td>AA</td>\n",
       "      <td>91.51</td>\n",
       "      <td>货币金融服务</td>\n",
       "      <td>股份制银行</td>\n",
       "      <td>股份制银行Ⅲ</td>\n",
       "      <td>2009-4</td>\n",
       "      <td>5</td>\n",
       "      <td>NaN</td>\n",
       "    </tr>\n",
       "    <tr>\n",
       "      <th>2009-7</th>\n",
       "      <td>000001</td>\n",
       "      <td>2009</td>\n",
       "      <td>平安银行</td>\n",
       "      <td>2009-07-31</td>\n",
       "      <td>BBB</td>\n",
       "      <td>82.81</td>\n",
       "      <td>CCC</td>\n",
       "      <td>69.87</td>\n",
       "      <td>BB</td>\n",
       "      <td>77.46</td>\n",
       "      <td>AA</td>\n",
       "      <td>92.70</td>\n",
       "      <td>货币金融服务</td>\n",
       "      <td>股份制银行</td>\n",
       "      <td>股份制银行Ⅲ</td>\n",
       "      <td>2009-7</td>\n",
       "      <td>5</td>\n",
       "      <td>NaN</td>\n",
       "    </tr>\n",
       "    <tr>\n",
       "      <th>2009-10</th>\n",
       "      <td>000001</td>\n",
       "      <td>2009</td>\n",
       "      <td>平安银行</td>\n",
       "      <td>2009-10-31</td>\n",
       "      <td>BBB</td>\n",
       "      <td>82.38</td>\n",
       "      <td>CCC</td>\n",
       "      <td>69.87</td>\n",
       "      <td>BB</td>\n",
       "      <td>77.46</td>\n",
       "      <td>AA</td>\n",
       "      <td>91.77</td>\n",
       "      <td>货币金融服务</td>\n",
       "      <td>股份制银行</td>\n",
       "      <td>股份制银行Ⅲ</td>\n",
       "      <td>2009-10</td>\n",
       "      <td>5</td>\n",
       "      <td>NaN</td>\n",
       "    </tr>\n",
       "    <tr>\n",
       "      <th>2010-1</th>\n",
       "      <td>000001</td>\n",
       "      <td>2010</td>\n",
       "      <td>平安银行</td>\n",
       "      <td>2010-01-31</td>\n",
       "      <td>BBB</td>\n",
       "      <td>82.81</td>\n",
       "      <td>CCC</td>\n",
       "      <td>69.87</td>\n",
       "      <td>BB</td>\n",
       "      <td>77.46</td>\n",
       "      <td>AA</td>\n",
       "      <td>92.70</td>\n",
       "      <td>货币金融服务</td>\n",
       "      <td>股份制银行</td>\n",
       "      <td>股份制银行Ⅲ</td>\n",
       "      <td>2010-1</td>\n",
       "      <td>5</td>\n",
       "      <td>-0.088581</td>\n",
       "    </tr>\n",
       "  </tbody>\n",
       "</table>\n",
       "</div>"
      ],
      "text/plain": [
       "           证券代码    年份  证券简称       评级日期 综合评级   综合得分  E评级    E得分  S评级    S得分  \\\n",
       "2009-1   000001  2009  平安银行 2009-01-31  BBB  82.56    B  72.98  BBB  80.26   \n",
       "2009-4   000001  2009  平安银行 2009-04-30  BBB  82.26  CCC  69.87   BB  77.46   \n",
       "2009-7   000001  2009  平安银行 2009-07-31  BBB  82.81  CCC  69.87   BB  77.46   \n",
       "2009-10  000001  2009  平安银行 2009-10-31  BBB  82.38  CCC  69.87   BB  77.46   \n",
       "2010-1   000001  2010  平安银行 2010-01-31  BBB  82.81  CCC  69.87   BB  77.46   \n",
       "\n",
       "        G评级    G得分  证监会行业新 同花顺行业新    申万行业       月份  quantile       收益率  \n",
       "2009-1    A  88.73  货币金融服务  股份制银行  股份制银行Ⅲ   2009-1         5       NaN  \n",
       "2009-4   AA  91.51  货币金融服务  股份制银行  股份制银行Ⅲ   2009-4         5       NaN  \n",
       "2009-7   AA  92.70  货币金融服务  股份制银行  股份制银行Ⅲ   2009-7         5       NaN  \n",
       "2009-10  AA  91.77  货币金融服务  股份制银行  股份制银行Ⅲ  2009-10         5       NaN  \n",
       "2010-1   AA  92.70  货币金融服务  股份制银行  股份制银行Ⅲ   2010-1         5 -0.088581  "
      ]
     },
     "execution_count": 50,
     "metadata": {},
     "output_type": "execute_result"
    }
   ],
   "source": [
    "df_esg.head()"
   ]
  },
  {
   "cell_type": "code",
   "execution_count": 51,
   "id": "b2a921a4-7200-45bb-b544-c14fe5884537",
   "metadata": {
    "tags": []
   },
   "outputs": [],
   "source": [
    "a = df_esg.groupby(['quantile', '月份'])['收益率'].mean()"
   ]
  },
  {
   "cell_type": "code",
   "execution_count": 52,
   "id": "457a7496-f957-44b3-9cec-d47b013784a2",
   "metadata": {
    "tags": []
   },
   "outputs": [
    {
     "name": "stderr",
     "output_type": "stream",
     "text": [
      "/Users/hans/opt/anaconda3/lib/python3.9/site-packages/IPython/core/events.py:89: UserWarning: Glyph 26376 (\\N{CJK UNIFIED IDEOGRAPH-6708}) missing from current font.\n",
      "  func(*args, **kwargs)\n",
      "/Users/hans/opt/anaconda3/lib/python3.9/site-packages/IPython/core/events.py:89: UserWarning: Glyph 20221 (\\N{CJK UNIFIED IDEOGRAPH-4EFD}) missing from current font.\n",
      "  func(*args, **kwargs)\n",
      "/Users/hans/opt/anaconda3/lib/python3.9/site-packages/IPython/core/pylabtools.py:152: UserWarning: Glyph 26376 (\\N{CJK UNIFIED IDEOGRAPH-6708}) missing from current font.\n",
      "  fig.canvas.print_figure(bytes_io, **kw)\n",
      "/Users/hans/opt/anaconda3/lib/python3.9/site-packages/IPython/core/pylabtools.py:152: UserWarning: Glyph 20221 (\\N{CJK UNIFIED IDEOGRAPH-4EFD}) missing from current font.\n",
      "  fig.canvas.print_figure(bytes_io, **kw)\n"
     ]
    },
    {
     "data": {
      "image/png": "[encoded data removed]",
      "text/plain": [
       "<Figure size 640x480 with 1 Axes>"
      ]
     },
     "metadata": {},
     "output_type": "display_data"
    }
   ],
   "source": [
    "import matplotlib.pyplot as plt\n",
    "for i in [1,2,3,4,5]:\n",
    "    a[i].index = pd.to_datetime(a[i].index)\n",
    "    b = a[i].sort_index()\n",
    "    b.plot()"
   ]
  },
  {
   "cell_type": "code",
   "execution_count": 53,
   "id": "201e8ece-36c9-4438-94c4-c270ddadb8db",
   "metadata": {
    "tags": []
   },
   "outputs": [],
   "source": [
    "from arch import arch_model\n",
    "from joblib import Parallel, delayed\n",
    "from tqdm import tqdm\n",
    "\n",
    "def estimate_volatility_single_series(returns):\n",
    "    model = arch_model(returns, vol='Garch', p=1, q=1)\n",
    "    res = model.fit(disp='off')\n",
    "    return res.conditional_volatility"
   ]
  },
  {
   "cell_type": "code",
   "execution_count": 54,
   "id": "5bc15fd2-29ab-4b48-8af1-cb9ea2150d91",
   "metadata": {
    "tags": []
   },
   "outputs": [],
   "source": [
    "def estimate_volatility(returns, n_jobs=50):\n",
    "    # 使用并行处理每列数据\n",
    "    results = Parallel(n_jobs=n_jobs)(delayed(estimate_volatility_single_series)(returns[col]) for col in tqdm(returns.columns))\n",
    "    \n",
    "    # 将结果合并为一个 DataFrame\n",
    "    volatilities = pd.concat(results, axis=1)\n",
    "    volatilities.columns = returns.columns\n",
    "    volatilities.index = returns.index\n",
    "    \n",
    "    return volatilities"
   ]
  },
  {
   "cell_type": "code",
   "execution_count": 60,
   "id": "e46fabc8-7c6f-403f-a14b-97c05d4b21df",
   "metadata": {
    "tags": []
   },
   "outputs": [
    {
     "data": {
      "text/plain": [
       "DatetimeIndex(['2009-01-01', '2009-10-01', '2009-04-01', '2009-07-01',\n",
       "               '2010-01-01', '2010-10-01', '2010-04-01', '2010-07-01',\n",
       "               '2011-01-01', '2011-10-01', '2011-04-01', '2011-07-01',\n",
       "               '2012-01-01', '2012-10-01', '2012-04-01', '2012-07-01',\n",
       "               '2013-01-01', '2013-10-01', '2013-04-01', '2013-07-01',\n",
       "               '2014-01-01', '2014-10-01', '2014-04-01', '2014-07-01',\n",
       "               '2015-01-01', '2015-10-01', '2015-04-01', '2015-07-01',\n",
       "               '2016-01-01', '2016-10-01', '2016-04-01', '2016-07-01',\n",
       "               '2017-01-01', '2017-10-01', '2017-04-01', '2017-07-01',\n",
       "               '2018-01-01', '2018-10-01', '2018-04-01', '2018-07-01',\n",
       "               '2019-01-01', '2019-10-01', '2019-04-01', '2019-07-01',\n",
       "               '2020-01-01', '2020-10-01', '2020-04-01', '2020-07-01',\n",
       "               '2021-01-01', '2021-10-01', '2021-04-01', '2021-07-01',\n",
       "               '2022-01-01', '2022-10-01', '2022-04-01', '2022-07-01',\n",
       "               '2023-01-01', '2023-10-01', '2023-04-01', '2023-07-01'],\n",
       "              dtype='datetime64[ns]', name='月份', freq=None)"
      ]
     },
     "execution_count": 60,
     "metadata": {},
     "output_type": "execute_result"
    }
   ],
   "source": [
    "a[1].pd.to_datetime(a[1].index)"
   ]
  },
  {
   "cell_type": "code",
   "execution_count": 55,
   "id": "c4f25205-522a-438b-956d-a090e8ac885c",
   "metadata": {
    "tags": []
   },
   "outputs": [
    {
     "ename": "AttributeError",
     "evalue": "'Series' object has no attribute 'columns'",
     "output_type": "error",
     "traceback": [
      "\u001b[0;31m---------------------------------------------------------------------------\u001b[0m",
      "\u001b[0;31mAttributeError\u001b[0m                            Traceback (most recent call last)",
      "\u001b[0;32m/var/folders/7m/rgg1hhpj3yb1j0cf0c82yq1w0000gn/T/ipykernel_57185/2186704303.py\u001b[0m in \u001b[0;36m?\u001b[0;34m()\u001b[0m\n\u001b[0;32m----> 1\u001b[0;31m \u001b[0mvolatilities\u001b[0m \u001b[0;34m=\u001b[0m \u001b[0mestimate_volatility\u001b[0m\u001b[0;34m(\u001b[0m\u001b[0ma\u001b[0m\u001b[0;34m[\u001b[0m\u001b[0;36m1\u001b[0m\u001b[0;34m]\u001b[0m\u001b[0;34m*\u001b[0m\u001b[0;36m100.\u001b[0m\u001b[0;34m)\u001b[0m\u001b[0;34m\u001b[0m\u001b[0;34m\u001b[0m\u001b[0m\n\u001b[0m",
      "\u001b[0;32m/var/folders/7m/rgg1hhpj3yb1j0cf0c82yq1w0000gn/T/ipykernel_57185/3464068082.py\u001b[0m in \u001b[0;36m?\u001b[0;34m(returns, n_jobs)\u001b[0m\n\u001b[1;32m      1\u001b[0m \u001b[0;32mdef\u001b[0m \u001b[0mestimate_volatility\u001b[0m\u001b[0;34m(\u001b[0m\u001b[0mreturns\u001b[0m\u001b[0;34m,\u001b[0m \u001b[0mn_jobs\u001b[0m\u001b[0;34m=\u001b[0m\u001b[0;36m50\u001b[0m\u001b[0;34m)\u001b[0m\u001b[0;34m:\u001b[0m\u001b[0;34m\u001b[0m\u001b[0;34m\u001b[0m\u001b[0m\n\u001b[1;32m      2\u001b[0m     \u001b[0;31m# 使用并行处理每列数据\u001b[0m\u001b[0;34m\u001b[0m\u001b[0;34m\u001b[0m\u001b[0m\n\u001b[0;32m----> 3\u001b[0;31m     \u001b[0mresults\u001b[0m \u001b[0;34m=\u001b[0m \u001b[0mParallel\u001b[0m\u001b[0;34m(\u001b[0m\u001b[0mn_jobs\u001b[0m\u001b[0;34m=\u001b[0m\u001b[0mn_jobs\u001b[0m\u001b[0;34m)\u001b[0m\u001b[0;34m(\u001b[0m\u001b[0mdelayed\u001b[0m\u001b[0;34m(\u001b[0m\u001b[0mestimate_volatility_single_series\u001b[0m\u001b[0;34m)\u001b[0m\u001b[0;34m(\u001b[0m\u001b[0mreturns\u001b[0m\u001b[0;34m[\u001b[0m\u001b[0mcol\u001b[0m\u001b[0;34m]\u001b[0m\u001b[0;34m)\u001b[0m \u001b[0;32mfor\u001b[0m \u001b[0mcol\u001b[0m \u001b[0;32min\u001b[0m \u001b[0mtqdm\u001b[0m\u001b[0;34m(\u001b[0m\u001b[0mreturns\u001b[0m\u001b[0;34m.\u001b[0m\u001b[0mcolumns\u001b[0m\u001b[0;34m)\u001b[0m\u001b[0;34m)\u001b[0m\u001b[0;34m\u001b[0m\u001b[0;34m\u001b[0m\u001b[0m\n\u001b[0m\u001b[1;32m      4\u001b[0m \u001b[0;34m\u001b[0m\u001b[0m\n\u001b[1;32m      5\u001b[0m     \u001b[0;31m# 将结果合并为一个 DataFrame\u001b[0m\u001b[0;34m\u001b[0m\u001b[0;34m\u001b[0m\u001b[0m\n\u001b[1;32m      6\u001b[0m     \u001b[0mvolatilities\u001b[0m \u001b[0;34m=\u001b[0m \u001b[0mpd\u001b[0m\u001b[0;34m.\u001b[0m\u001b[0mconcat\u001b[0m\u001b[0;34m(\u001b[0m\u001b[0mresults\u001b[0m\u001b[0;34m,\u001b[0m \u001b[0maxis\u001b[0m\u001b[0;34m=\u001b[0m\u001b[0;36m1\u001b[0m\u001b[0;34m)\u001b[0m\u001b[0;34m\u001b[0m\u001b[0;34m\u001b[0m\u001b[0m\n",
      "\u001b[0;32m~/opt/anaconda3/lib/python3.9/site-packages/pandas/core/generic.py\u001b[0m in \u001b[0;36m?\u001b[0;34m(self, name)\u001b[0m\n\u001b[1;32m   5985\u001b[0m             \u001b[0;32mand\u001b[0m \u001b[0mname\u001b[0m \u001b[0;32mnot\u001b[0m \u001b[0;32min\u001b[0m \u001b[0mself\u001b[0m\u001b[0;34m.\u001b[0m\u001b[0m_accessors\u001b[0m\u001b[0;34m\u001b[0m\u001b[0;34m\u001b[0m\u001b[0m\n\u001b[1;32m   5986\u001b[0m             \u001b[0;32mand\u001b[0m \u001b[0mself\u001b[0m\u001b[0;34m.\u001b[0m\u001b[0m_info_axis\u001b[0m\u001b[0;34m.\u001b[0m\u001b[0m_can_hold_identifiers_and_holds_name\u001b[0m\u001b[0;34m(\u001b[0m\u001b[0mname\u001b[0m\u001b[0;34m)\u001b[0m\u001b[0;34m\u001b[0m\u001b[0;34m\u001b[0m\u001b[0m\n\u001b[1;32m   5987\u001b[0m         ):\n\u001b[1;32m   5988\u001b[0m             \u001b[0;32mreturn\u001b[0m \u001b[0mself\u001b[0m\u001b[0;34m[\u001b[0m\u001b[0mname\u001b[0m\u001b[0;34m]\u001b[0m\u001b[0;34m\u001b[0m\u001b[0;34m\u001b[0m\u001b[0m\n\u001b[0;32m-> 5989\u001b[0;31m         \u001b[0;32mreturn\u001b[0m \u001b[0mobject\u001b[0m\u001b[0;34m.\u001b[0m\u001b[0m__getattribute__\u001b[0m\u001b[0;34m(\u001b[0m\u001b[0mself\u001b[0m\u001b[0;34m,\u001b[0m \u001b[0mname\u001b[0m\u001b[0;34m)\u001b[0m\u001b[0;34m\u001b[0m\u001b[0;34m\u001b[0m\u001b[0m\n\u001b[0m",
      "\u001b[0;31mAttributeError\u001b[0m: 'Series' object has no attribute 'columns'"
     ]
    }
   ],
   "source": [
    "volatilities = estimate_volatility(a[1]*100.)"
   ]
  },
  {
   "cell_type": "markdown",
   "id": "94a400dd-88bd-4c1f-9a63-4bbd9ad4ac4d",
   "metadata": {},
   "source": [
    "## 分位数"
   ]
  },
  {
   "cell_type": "code",
   "execution_count": null,
   "id": "426ce9d1-ff68-4f08-bea0-9f9b47d08e23",
   "metadata": {
    "tags": []
   },
   "outputs": [],
   "source": [
    "quantile_close_df = pd.DataFrame()\n",
    "for i in range(5):\n",
    "    score = ESG_df['综合得分'].quantile(0.20*(i+1))\n",
    "    score2 = ESG_df['综合得分'].quantile(0.2*i)\n",
    "    cond = (ESG_df['综合得分']>=score2) * (ESG_df['综合得分']<=score)\n",
    "    num = ESG_df.loc[cond].shape[0]\n",
    "    print('分位数:', i+1, '数值:', score, '个数:', num)\n",
    "    quantile_close_df = close_df[ESG_df.loc[cond]['股票代码']].mean()\n",
    "    break"
   ]
  },
  {
   "cell_type": "code",
   "execution_count": null,
   "id": "8cf27803-9432-4e81-8225-d0ca3d6ae85d",
   "metadata": {
    "tags": []
   },
   "outputs": [],
   "source": [
    "quantile_close_df"
   ]
  },
  {
   "cell_type": "markdown",
   "id": "4d498d20-7a6c-4fd9-ad72-27593acad50b",
   "metadata": {},
   "source": [
    "## 合成5个ESG指数"
   ]
  },
  {
   "cell_type": "code",
   "execution_count": null,
   "id": "4a38dfa2-e2cb-4d1f-85af-1f33e6ae556d",
   "metadata": {
    "tags": []
   },
   "outputs": [],
   "source": [
    "import numpy as np\n",
    "vol_interday = calculate_volatility(open_df, high_df, low_df, close_df)\n",
    "vol_interday = vol_interday.ffill()\n",
    "# 控制缺失值的数量\n",
    "vol_interday = vol_interday.loc[:, (vol_interday.isnull().sum()>500) == False].dropna()\n",
    "vol_interday.shape"
   ]
  },
  {
   "cell_type": "markdown",
   "id": "79e89b22-daee-4fbf-8412-84a920c94333",
   "metadata": {},
   "source": [
    "### 数据平稳性检验和差分处理"
   ]
  },
  {
   "cell_type": "code",
   "execution_count": null,
   "id": "de5aa8b2-022d-415e-8716-9095460ce748",
   "metadata": {
    "collapsed": true,
    "jupyter": {
     "outputs_hidden": true
    },
    "tags": []
   },
   "outputs": [],
   "source": [
    "from statsmodels.tsa.stattools import adfuller\n",
    "from tqdm.notebook import tqdm\n",
    "adf_no_list = []\n",
    "def check_stationarity(series):\n",
    "    result = adfuller(series)\n",
    "    return result[1]  # 返回p值\n",
    "\n",
    "\n",
    "for col in tqdm(volatilities.columns):\n",
    "    p_value = check_stationarity(volatilities[col])\n",
    "    if p_value > 0.05:            # 如果p值大于0.05，进行差分\n",
    "        adf_no_list.append(col)\n",
    "print(len(adf_no_list))"
   ]
  },
  {
   "cell_type": "code",
   "execution_count": null,
   "id": "05d0a8ee-a65c-4985-8b74-e3021738875c",
   "metadata": {
    "tags": []
   },
   "outputs": [],
   "source": [
    "print(len(adf_no_list))"
   ]
  },
  {
   "cell_type": "markdown",
   "id": "122f1fb3-9b4c-45bc-859a-d82390ecef2b",
   "metadata": {},
   "source": [
    "### 波动率溢出指数"
   ]
  },
  {
   "cell_type": "markdown",
   "id": "af7cb275-afd0-47f6-b8b5-ee32f219f2bf",
   "metadata": {},
   "source": [
    "使用Diebold和Yilmaz的方法计算波动率溢出指数。该方法通过VAR（向量自回归）模型计算不同时间序列之间的波动率传递和溢出效应。\n"
   ]
  },
  {
   "cell_type": "code",
   "execution_count": null,
   "id": "37c8c63d-a66e-4160-8419-f775735af507",
   "metadata": {
    "tags": []
   },
   "outputs": [],
   "source": [
    "volatilities = volatilities.drop(adf_no_list, axis=1)\n",
    "volatilities.shape"
   ]
  },
  {
   "cell_type": "code",
   "execution_count": null,
   "id": "cf44f663-5e0e-4bf4-89aa-fc2e3ff49f92",
   "metadata": {
    "tags": []
   },
   "outputs": [],
   "source": [
    "# 查找全是常数的列\n",
    "constant_columns = [col for col in volatilities.columns if volatilities[col].nunique() < 100]\n",
    "constant_columns"
   ]
  },
  {
   "cell_type": "code",
   "execution_count": null,
   "id": "912023b3-a4d6-4ae0-82b1-eda666308d75",
   "metadata": {
    "tags": []
   },
   "outputs": [],
   "source": [
    "# 删除全是常数的列\n",
    "volatilities = volatilities.drop(columns=constant_columns)"
   ]
  },
  {
   "cell_type": "code",
   "execution_count": null,
   "id": "fa0508d9-87a7-432e-9b4e-c05715a7d3cb",
   "metadata": {
    "tags": []
   },
   "outputs": [],
   "source": [
    "volatilities = volatilities.iloc[:252, :300]\n",
    "volatilities.to_csv('datasets/processed_data/volatilities.csv')"
   ]
  },
  {
   "cell_type": "code",
   "execution_count": null,
   "id": "5b33f0c8-97b5-47c8-ac98-cad7d9d1a29e",
   "metadata": {
    "tags": []
   },
   "outputs": [],
   "source": [
    "from statsmodels.tsa.api import VAR\n",
    "model = VAR(volatilities)\n",
    "results = model.fit(maxlags=5)\n",
    "H=5"
   ]
  },
  {
   "cell_type": "code",
   "execution_count": null,
   "id": "6c2c2a0a-2c30-4f97-bd97-d33c3fb54acd",
   "metadata": {
    "tags": []
   },
   "outputs": [],
   "source": [
    "from tqdm import tqdm\n",
    "# 获取模型残差的协方差矩阵及其逆矩阵\n",
    "sigma_u = results.sigma_u\n",
    "sigma_u_inv = np.linalg.inv(sigma_u)\n",
    "\n",
    "# 计算 GFEVD\n",
    "def compute_gfevd(H, A, sigma_u, sigma_u_inv):\n",
    "    n_vars = A.shape[1]\n",
    "    gfevd = np.zeros((n_vars, n_vars))\n",
    "    e = np.eye(n_vars)\n",
    "    \n",
    "    for i in tqdm(range(n_vars)):\n",
    "        for j in range(n_vars):\n",
    "            num = sigma_u_inv[j, j] * np.sum([(e[i].T @ A[h] @ sigma_u @ e[j]) ** 2 for h in range(H)]) \n",
    "            den = np.sum([(e[i].T @ A[h] @ sigma_u @ A[h].T @ e[i]) for h in range(H)])\n",
    "            gfevd[i, j] = num / den\n",
    "    return gfevd\n"
   ]
  },
  {
   "cell_type": "code",
   "execution_count": null,
   "id": "ac5b5533-de19-4ab4-9d20-89d4ce3e821d",
   "metadata": {
    "tags": []
   },
   "outputs": [],
   "source": [
    "MA_A = results.ma_rep(maxn=5)"
   ]
  },
  {
   "cell_type": "code",
   "execution_count": null,
   "id": "6a44d49a-f053-47ff-8179-eeb08170fd07",
   "metadata": {
    "tags": []
   },
   "outputs": [],
   "source": [
    "# 计算 GFEVD\n",
    "gfevd = compute_gfevd(H, MA_A, sigma_u, sigma_u_inv)\n",
    "\n",
    "gfevd = pd.DataFrame(gfevd[:,:], index=volatilities.columns,\n",
    "             columns=volatilities.columns)\n",
    "\n",
    "gfevd"
   ]
  },
  {
   "cell_type": "code",
   "execution_count": null,
   "id": "d5ea082e-b2cb-490c-b104-47d61b081411",
   "metadata": {
    "tags": []
   },
   "outputs": [],
   "source": [
    "a = gfevd/10e14\n",
    "plt.hist(a.values.ravel())"
   ]
  },
  {
   "cell_type": "markdown",
   "id": "1b81d249-aee8-40bc-ab50-32808f5b9178",
   "metadata": {},
   "source": [
    "### 归一化"
   ]
  },
  {
   "cell_type": "code",
   "execution_count": null,
   "id": "ae62d687-11e8-41f6-9405-c10a0f9f5eb2",
   "metadata": {
    "tags": []
   },
   "outputs": [],
   "source": [
    "def scale_one(df):\n",
    "    # j 归一化\n",
    "    s1 = df.values\n",
    "    s2 = df.values.sum(axis=1)\n",
    "    s3 = (s1.T/s2).T\n",
    "    return pd.DataFrame(s3, index=df.index, columns=df.index)"
   ]
  },
  {
   "cell_type": "code",
   "execution_count": null,
   "id": "5b0d44f9-5aeb-47fa-aedc-0e24a0045342",
   "metadata": {
    "tags": []
   },
   "outputs": [],
   "source": [
    "spillover_matrix = scale_one(gfevd)\n",
    "spillover_matrix"
   ]
  },
  {
   "cell_type": "code",
   "execution_count": null,
   "id": "bd32cfef-308b-4fa0-aa8a-da4a3a47c62b",
   "metadata": {
    "tags": []
   },
   "outputs": [],
   "source": [
    "import pandas as pd\n",
    "path='datasets/华证2009-2023年（含细分项+季度)）/华证esg评级2009-2023（细分项）/华证esg评级含细分项（年度）2009-2023.xlsx'\n",
    "ESG_df = pd.read_excel(path, dtype={'股票代码':str})\n",
    "ESG_df['股票代码'] = ESG_df['股票代码'].str.zfill(6)\n",
    "ESG_df.head(1)"
   ]
  },
  {
   "cell_type": "code",
   "execution_count": null,
   "id": "bb5f2e72-24e7-40c0-a951-c196e8cdd58d",
   "metadata": {
    "tags": []
   },
   "outputs": [],
   "source": [
    "ESG = ESG_df[['股票代码', '综合得分']].groupby('股票代码').mean()"
   ]
  },
  {
   "cell_type": "code",
   "execution_count": null,
   "id": "5b94ff4b-c225-433c-9779-ba54e6cb6a37",
   "metadata": {
    "tags": []
   },
   "outputs": [],
   "source": [
    "df = pd.DataFrame((gfevd/10e14).sum(axis=0), columns=['spillover'])\n",
    "df['ESG_Score'] = ESG\n",
    "df"
   ]
  },
  {
   "cell_type": "code",
   "execution_count": null,
   "id": "e401a4d1-37fb-4783-ab2c-6df4c46f333f",
   "metadata": {
    "tags": []
   },
   "outputs": [],
   "source": [
    "df.plot(kind='scatter', x='ESG_Score', y='spillover')"
   ]
  },
  {
   "cell_type": "code",
   "execution_count": null,
   "id": "a0a4f197-6d28-4165-a300-018fa775bcb5",
   "metadata": {
    "tags": []
   },
   "outputs": [],
   "source": [
    "import pandas as pd\n",
    "import matplotlib.pyplot as plt\n",
    "from scipy.stats import pearsonr\n",
    "import statsmodels.api as sm"
   ]
  },
  {
   "cell_type": "code",
   "execution_count": null,
   "id": "e7163c6c-3958-4c35-9240-c4728064801d",
   "metadata": {
    "tags": []
   },
   "outputs": [],
   "source": [
    "# 计算皮尔逊相关系数\n",
    "corr, p_value = pearsonr(df['spillover'], df['ESG_Score'])\n",
    "print(f\"Pearson correlation coefficient: {corr:.4f}, P-value: {p_value:.4f}\")"
   ]
  },
  {
   "cell_type": "code",
   "execution_count": null,
   "id": "89ee4ac7-fc4b-49ef-a584-c413940bc38d",
   "metadata": {
    "tags": []
   },
   "outputs": [],
   "source": [
    "import pandas as pd\n",
    "import matplotlib.pyplot as plt\n",
    "from scipy.stats import pearsonr\n",
    "import statsmodels.api as sm\n",
    "\n",
    "X = df['spillover']\n",
    "y = df['ESG_Score']\n",
    "X = sm.add_constant(X)  # 添加常数项\n",
    "model = sm.OLS(y, X).fit()\n",
    "print(model.summary())"
   ]
  },
  {
   "cell_type": "markdown",
   "id": "0f529e52-ba68-4101-880e-5b6d4afc0e48",
   "metadata": {},
   "source": [
    "### 净溢出"
   ]
  },
  {
   "cell_type": "markdown",
   "id": "ec1e8fc5-6ced-4d69-8454-0154af270f26",
   "metadata": {},
   "source": [
    "检查是否需要标准化"
   ]
  },
  {
   "cell_type": "code",
   "execution_count": null,
   "id": "516c653c-5577-4bcc-9558-20c4f761729f",
   "metadata": {
    "tags": []
   },
   "outputs": [],
   "source": [
    "spillover_matrix.sum().sum() "
   ]
  },
  {
   "cell_type": "code",
   "execution_count": null,
   "id": "ac927fe6-999c-4c99-b711-0b3a315c6b44",
   "metadata": {
    "tags": []
   },
   "outputs": [],
   "source": [
    "net_spillover_matrix = spillover_matrix.copy() * 0.\n",
    "for i in spillover_matrix.index:\n",
    "    for j in spillover_matrix.columns:\n",
    "        net = spillover_matrix.loc[i,j] - spillover_matrix.loc[j,i]\n",
    "        if net >= 0:\n",
    "            net_spillover_matrix.loc[i,j] = net\n",
    "        else:\n",
    "            net_spillover_matrix.loc[j,i] = -1 * net"
   ]
  },
  {
   "cell_type": "markdown",
   "id": "6d8d7a57-ede4-4038-886d-544c908f7988",
   "metadata": {},
   "source": [
    "### 热力图"
   ]
  },
  {
   "cell_type": "code",
   "execution_count": null,
   "id": "98ff3deb-3b26-40ff-856e-143525cd8da7",
   "metadata": {
    "tags": []
   },
   "outputs": [],
   "source": [
    "import seaborn as sns\n",
    "import matplotlib.pyplot as plt\n",
    "from matplotlib_inline import backend_inline\n",
    "backend_inline.set_matplotlib_formats('svg') \n",
    "\n",
    "sns.heatmap(net_spillover_matrix, annot=True, fmt=\".3f\", cmap=\"YlGnBu\")\n",
    "\n",
    "plt.title(\"Net Spillover Matrices\")\n",
    "\n",
    "plt.show()\n"
   ]
  },
  {
   "cell_type": "code",
   "execution_count": null,
   "id": "49c39140-05d7-4111-8ee9-f3638a5fae3a",
   "metadata": {
    "tags": []
   },
   "outputs": [],
   "source": [
    "import pandas as pd\n",
    "net_spillover_matrix = pd.read_csv('bb.csv', index_col=0, dtype={'code':str})\n",
    "net_spillover_matrix = net_spillover_matrix.iloc[:100, :100]"
   ]
  },
  {
   "cell_type": "markdown",
   "id": "a9691b37-a940-4768-b2fe-c8ca26e13ad3",
   "metadata": {},
   "source": [
    "## 构建溢出网络\n",
    "\n",
    "根据计算得到的溢出指数，构建各个股票网络之间的溢出矩阵。\n"
   ]
  },
  {
   "cell_type": "markdown",
   "id": "abe4855c-5828-46fa-9f1b-6a02c02e07de",
   "metadata": {},
   "source": [
    "将溢出矩阵转换为图网络，节点代表股票，边的权重代表波动率溢出的强度。\n"
   ]
  },
  {
   "cell_type": "code",
   "execution_count": null,
   "id": "ae181cb9-f90e-4617-ba1a-a3cabeb6db98",
   "metadata": {},
   "outputs": [],
   "source": [
    "import networkx as nx\n",
    "import matplotlib.pyplot as plt\n",
    "from tqdm.notebook import tqdm\n",
    "\n",
    "def build_spillover_network(spillover_matrix):\n",
    "    G = nx.DiGraph()\n",
    "    num_nodes = spillover_matrix.shape[0]\n",
    "    for i in tqdm(spillover_matrix.index):\n",
    "        for j in spillover_matrix.columns:\n",
    "            if i != j:\n",
    "                G.add_edge(i, j, weight=spillover_matrix.loc[i, j])\n",
    "    return G\n",
    "\n",
    "G = build_spillover_network(net_spillover_matrix)\n"
   ]
  },
  {
   "cell_type": "code",
   "execution_count": null,
   "id": "4676126a-2cf7-4992-8f30-ab911bb4f4b6",
   "metadata": {
    "tags": []
   },
   "outputs": [],
   "source": [
    "import seaborn as sns\n",
    "# 使用Seaborn的调色板生成九种颜色\n",
    "palette = sns.color_palette(\"husl\", 9)\n",
    "# 转换为十六进制颜色代码\n",
    "colors_list = [sns.desaturate(color, 0.8) for color in palette]"
   ]
  },
  {
   "cell_type": "code",
   "execution_count": null,
   "id": "66cc5afe-cc09-443d-842b-1c9268be1200",
   "metadata": {
    "tags": []
   },
   "outputs": [],
   "source": [
    "# import matplotlib.patches as mpatches\n",
    "# ESG_rate = np.array(['AAA', 'AA', 'A', 'BBB', 'BB', 'B', 'CCC', 'CC', 'C'])\n",
    "# node_colors = []\n",
    "# used_rate = set()\n",
    "# for code in net_spillover_matrix.index:\n",
    "#     a = ESG_df.loc[ESG_df['证券代码'] == str(code), 'ESG评级'].values[0]\n",
    "#     loc = np.where(ESG_rate == str(a))[0][0]\n",
    "#     node_colors.append(colors_list[loc])\n",
    "#     used_rate.add(loc)\n",
    "# legend_color = []\n",
    "# for c in used_rate:\n",
    "#     legend_color.append(mpatches.Patch(color=colors_list[c], label=ESG_rate[c]))"
   ]
  },
  {
   "cell_type": "code",
   "execution_count": null,
   "id": "04909476-38e4-45c1-bc80-7fc2fd7f58ae",
   "metadata": {
    "tags": []
   },
   "outputs": [],
   "source": [
    "import numpy as np\n",
    "# 定义边的权重\n",
    "edge_weights = []\n",
    "for u, v in G.edges():\n",
    "    if G[u][v]['weight'] == 0:\n",
    "        edge_weights.append(np.nan)\n",
    "    else:\n",
    "        if np.abs(G[u][v]['weight']*20 )/10>10:\n",
    "            edge_weights.append(np.abs(G[u][v]['weight']*20 )/10)\n",
    "        else:\n",
    "            edge_weights.append(np.nan)"
   ]
  },
  {
   "cell_type": "code",
   "execution_count": null,
   "id": "f7b779f7-2c91-4f72-8250-ab93899b4092",
   "metadata": {
    "tags": []
   },
   "outputs": [],
   "source": [
    "(~np.isnan(edge_weights)).sum()"
   ]
  },
  {
   "cell_type": "code",
   "execution_count": null,
   "id": "3b7321cf-e859-4804-9f0c-ee0c5d9b6d7d",
   "metadata": {
    "tags": []
   },
   "outputs": [],
   "source": [
    "import matplotlib.cm as cm\n",
    "plt.figure(figsize=(6, 6))  \n",
    "pos = nx.spring_layout(G)  # 使用弹簧布局\n",
    "\n",
    "#node_style = { 'node_size': 100, 'alpha': 0.8} #'node_color': node_colors,\n",
    "edge_style = {'width': edge_weights, 'alpha': 0.5} #'edge_color': 'gray', \n",
    "nx.draw(G,\n",
    "        pos=pos,\n",
    "        with_labels=False, \n",
    "        font_size=6,\n",
    "        font_color='black',\n",
    "        font_weight='bold',\n",
    "        arrows=True,\n",
    "        arrowsize=8,\n",
    "        #**node_style,\n",
    "        **edge_style\n",
    "       )\n",
    "\n",
    "#plt.legend(handles=legend_color, loc='best')"
   ]
  },
  {
   "cell_type": "code",
   "execution_count": null,
   "id": "53947bb0-fbd1-4360-8b7a-d3e7d5419b32",
   "metadata": {},
   "outputs": [],
   "source": [
    "sns.clustermap(net_spillover_matrix)"
   ]
  },
  {
   "cell_type": "code",
   "execution_count": null,
   "id": "d9177aaf-17fc-4b7e-b142-b825b3490e95",
   "metadata": {},
   "outputs": [],
   "source": []
  }
 ],
 "metadata": {
  "kernelspec": {
   "display_name": "Python 3 (ipykernel)",
   "language": "python",
   "name": "python3"
  },
  "language_info": {
   "codemirror_mode": {
    "name": "ipython",
    "version": 3
   },
   "file_extension": ".py",
   "mimetype": "text/x-python",
   "name": "python",
   "nbconvert_exporter": "python",
   "pygments_lexer": "ipython3",
   "version": "3.9.17"
  }
 },
 "nbformat": 4,
 "nbformat_minor": 5
}
