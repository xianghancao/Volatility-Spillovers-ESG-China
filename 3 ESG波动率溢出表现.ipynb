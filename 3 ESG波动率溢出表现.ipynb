{
 "cells": [
  {
   "cell_type": "markdown",
   "id": "e017fbc3-d331-441b-b68d-fb862fe30845",
   "metadata": {},
   "source": [
    "# Spillover effect measures for ESG groups"
   ]
  },
  {
   "cell_type": "markdown",
   "id": "34c183c4-c039-4807-a8ea-1d1ac2a6460a",
   "metadata": {},
   "source": [
    "<div class=\"alert alert-info\">\n",
    "使用分位数来进行ESG分组，然后构建每组的ESG指数，再进行波动率溢出效应的度量，构建波动溢出网络。\n",
    "    \n",
    "步骤：\n",
    "1. 将股票和ESG数据都做成面板数据（季度）\n",
    "2. \n",
    "    \n",
    "Draft: 2024.9.1 Updated:2024.9.4 Version: 0.0.3\n",
    "</div>\n"
   ]
  },
  {
   "cell_type": "markdown",
   "id": "2b3c4796-f0c1-4bc7-8ff2-2619c901d66d",
   "metadata": {},
   "source": [
    "## Processing"
   ]
  },
  {
   "cell_type": "markdown",
   "id": "767f5ae6-2140-47a2-bccf-a986fb2fcb06",
   "metadata": {},
   "source": [
    "### Price data"
   ]
  },
  {
   "cell_type": "markdown",
   "id": "2fb5c35f-06ee-4218-ad5b-b46caaf053d4",
   "metadata": {},
   "source": [
    "价格数据的频率为日频，2212个股票"
   ]
  },
  {
   "cell_type": "code",
   "execution_count": 54,
   "id": "85e9bb8c-02d2-4795-940c-5751f6b47d08",
   "metadata": {
    "tags": []
   },
   "outputs": [
    {
     "name": "stdout",
     "output_type": "stream",
     "text": [
      "(3504, 2212)\n"
     ]
    },
    {
     "data": {
      "text/html": [
       "<div>\n",
       "<style scoped>\n",
       "    .dataframe tbody tr th:only-of-type {\n",
       "        vertical-align: middle;\n",
       "    }\n",
       "\n",
       "    .dataframe tbody tr th {\n",
       "        vertical-align: top;\n",
       "    }\n",
       "\n",
       "    .dataframe thead th {\n",
       "        text-align: right;\n",
       "    }\n",
       "</style>\n",
       "<table border=\"1\" class=\"dataframe\">\n",
       "  <thead>\n",
       "    <tr style=\"text-align: right;\">\n",
       "      <th></th>\n",
       "      <th>000001</th>\n",
       "      <th>000002</th>\n",
       "      <th>000004</th>\n",
       "      <th>000005</th>\n",
       "      <th>000006</th>\n",
       "      <th>000007</th>\n",
       "      <th>000008</th>\n",
       "      <th>000009</th>\n",
       "      <th>000010</th>\n",
       "      <th>000011</th>\n",
       "      <th>...</th>\n",
       "      <th>601933</th>\n",
       "      <th>601939</th>\n",
       "      <th>601958</th>\n",
       "      <th>601988</th>\n",
       "      <th>601989</th>\n",
       "      <th>601991</th>\n",
       "      <th>601992</th>\n",
       "      <th>601996</th>\n",
       "      <th>601998</th>\n",
       "      <th>601999</th>\n",
       "    </tr>\n",
       "    <tr>\n",
       "      <th>time</th>\n",
       "      <th></th>\n",
       "      <th></th>\n",
       "      <th></th>\n",
       "      <th></th>\n",
       "      <th></th>\n",
       "      <th></th>\n",
       "      <th></th>\n",
       "      <th></th>\n",
       "      <th></th>\n",
       "      <th></th>\n",
       "      <th></th>\n",
       "      <th></th>\n",
       "      <th></th>\n",
       "      <th></th>\n",
       "      <th></th>\n",
       "      <th></th>\n",
       "      <th></th>\n",
       "      <th></th>\n",
       "      <th></th>\n",
       "      <th></th>\n",
       "      <th></th>\n",
       "    </tr>\n",
       "  </thead>\n",
       "  <tbody>\n",
       "    <tr>\n",
       "      <th>2010-01-04</th>\n",
       "      <td>926.73</td>\n",
       "      <td>1091.9</td>\n",
       "      <td>NaN</td>\n",
       "      <td>61.24</td>\n",
       "      <td>158.64</td>\n",
       "      <td>55.68</td>\n",
       "      <td>NaN</td>\n",
       "      <td>47.34</td>\n",
       "      <td>39.24</td>\n",
       "      <td>35.42</td>\n",
       "      <td>...</td>\n",
       "      <td>NaN</td>\n",
       "      <td>6.42</td>\n",
       "      <td>23.12</td>\n",
       "      <td>4.56</td>\n",
       "      <td>7.63</td>\n",
       "      <td>18.49</td>\n",
       "      <td>NaN</td>\n",
       "      <td>NaN</td>\n",
       "      <td>8.26</td>\n",
       "      <td>11.42</td>\n",
       "    </tr>\n",
       "  </tbody>\n",
       "</table>\n",
       "<p>1 rows × 2212 columns</p>\n",
       "</div>"
      ],
      "text/plain": [
       "            000001  000002  000004  000005  000006  000007  000008  000009  \\\n",
       "time                                                                         \n",
       "2010-01-04  926.73  1091.9     NaN   61.24  158.64   55.68     NaN   47.34   \n",
       "\n",
       "            000010  000011  ...  601933  601939  601958  601988  601989  \\\n",
       "time                        ...                                           \n",
       "2010-01-04   39.24   35.42  ...     NaN    6.42   23.12    4.56    7.63   \n",
       "\n",
       "            601991  601992  601996  601998  601999  \n",
       "time                                                \n",
       "2010-01-04   18.49     NaN     NaN    8.26   11.42  \n",
       "\n",
       "[1 rows x 2212 columns]"
      ]
     },
     "execution_count": 54,
     "metadata": {},
     "output_type": "execute_result"
    }
   ],
   "source": [
    "import pandas as pd\n",
    "import numpy as np\n",
    "df_prices = pd.read_csv('datasets/processed_data/close.csv')\n",
    "df_prices.index = pd.to_datetime(df_prices['time'])\n",
    "df_prices = df_prices.iloc[:, 1:]\n",
    "print(df_prices.shape)\n",
    "df_prices.head(1)"
   ]
  },
  {
   "cell_type": "markdown",
   "id": "1b2ca6e6-c08e-4468-9e68-8ab4a1c5452f",
   "metadata": {},
   "source": [
    "### ESG data"
   ]
  },
  {
   "cell_type": "code",
   "execution_count": 2,
   "id": "0e2eb35e-afd4-4542-a7dd-8eee57272798",
   "metadata": {
    "tags": []
   },
   "outputs": [
    {
     "data": {
      "text/html": [
       "<div>\n",
       "<style scoped>\n",
       "    .dataframe tbody tr th:only-of-type {\n",
       "        vertical-align: middle;\n",
       "    }\n",
       "\n",
       "    .dataframe tbody tr th {\n",
       "        vertical-align: top;\n",
       "    }\n",
       "\n",
       "    .dataframe thead th {\n",
       "        text-align: right;\n",
       "    }\n",
       "</style>\n",
       "<table border=\"1\" class=\"dataframe\">\n",
       "  <thead>\n",
       "    <tr style=\"text-align: right;\">\n",
       "      <th></th>\n",
       "      <th>证券代码</th>\n",
       "      <th>年份</th>\n",
       "      <th>证券简称</th>\n",
       "      <th>评级日期</th>\n",
       "      <th>综合评级</th>\n",
       "      <th>综合得分</th>\n",
       "      <th>E评级</th>\n",
       "      <th>E得分</th>\n",
       "      <th>S评级</th>\n",
       "      <th>S得分</th>\n",
       "      <th>G评级</th>\n",
       "      <th>G得分</th>\n",
       "      <th>证监会行业新</th>\n",
       "      <th>同花顺行业新</th>\n",
       "      <th>申万行业</th>\n",
       "    </tr>\n",
       "  </thead>\n",
       "  <tbody>\n",
       "    <tr>\n",
       "      <th>0</th>\n",
       "      <td>1</td>\n",
       "      <td>2009</td>\n",
       "      <td>平安银行</td>\n",
       "      <td>1/31/2009</td>\n",
       "      <td>BBB</td>\n",
       "      <td>82.56</td>\n",
       "      <td>B</td>\n",
       "      <td>72.98</td>\n",
       "      <td>BBB</td>\n",
       "      <td>80.26</td>\n",
       "      <td>A</td>\n",
       "      <td>88.73</td>\n",
       "      <td>货币金融服务</td>\n",
       "      <td>股份制银行</td>\n",
       "      <td>股份制银行Ⅲ</td>\n",
       "    </tr>\n",
       "  </tbody>\n",
       "</table>\n",
       "</div>"
      ],
      "text/plain": [
       "  证券代码    年份  证券简称       评级日期 综合评级   综合得分 E评级    E得分  S评级    S得分 G评级    G得分  \\\n",
       "0    1  2009  平安银行  1/31/2009  BBB  82.56   B  72.98  BBB  80.26   A  88.73   \n",
       "\n",
       "   证监会行业新 同花顺行业新    申万行业  \n",
       "0  货币金融服务  股份制银行  股份制银行Ⅲ  "
      ]
     },
     "execution_count": 2,
     "metadata": {},
     "output_type": "execute_result"
    }
   ],
   "source": [
    "import pandas as pd\n",
    "path='datasets/华证2009-2023年（含细分项+季度)）/华证esg评级2009-2023（细分项）/华证esg评级含细分项（季度）2009-2023.xlsx'\n",
    "df_esg = pd.read_excel(path, dtype={'证券代码':str})\n"
   ]
  },
  {
   "cell_type": "markdown",
   "id": "c8d100de-b86d-4ed4-8ca9-b7e902983b23",
   "metadata": {},
   "source": [
    "1. 处理证券代码不全；\n",
    "2. 处理评级日期格式为datetime格式"
   ]
  },
  {
   "cell_type": "code",
   "execution_count": 24,
   "id": "06e9faed-c605-4146-8a40-1b178eb0629e",
   "metadata": {
    "tags": []
   },
   "outputs": [
    {
     "data": {
      "text/html": [
       "<div>\n",
       "<style scoped>\n",
       "    .dataframe tbody tr th:only-of-type {\n",
       "        vertical-align: middle;\n",
       "    }\n",
       "\n",
       "    .dataframe tbody tr th {\n",
       "        vertical-align: top;\n",
       "    }\n",
       "\n",
       "    .dataframe thead th {\n",
       "        text-align: right;\n",
       "    }\n",
       "</style>\n",
       "<table border=\"1\" class=\"dataframe\">\n",
       "  <thead>\n",
       "    <tr style=\"text-align: right;\">\n",
       "      <th></th>\n",
       "      <th>证券代码</th>\n",
       "      <th>年份</th>\n",
       "      <th>证券简称</th>\n",
       "      <th>评级日期</th>\n",
       "      <th>综合评级</th>\n",
       "      <th>综合得分</th>\n",
       "      <th>E评级</th>\n",
       "      <th>E得分</th>\n",
       "      <th>S评级</th>\n",
       "      <th>S得分</th>\n",
       "      <th>G评级</th>\n",
       "      <th>G得分</th>\n",
       "      <th>证监会行业新</th>\n",
       "      <th>同花顺行业新</th>\n",
       "      <th>申万行业</th>\n",
       "    </tr>\n",
       "    <tr>\n",
       "      <th>评级日期</th>\n",
       "      <th></th>\n",
       "      <th></th>\n",
       "      <th></th>\n",
       "      <th></th>\n",
       "      <th></th>\n",
       "      <th></th>\n",
       "      <th></th>\n",
       "      <th></th>\n",
       "      <th></th>\n",
       "      <th></th>\n",
       "      <th></th>\n",
       "      <th></th>\n",
       "      <th></th>\n",
       "      <th></th>\n",
       "      <th></th>\n",
       "    </tr>\n",
       "  </thead>\n",
       "  <tbody>\n",
       "    <tr>\n",
       "      <th>2009-01-31</th>\n",
       "      <td>000001</td>\n",
       "      <td>2009</td>\n",
       "      <td>平安银行</td>\n",
       "      <td>2009-01-31</td>\n",
       "      <td>BBB</td>\n",
       "      <td>82.56</td>\n",
       "      <td>B</td>\n",
       "      <td>72.98</td>\n",
       "      <td>BBB</td>\n",
       "      <td>80.26</td>\n",
       "      <td>A</td>\n",
       "      <td>88.73</td>\n",
       "      <td>货币金融服务</td>\n",
       "      <td>股份制银行</td>\n",
       "      <td>股份制银行Ⅲ</td>\n",
       "    </tr>\n",
       "  </tbody>\n",
       "</table>\n",
       "</div>"
      ],
      "text/plain": [
       "              证券代码    年份  证券简称       评级日期 综合评级   综合得分 E评级    E得分  S评级    S得分  \\\n",
       "评级日期                                                                           \n",
       "2009-01-31  000001  2009  平安银行 2009-01-31  BBB  82.56   B  72.98  BBB  80.26   \n",
       "\n",
       "           G评级    G得分  证监会行业新 同花顺行业新    申万行业  \n",
       "评级日期                                          \n",
       "2009-01-31   A  88.73  货币金融服务  股份制银行  股份制银行Ⅲ  "
      ]
     },
     "execution_count": 24,
     "metadata": {},
     "output_type": "execute_result"
    }
   ],
   "source": [
    "df_esg['证券代码'] = df_esg['证券代码'].str.zfill(6).astype(str)\n",
    "df_esg['评级日期'] = pd.to_datetime(df_esg['评级日期'])\n",
    "df_esg.index = df_esg['评级日期']\n",
    "df_esg.head(1)"
   ]
  },
  {
   "cell_type": "markdown",
   "id": "d70421d7-8eb2-407d-b4a9-cec33b56f226",
   "metadata": {},
   "source": [
    "观察日期序列，为4个季度的最后一个自然日，非交易日"
   ]
  },
  {
   "cell_type": "code",
   "execution_count": 25,
   "id": "3f31f5ee-c2dc-4af9-9f0e-c6591e15db62",
   "metadata": {
    "tags": []
   },
   "outputs": [
    {
     "data": {
      "text/plain": [
       "DatetimeIndex(['2009-01-31', '2009-04-30', '2009-07-31', '2009-10-31',\n",
       "               '2010-01-31', '2010-04-30', '2010-07-31', '2010-10-31',\n",
       "               '2011-01-31', '2011-04-30', '2011-07-31', '2011-10-31',\n",
       "               '2012-01-31', '2012-04-30', '2012-07-31', '2012-10-31',\n",
       "               '2013-01-31', '2013-04-30', '2013-07-31', '2013-10-31',\n",
       "               '2014-01-31', '2014-04-30', '2014-07-31', '2014-10-31',\n",
       "               '2015-01-31', '2015-04-30', '2015-07-31', '2015-10-31',\n",
       "               '2016-01-31', '2016-04-30', '2016-07-31', '2016-10-31',\n",
       "               '2017-01-31', '2017-04-30', '2017-07-31', '2017-10-31',\n",
       "               '2018-01-31', '2018-04-30', '2018-07-31', '2018-10-31',\n",
       "               '2019-01-31', '2019-04-30', '2019-07-31', '2019-10-31',\n",
       "               '2020-01-31', '2020-04-30', '2020-07-31', '2020-10-31',\n",
       "               '2021-01-31', '2021-04-30', '2021-07-31', '2021-10-31',\n",
       "               '2022-01-31', '2022-04-30', '2022-07-31', '2022-10-31',\n",
       "               '2023-01-31', '2023-04-30', '2023-07-31', '2023-10-31'],\n",
       "              dtype='datetime64[ns]', name='评级日期', freq=None)"
      ]
     },
     "execution_count": 25,
     "metadata": {},
     "output_type": "execute_result"
    }
   ],
   "source": [
    "df_esg.index.unique()"
   ]
  },
  {
   "cell_type": "code",
   "execution_count": 27,
   "id": "68df0eaf-579b-4820-bd8e-f85d16389697",
   "metadata": {
    "tags": []
   },
   "outputs": [
    {
     "data": {
      "text/html": [
       "<div>\n",
       "<style scoped>\n",
       "    .dataframe tbody tr th:only-of-type {\n",
       "        vertical-align: middle;\n",
       "    }\n",
       "\n",
       "    .dataframe tbody tr th {\n",
       "        vertical-align: top;\n",
       "    }\n",
       "\n",
       "    .dataframe thead th {\n",
       "        text-align: right;\n",
       "    }\n",
       "</style>\n",
       "<table border=\"1\" class=\"dataframe\">\n",
       "  <thead>\n",
       "    <tr style=\"text-align: right;\">\n",
       "      <th>证券代码</th>\n",
       "      <th>000001</th>\n",
       "      <th>000002</th>\n",
       "      <th>000004</th>\n",
       "      <th>000005</th>\n",
       "      <th>000006</th>\n",
       "      <th>000007</th>\n",
       "      <th>000008</th>\n",
       "      <th>000009</th>\n",
       "      <th>000010</th>\n",
       "      <th>000011</th>\n",
       "      <th>...</th>\n",
       "      <th>873169</th>\n",
       "      <th>873223</th>\n",
       "      <th>873305</th>\n",
       "      <th>873339</th>\n",
       "      <th>873527</th>\n",
       "      <th>873576</th>\n",
       "      <th>873593</th>\n",
       "      <th>873665</th>\n",
       "      <th>873693</th>\n",
       "      <th>873726</th>\n",
       "    </tr>\n",
       "    <tr>\n",
       "      <th>评级日期</th>\n",
       "      <th></th>\n",
       "      <th></th>\n",
       "      <th></th>\n",
       "      <th></th>\n",
       "      <th></th>\n",
       "      <th></th>\n",
       "      <th></th>\n",
       "      <th></th>\n",
       "      <th></th>\n",
       "      <th></th>\n",
       "      <th></th>\n",
       "      <th></th>\n",
       "      <th></th>\n",
       "      <th></th>\n",
       "      <th></th>\n",
       "      <th></th>\n",
       "      <th></th>\n",
       "      <th></th>\n",
       "      <th></th>\n",
       "      <th></th>\n",
       "      <th></th>\n",
       "    </tr>\n",
       "  </thead>\n",
       "  <tbody>\n",
       "    <tr>\n",
       "      <th>2009-01-31</th>\n",
       "      <td>BBB</td>\n",
       "      <td>BBB</td>\n",
       "      <td>CCC</td>\n",
       "      <td>CCC</td>\n",
       "      <td>BB</td>\n",
       "      <td>B</td>\n",
       "      <td>B</td>\n",
       "      <td>B</td>\n",
       "      <td>C</td>\n",
       "      <td>BB</td>\n",
       "      <td>...</td>\n",
       "      <td>NaN</td>\n",
       "      <td>NaN</td>\n",
       "      <td>NaN</td>\n",
       "      <td>NaN</td>\n",
       "      <td>NaN</td>\n",
       "      <td>NaN</td>\n",
       "      <td>NaN</td>\n",
       "      <td>NaN</td>\n",
       "      <td>NaN</td>\n",
       "      <td>NaN</td>\n",
       "    </tr>\n",
       "    <tr>\n",
       "      <th>2009-04-30</th>\n",
       "      <td>BBB</td>\n",
       "      <td>BB</td>\n",
       "      <td>CCC</td>\n",
       "      <td>CCC</td>\n",
       "      <td>BBB</td>\n",
       "      <td>B</td>\n",
       "      <td>B</td>\n",
       "      <td>BB</td>\n",
       "      <td>CC</td>\n",
       "      <td>B</td>\n",
       "      <td>...</td>\n",
       "      <td>NaN</td>\n",
       "      <td>NaN</td>\n",
       "      <td>NaN</td>\n",
       "      <td>NaN</td>\n",
       "      <td>NaN</td>\n",
       "      <td>NaN</td>\n",
       "      <td>NaN</td>\n",
       "      <td>NaN</td>\n",
       "      <td>NaN</td>\n",
       "      <td>NaN</td>\n",
       "    </tr>\n",
       "    <tr>\n",
       "      <th>2009-07-31</th>\n",
       "      <td>BBB</td>\n",
       "      <td>BB</td>\n",
       "      <td>CCC</td>\n",
       "      <td>CCC</td>\n",
       "      <td>BBB</td>\n",
       "      <td>B</td>\n",
       "      <td>B</td>\n",
       "      <td>BB</td>\n",
       "      <td>CC</td>\n",
       "      <td>B</td>\n",
       "      <td>...</td>\n",
       "      <td>NaN</td>\n",
       "      <td>NaN</td>\n",
       "      <td>NaN</td>\n",
       "      <td>NaN</td>\n",
       "      <td>NaN</td>\n",
       "      <td>NaN</td>\n",
       "      <td>NaN</td>\n",
       "      <td>NaN</td>\n",
       "      <td>NaN</td>\n",
       "      <td>NaN</td>\n",
       "    </tr>\n",
       "    <tr>\n",
       "      <th>2009-10-31</th>\n",
       "      <td>BBB</td>\n",
       "      <td>BBB</td>\n",
       "      <td>CCC</td>\n",
       "      <td>CCC</td>\n",
       "      <td>BB</td>\n",
       "      <td>B</td>\n",
       "      <td>B</td>\n",
       "      <td>BB</td>\n",
       "      <td>CC</td>\n",
       "      <td>B</td>\n",
       "      <td>...</td>\n",
       "      <td>NaN</td>\n",
       "      <td>NaN</td>\n",
       "      <td>NaN</td>\n",
       "      <td>NaN</td>\n",
       "      <td>NaN</td>\n",
       "      <td>NaN</td>\n",
       "      <td>NaN</td>\n",
       "      <td>NaN</td>\n",
       "      <td>NaN</td>\n",
       "      <td>NaN</td>\n",
       "    </tr>\n",
       "    <tr>\n",
       "      <th>2010-01-31</th>\n",
       "      <td>BBB</td>\n",
       "      <td>BBB</td>\n",
       "      <td>CC</td>\n",
       "      <td>CCC</td>\n",
       "      <td>BB</td>\n",
       "      <td>B</td>\n",
       "      <td>B</td>\n",
       "      <td>BB</td>\n",
       "      <td>CC</td>\n",
       "      <td>B</td>\n",
       "      <td>...</td>\n",
       "      <td>NaN</td>\n",
       "      <td>NaN</td>\n",
       "      <td>NaN</td>\n",
       "      <td>NaN</td>\n",
       "      <td>NaN</td>\n",
       "      <td>NaN</td>\n",
       "      <td>NaN</td>\n",
       "      <td>NaN</td>\n",
       "      <td>NaN</td>\n",
       "      <td>NaN</td>\n",
       "    </tr>\n",
       "  </tbody>\n",
       "</table>\n",
       "<p>5 rows × 5342 columns</p>\n",
       "</div>"
      ],
      "text/plain": [
       "证券代码       000001 000002 000004 000005 000006 000007 000008 000009 000010  \\\n",
       "评级日期                                                                        \n",
       "2009-01-31    BBB    BBB    CCC    CCC     BB      B      B      B      C   \n",
       "2009-04-30    BBB     BB    CCC    CCC    BBB      B      B     BB     CC   \n",
       "2009-07-31    BBB     BB    CCC    CCC    BBB      B      B     BB     CC   \n",
       "2009-10-31    BBB    BBB    CCC    CCC     BB      B      B     BB     CC   \n",
       "2010-01-31    BBB    BBB     CC    CCC     BB      B      B     BB     CC   \n",
       "\n",
       "证券代码       000011  ... 873169 873223 873305 873339 873527 873576 873593  \\\n",
       "评级日期               ...                                                    \n",
       "2009-01-31     BB  ...    NaN    NaN    NaN    NaN    NaN    NaN    NaN   \n",
       "2009-04-30      B  ...    NaN    NaN    NaN    NaN    NaN    NaN    NaN   \n",
       "2009-07-31      B  ...    NaN    NaN    NaN    NaN    NaN    NaN    NaN   \n",
       "2009-10-31      B  ...    NaN    NaN    NaN    NaN    NaN    NaN    NaN   \n",
       "2010-01-31      B  ...    NaN    NaN    NaN    NaN    NaN    NaN    NaN   \n",
       "\n",
       "证券代码       873665 873693 873726  \n",
       "评级日期                             \n",
       "2009-01-31    NaN    NaN    NaN  \n",
       "2009-04-30    NaN    NaN    NaN  \n",
       "2009-07-31    NaN    NaN    NaN  \n",
       "2009-10-31    NaN    NaN    NaN  \n",
       "2010-01-31    NaN    NaN    NaN  \n",
       "\n",
       "[5 rows x 5342 columns]"
      ]
     },
     "execution_count": 27,
     "metadata": {},
     "output_type": "execute_result"
    }
   ],
   "source": [
    "processed_esg = df_esg.pivot(index='评级日期', columns='证券代码', values='综合评级')\n",
    "processed_esg.head()"
   ]
  },
  {
   "cell_type": "markdown",
   "id": "4750bc82-dc88-4621-8570-d6e4d8e48311",
   "metadata": {
    "tags": []
   },
   "source": [
    "### Resampling"
   ]
  },
  {
   "cell_type": "markdown",
   "id": "f46f7d8d-1c3a-4f8f-8431-4d29b88fd3ac",
   "metadata": {},
   "source": [
    "将价格的日频率数据转换为季度频率，让其index向esg数据（季度频率）靠齐"
   ]
  },
  {
   "cell_type": "code",
   "execution_count": 65,
   "id": "b3623b70-91da-417c-9184-8a1dcbc79bd4",
   "metadata": {
    "tags": []
   },
   "outputs": [],
   "source": [
    "a = processed_esg.index\n",
    "common_index = a.append(df_prices.index).unique()\n",
    "processed_prices = df_prices.reindex(common_index)\n",
    "processed_prices = processed_prices.sort_index()\n",
    "processed_prices = processed_prices.ffill()"
   ]
  },
  {
   "cell_type": "code",
   "execution_count": 66,
   "id": "dbd68fa4-306a-440e-b525-92de95da8026",
   "metadata": {
    "tags": []
   },
   "outputs": [],
   "source": [
    "processed_prices = processed_prices.loc[processed_esg.index]"
   ]
  },
  {
   "cell_type": "markdown",
   "id": "1c549020-43ee-4640-bf3e-cf401f4d2529",
   "metadata": {},
   "source": [
    "股票数向价格靠齐"
   ]
  },
  {
   "cell_type": "code",
   "execution_count": 72,
   "id": "3cea0733-aae7-471c-8310-c278d58a335f",
   "metadata": {
    "tags": []
   },
   "outputs": [],
   "source": [
    "processed_esg = processed_esg.loc[:, processed_prices.columns]"
   ]
  },
  {
   "cell_type": "code",
   "execution_count": 73,
   "id": "8792c510-3ce8-4f4f-97fd-cbb5e13d6358",
   "metadata": {
    "tags": []
   },
   "outputs": [
    {
     "name": "stdout",
     "output_type": "stream",
     "text": [
      "(60, 2212) (60, 2212)\n"
     ]
    }
   ],
   "source": [
    "print(processed_esg.shape, processed_prices.shape)"
   ]
  },
  {
   "cell_type": "markdown",
   "id": "b1ddc0ef-ae8f-4659-b382-358d0ce1f936",
   "metadata": {},
   "source": [
    "## Spillover effect computing"
   ]
  },
  {
   "cell_type": "markdown",
   "id": "c5735573-52ee-4657-98f1-149145122117",
   "metadata": {},
   "source": [
    "### Conditional volatility computing"
   ]
  },
  {
   "cell_type": "markdown",
   "id": "b5cdee33-b6b1-4e43-b125-2781faa13df7",
   "metadata": {},
   "source": [
    "将价格数据转换为收益率序列"
   ]
  },
  {
   "cell_type": "code",
   "execution_count": 4,
   "id": "8712f55e-a08b-41b6-9c5f-83b8abb6e66c",
   "metadata": {
    "tags": []
   },
   "outputs": [],
   "source": [
    "import pandas as pd\n",
    "import numpy as np\n",
    "\n",
    "def calculate_log_returns(df):\n",
    "    # 计算对数收益率\n",
    "    return np.log(df / df.shift(1)).dropna()"
   ]
  },
  {
   "cell_type": "code",
   "execution_count": 76,
   "id": "1be572fc-f1a5-440a-b40d-cd6484df7c13",
   "metadata": {
    "tags": []
   },
   "outputs": [
    {
     "data": {
      "text/html": [
       "<div>\n",
       "<style scoped>\n",
       "    .dataframe tbody tr th:only-of-type {\n",
       "        vertical-align: middle;\n",
       "    }\n",
       "\n",
       "    .dataframe tbody tr th {\n",
       "        vertical-align: top;\n",
       "    }\n",
       "\n",
       "    .dataframe thead th {\n",
       "        text-align: right;\n",
       "    }\n",
       "</style>\n",
       "<table border=\"1\" class=\"dataframe\">\n",
       "  <thead>\n",
       "    <tr style=\"text-align: right;\">\n",
       "      <th></th>\n",
       "      <th>000001</th>\n",
       "      <th>000002</th>\n",
       "      <th>000004</th>\n",
       "      <th>000005</th>\n",
       "      <th>000006</th>\n",
       "      <th>000007</th>\n",
       "      <th>000008</th>\n",
       "      <th>000009</th>\n",
       "      <th>000010</th>\n",
       "      <th>000011</th>\n",
       "      <th>...</th>\n",
       "      <th>601933</th>\n",
       "      <th>601939</th>\n",
       "      <th>601958</th>\n",
       "      <th>601988</th>\n",
       "      <th>601989</th>\n",
       "      <th>601991</th>\n",
       "      <th>601992</th>\n",
       "      <th>601996</th>\n",
       "      <th>601998</th>\n",
       "      <th>601999</th>\n",
       "    </tr>\n",
       "    <tr>\n",
       "      <th>评级日期</th>\n",
       "      <th></th>\n",
       "      <th></th>\n",
       "      <th></th>\n",
       "      <th></th>\n",
       "      <th></th>\n",
       "      <th></th>\n",
       "      <th></th>\n",
       "      <th></th>\n",
       "      <th></th>\n",
       "      <th></th>\n",
       "      <th></th>\n",
       "      <th></th>\n",
       "      <th></th>\n",
       "      <th></th>\n",
       "      <th></th>\n",
       "      <th></th>\n",
       "      <th></th>\n",
       "      <th></th>\n",
       "      <th></th>\n",
       "      <th></th>\n",
       "      <th></th>\n",
       "    </tr>\n",
       "  </thead>\n",
       "  <tbody>\n",
       "    <tr>\n",
       "      <th>2012-04-30</th>\n",
       "      <td>-0.004824</td>\n",
       "      <td>0.160294</td>\n",
       "      <td>0.030860</td>\n",
       "      <td>0.028234</td>\n",
       "      <td>0.369116</td>\n",
       "      <td>0.494034</td>\n",
       "      <td>0.219007</td>\n",
       "      <td>-0.148540</td>\n",
       "      <td>-0.207481</td>\n",
       "      <td>0.292603</td>\n",
       "      <td>...</td>\n",
       "      <td>0.097670</td>\n",
       "      <td>0.005391</td>\n",
       "      <td>0.107088</td>\n",
       "      <td>0.016667</td>\n",
       "      <td>0.092570</td>\n",
       "      <td>0.007240</td>\n",
       "      <td>-0.005872</td>\n",
       "      <td>0.023013</td>\n",
       "      <td>0.036589</td>\n",
       "      <td>-0.012136</td>\n",
       "    </tr>\n",
       "    <tr>\n",
       "      <th>2012-07-31</th>\n",
       "      <td>-0.092287</td>\n",
       "      <td>0.041357</td>\n",
       "      <td>-0.066567</td>\n",
       "      <td>-0.374537</td>\n",
       "      <td>-0.168344</td>\n",
       "      <td>0.363734</td>\n",
       "      <td>0.094145</td>\n",
       "      <td>-0.304430</td>\n",
       "      <td>0.118711</td>\n",
       "      <td>-0.343196</td>\n",
       "      <td>...</td>\n",
       "      <td>-0.447432</td>\n",
       "      <td>-0.134044</td>\n",
       "      <td>-0.164937</td>\n",
       "      <td>-0.056672</td>\n",
       "      <td>-0.262263</td>\n",
       "      <td>-0.024648</td>\n",
       "      <td>-0.345464</td>\n",
       "      <td>0.145209</td>\n",
       "      <td>-0.102924</td>\n",
       "      <td>-0.232651</td>\n",
       "    </tr>\n",
       "    <tr>\n",
       "      <th>2012-10-31</th>\n",
       "      <td>-0.130100</td>\n",
       "      <td>-0.103795</td>\n",
       "      <td>0.030823</td>\n",
       "      <td>0.060477</td>\n",
       "      <td>0.012114</td>\n",
       "      <td>-0.027633</td>\n",
       "      <td>0.148550</td>\n",
       "      <td>0.065893</td>\n",
       "      <td>0.083202</td>\n",
       "      <td>0.065284</td>\n",
       "      <td>...</td>\n",
       "      <td>0.222658</td>\n",
       "      <td>0.040166</td>\n",
       "      <td>-0.058622</td>\n",
       "      <td>0.000000</td>\n",
       "      <td>-0.029493</td>\n",
       "      <td>-0.203241</td>\n",
       "      <td>-0.035567</td>\n",
       "      <td>-0.297712</td>\n",
       "      <td>-0.095089</td>\n",
       "      <td>0.049597</td>\n",
       "    </tr>\n",
       "    <tr>\n",
       "      <th>2013-01-31</th>\n",
       "      <td>0.472088</td>\n",
       "      <td>0.367072</td>\n",
       "      <td>0.124433</td>\n",
       "      <td>0.066539</td>\n",
       "      <td>0.287099</td>\n",
       "      <td>0.128799</td>\n",
       "      <td>0.100055</td>\n",
       "      <td>0.103041</td>\n",
       "      <td>0.250924</td>\n",
       "      <td>0.161278</td>\n",
       "      <td>...</td>\n",
       "      <td>0.013501</td>\n",
       "      <td>0.184616</td>\n",
       "      <td>0.152861</td>\n",
       "      <td>0.133531</td>\n",
       "      <td>0.094692</td>\n",
       "      <td>0.057221</td>\n",
       "      <td>0.330296</td>\n",
       "      <td>0.534956</td>\n",
       "      <td>0.340981</td>\n",
       "      <td>-0.032790</td>\n",
       "    </tr>\n",
       "    <tr>\n",
       "      <th>2013-04-30</th>\n",
       "      <td>-0.120744</td>\n",
       "      <td>-0.085116</td>\n",
       "      <td>0.132468</td>\n",
       "      <td>-0.172087</td>\n",
       "      <td>-0.228575</td>\n",
       "      <td>-0.121319</td>\n",
       "      <td>0.106937</td>\n",
       "      <td>0.021371</td>\n",
       "      <td>0.244100</td>\n",
       "      <td>0.017634</td>\n",
       "      <td>...</td>\n",
       "      <td>-0.000767</td>\n",
       "      <td>-0.067708</td>\n",
       "      <td>-0.236786</td>\n",
       "      <td>-0.085158</td>\n",
       "      <td>-0.165143</td>\n",
       "      <td>0.007459</td>\n",
       "      <td>-0.201084</td>\n",
       "      <td>-0.036418</td>\n",
       "      <td>-0.163130</td>\n",
       "      <td>-0.130937</td>\n",
       "    </tr>\n",
       "  </tbody>\n",
       "</table>\n",
       "<p>5 rows × 2212 columns</p>\n",
       "</div>"
      ],
      "text/plain": [
       "              000001    000002    000004    000005    000006    000007  \\\n",
       "评级日期                                                                     \n",
       "2012-04-30 -0.004824  0.160294  0.030860  0.028234  0.369116  0.494034   \n",
       "2012-07-31 -0.092287  0.041357 -0.066567 -0.374537 -0.168344  0.363734   \n",
       "2012-10-31 -0.130100 -0.103795  0.030823  0.060477  0.012114 -0.027633   \n",
       "2013-01-31  0.472088  0.367072  0.124433  0.066539  0.287099  0.128799   \n",
       "2013-04-30 -0.120744 -0.085116  0.132468 -0.172087 -0.228575 -0.121319   \n",
       "\n",
       "              000008    000009    000010    000011  ...    601933    601939  \\\n",
       "评级日期                                                ...                       \n",
       "2012-04-30  0.219007 -0.148540 -0.207481  0.292603  ...  0.097670  0.005391   \n",
       "2012-07-31  0.094145 -0.304430  0.118711 -0.343196  ... -0.447432 -0.134044   \n",
       "2012-10-31  0.148550  0.065893  0.083202  0.065284  ...  0.222658  0.040166   \n",
       "2013-01-31  0.100055  0.103041  0.250924  0.161278  ...  0.013501  0.184616   \n",
       "2013-04-30  0.106937  0.021371  0.244100  0.017634  ... -0.000767 -0.067708   \n",
       "\n",
       "              601958    601988    601989    601991    601992    601996  \\\n",
       "评级日期                                                                     \n",
       "2012-04-30  0.107088  0.016667  0.092570  0.007240 -0.005872  0.023013   \n",
       "2012-07-31 -0.164937 -0.056672 -0.262263 -0.024648 -0.345464  0.145209   \n",
       "2012-10-31 -0.058622  0.000000 -0.029493 -0.203241 -0.035567 -0.297712   \n",
       "2013-01-31  0.152861  0.133531  0.094692  0.057221  0.330296  0.534956   \n",
       "2013-04-30 -0.236786 -0.085158 -0.165143  0.007459 -0.201084 -0.036418   \n",
       "\n",
       "              601998    601999  \n",
       "评级日期                            \n",
       "2012-04-30  0.036589 -0.012136  \n",
       "2012-07-31 -0.102924 -0.232651  \n",
       "2012-10-31 -0.095089  0.049597  \n",
       "2013-01-31  0.340981 -0.032790  \n",
       "2013-04-30 -0.163130 -0.130937  \n",
       "\n",
       "[5 rows x 2212 columns]"
      ]
     },
     "execution_count": 76,
     "metadata": {},
     "output_type": "execute_result"
    }
   ],
   "source": [
    "log_returns = calculate_log_returns(processed_prices.ffill().dropna())\n",
    "log_returns.head()"
   ]
  },
  {
   "cell_type": "code",
   "execution_count": 7,
   "id": "1a3e6577-0193-480f-8f97-6828dcc9e966",
   "metadata": {
    "tags": []
   },
   "outputs": [],
   "source": [
    "from arch import arch_model\n",
    "from joblib import Parallel, delayed\n",
    "from tqdm import tqdm\n",
    "\n",
    "def estimate_volatility_single_series(returns):\n",
    "    model = arch_model(returns, vol='Garch', p=1, q=1)\n",
    "    res = model.fit(disp='off')\n",
    "    return res.conditional_volatility"
   ]
  },
  {
   "cell_type": "code",
   "execution_count": 8,
   "id": "d7dbd55f-5cf2-4c11-99f3-69a4bb7a7a51",
   "metadata": {
    "tags": []
   },
   "outputs": [],
   "source": [
    "def estimate_volatility(returns, n_jobs=50):\n",
    "    # 使用并行处理每列数据\n",
    "    results = Parallel(n_jobs=n_jobs)(delayed(estimate_volatility_single_series)(returns[col]) for col in tqdm(returns.columns))\n",
    "    \n",
    "    # 将结果合并为一个 DataFrame\n",
    "    volatilities = pd.concat(results, axis=1)\n",
    "    volatilities.columns = returns.columns\n",
    "    volatilities.index = returns.index\n",
    "    \n",
    "    return volatilities"
   ]
  },
  {
   "cell_type": "code",
   "execution_count": 9,
   "id": "a696abfc-4f0e-4411-a54a-672fae9fab70",
   "metadata": {
    "scrolled": true,
    "tags": []
   },
   "outputs": [
    {
     "name": "stderr",
     "output_type": "stream",
     "text": [
      "  5%|▍         | 100/2212 [00:02<00:50, 41.65it/s]"
     ]
    },
    {
     "ename": "KeyboardInterrupt",
     "evalue": "",
     "output_type": "error",
     "traceback": [
      "\u001b[0;31m---------------------------------------------------------------------------\u001b[0m",
      "\u001b[0;31mKeyboardInterrupt\u001b[0m                         Traceback (most recent call last)",
      "Cell \u001b[0;32mIn[9], line 1\u001b[0m\n\u001b[0;32m----> 1\u001b[0m volatilities \u001b[38;5;241m=\u001b[39m \u001b[43mestimate_volatility\u001b[49m\u001b[43m(\u001b[49m\u001b[43mlog_returns\u001b[49m\u001b[38;5;241;43m*\u001b[39;49m\u001b[38;5;241;43m100.\u001b[39;49m\u001b[43m)\u001b[49m\n",
      "Cell \u001b[0;32mIn[8], line 3\u001b[0m, in \u001b[0;36mestimate_volatility\u001b[0;34m(returns, n_jobs)\u001b[0m\n\u001b[1;32m      1\u001b[0m \u001b[38;5;28;01mdef\u001b[39;00m \u001b[38;5;21mestimate_volatility\u001b[39m(returns, n_jobs\u001b[38;5;241m=\u001b[39m\u001b[38;5;241m50\u001b[39m):\n\u001b[1;32m      2\u001b[0m     \u001b[38;5;66;03m# 使用并行处理每列数据\u001b[39;00m\n\u001b[0;32m----> 3\u001b[0m     results \u001b[38;5;241m=\u001b[39m \u001b[43mParallel\u001b[49m\u001b[43m(\u001b[49m\u001b[43mn_jobs\u001b[49m\u001b[38;5;241;43m=\u001b[39;49m\u001b[43mn_jobs\u001b[49m\u001b[43m)\u001b[49m\u001b[43m(\u001b[49m\u001b[43mdelayed\u001b[49m\u001b[43m(\u001b[49m\u001b[43mestimate_volatility_single_series\u001b[49m\u001b[43m)\u001b[49m\u001b[43m(\u001b[49m\u001b[43mreturns\u001b[49m\u001b[43m[\u001b[49m\u001b[43mcol\u001b[49m\u001b[43m]\u001b[49m\u001b[43m)\u001b[49m\u001b[43m \u001b[49m\u001b[38;5;28;43;01mfor\u001b[39;49;00m\u001b[43m \u001b[49m\u001b[43mcol\u001b[49m\u001b[43m \u001b[49m\u001b[38;5;129;43;01min\u001b[39;49;00m\u001b[43m \u001b[49m\u001b[43mtqdm\u001b[49m\u001b[43m(\u001b[49m\u001b[43mreturns\u001b[49m\u001b[38;5;241;43m.\u001b[39;49m\u001b[43mcolumns\u001b[49m\u001b[43m)\u001b[49m\u001b[43m)\u001b[49m\n\u001b[1;32m      5\u001b[0m     \u001b[38;5;66;03m# 将结果合并为一个 DataFrame\u001b[39;00m\n\u001b[1;32m      6\u001b[0m     volatilities \u001b[38;5;241m=\u001b[39m pd\u001b[38;5;241m.\u001b[39mconcat(results, axis\u001b[38;5;241m=\u001b[39m\u001b[38;5;241m1\u001b[39m)\n",
      "File \u001b[0;32m~/miniconda3/envs/d2l/lib/python3.11/site-packages/joblib/parallel.py:1098\u001b[0m, in \u001b[0;36mParallel.__call__\u001b[0;34m(self, iterable)\u001b[0m\n\u001b[1;32m   1095\u001b[0m     \u001b[38;5;28mself\u001b[39m\u001b[38;5;241m.\u001b[39m_iterating \u001b[38;5;241m=\u001b[39m \u001b[38;5;28;01mFalse\u001b[39;00m\n\u001b[1;32m   1097\u001b[0m \u001b[38;5;28;01mwith\u001b[39;00m \u001b[38;5;28mself\u001b[39m\u001b[38;5;241m.\u001b[39m_backend\u001b[38;5;241m.\u001b[39mretrieval_context():\n\u001b[0;32m-> 1098\u001b[0m     \u001b[38;5;28;43mself\u001b[39;49m\u001b[38;5;241;43m.\u001b[39;49m\u001b[43mretrieve\u001b[49m\u001b[43m(\u001b[49m\u001b[43m)\u001b[49m\n\u001b[1;32m   1099\u001b[0m \u001b[38;5;66;03m# Make sure that we get a last message telling us we are done\u001b[39;00m\n\u001b[1;32m   1100\u001b[0m elapsed_time \u001b[38;5;241m=\u001b[39m time\u001b[38;5;241m.\u001b[39mtime() \u001b[38;5;241m-\u001b[39m \u001b[38;5;28mself\u001b[39m\u001b[38;5;241m.\u001b[39m_start_time\n",
      "File \u001b[0;32m~/miniconda3/envs/d2l/lib/python3.11/site-packages/joblib/parallel.py:975\u001b[0m, in \u001b[0;36mParallel.retrieve\u001b[0;34m(self)\u001b[0m\n\u001b[1;32m    973\u001b[0m \u001b[38;5;28;01mtry\u001b[39;00m:\n\u001b[1;32m    974\u001b[0m     \u001b[38;5;28;01mif\u001b[39;00m \u001b[38;5;28mgetattr\u001b[39m(\u001b[38;5;28mself\u001b[39m\u001b[38;5;241m.\u001b[39m_backend, \u001b[38;5;124m'\u001b[39m\u001b[38;5;124msupports_timeout\u001b[39m\u001b[38;5;124m'\u001b[39m, \u001b[38;5;28;01mFalse\u001b[39;00m):\n\u001b[0;32m--> 975\u001b[0m         \u001b[38;5;28mself\u001b[39m\u001b[38;5;241m.\u001b[39m_output\u001b[38;5;241m.\u001b[39mextend(\u001b[43mjob\u001b[49m\u001b[38;5;241;43m.\u001b[39;49m\u001b[43mget\u001b[49m\u001b[43m(\u001b[49m\u001b[43mtimeout\u001b[49m\u001b[38;5;241;43m=\u001b[39;49m\u001b[38;5;28;43mself\u001b[39;49m\u001b[38;5;241;43m.\u001b[39;49m\u001b[43mtimeout\u001b[49m\u001b[43m)\u001b[49m)\n\u001b[1;32m    976\u001b[0m     \u001b[38;5;28;01melse\u001b[39;00m:\n\u001b[1;32m    977\u001b[0m         \u001b[38;5;28mself\u001b[39m\u001b[38;5;241m.\u001b[39m_output\u001b[38;5;241m.\u001b[39mextend(job\u001b[38;5;241m.\u001b[39mget())\n",
      "File \u001b[0;32m~/miniconda3/envs/d2l/lib/python3.11/site-packages/joblib/_parallel_backends.py:567\u001b[0m, in \u001b[0;36mLokyBackend.wrap_future_result\u001b[0;34m(future, timeout)\u001b[0m\n\u001b[1;32m    564\u001b[0m \u001b[38;5;250m\u001b[39m\u001b[38;5;124;03m\"\"\"Wrapper for Future.result to implement the same behaviour as\u001b[39;00m\n\u001b[1;32m    565\u001b[0m \u001b[38;5;124;03mAsyncResults.get from multiprocessing.\"\"\"\u001b[39;00m\n\u001b[1;32m    566\u001b[0m \u001b[38;5;28;01mtry\u001b[39;00m:\n\u001b[0;32m--> 567\u001b[0m     \u001b[38;5;28;01mreturn\u001b[39;00m \u001b[43mfuture\u001b[49m\u001b[38;5;241;43m.\u001b[39;49m\u001b[43mresult\u001b[49m\u001b[43m(\u001b[49m\u001b[43mtimeout\u001b[49m\u001b[38;5;241;43m=\u001b[39;49m\u001b[43mtimeout\u001b[49m\u001b[43m)\u001b[49m\n\u001b[1;32m    568\u001b[0m \u001b[38;5;28;01mexcept\u001b[39;00m CfTimeoutError \u001b[38;5;28;01mas\u001b[39;00m e:\n\u001b[1;32m    569\u001b[0m     \u001b[38;5;28;01mraise\u001b[39;00m \u001b[38;5;167;01mTimeoutError\u001b[39;00m \u001b[38;5;28;01mfrom\u001b[39;00m \u001b[38;5;21;01me\u001b[39;00m\n",
      "File \u001b[0;32m~/miniconda3/envs/d2l/lib/python3.11/concurrent/futures/_base.py:451\u001b[0m, in \u001b[0;36mFuture.result\u001b[0;34m(self, timeout)\u001b[0m\n\u001b[1;32m    448\u001b[0m \u001b[38;5;28;01melif\u001b[39;00m \u001b[38;5;28mself\u001b[39m\u001b[38;5;241m.\u001b[39m_state \u001b[38;5;241m==\u001b[39m FINISHED:\n\u001b[1;32m    449\u001b[0m     \u001b[38;5;28;01mreturn\u001b[39;00m \u001b[38;5;28mself\u001b[39m\u001b[38;5;241m.\u001b[39m__get_result()\n\u001b[0;32m--> 451\u001b[0m \u001b[38;5;28;43mself\u001b[39;49m\u001b[38;5;241;43m.\u001b[39;49m\u001b[43m_condition\u001b[49m\u001b[38;5;241;43m.\u001b[39;49m\u001b[43mwait\u001b[49m\u001b[43m(\u001b[49m\u001b[43mtimeout\u001b[49m\u001b[43m)\u001b[49m\n\u001b[1;32m    453\u001b[0m \u001b[38;5;28;01mif\u001b[39;00m \u001b[38;5;28mself\u001b[39m\u001b[38;5;241m.\u001b[39m_state \u001b[38;5;129;01min\u001b[39;00m [CANCELLED, CANCELLED_AND_NOTIFIED]:\n\u001b[1;32m    454\u001b[0m     \u001b[38;5;28;01mraise\u001b[39;00m CancelledError()\n",
      "File \u001b[0;32m~/miniconda3/envs/d2l/lib/python3.11/threading.py:327\u001b[0m, in \u001b[0;36mCondition.wait\u001b[0;34m(self, timeout)\u001b[0m\n\u001b[1;32m    325\u001b[0m \u001b[38;5;28;01mtry\u001b[39;00m:    \u001b[38;5;66;03m# restore state no matter what (e.g., KeyboardInterrupt)\u001b[39;00m\n\u001b[1;32m    326\u001b[0m     \u001b[38;5;28;01mif\u001b[39;00m timeout \u001b[38;5;129;01mis\u001b[39;00m \u001b[38;5;28;01mNone\u001b[39;00m:\n\u001b[0;32m--> 327\u001b[0m         \u001b[43mwaiter\u001b[49m\u001b[38;5;241;43m.\u001b[39;49m\u001b[43macquire\u001b[49m\u001b[43m(\u001b[49m\u001b[43m)\u001b[49m\n\u001b[1;32m    328\u001b[0m         gotit \u001b[38;5;241m=\u001b[39m \u001b[38;5;28;01mTrue\u001b[39;00m\n\u001b[1;32m    329\u001b[0m     \u001b[38;5;28;01melse\u001b[39;00m:\n",
      "\u001b[0;31mKeyboardInterrupt\u001b[0m: "
     ]
    }
   ],
   "source": [
    "volatilities = estimate_volatility(log_returns*100.)"
   ]
  },
  {
   "cell_type": "markdown",
   "id": "69dd92c7-1e5b-4662-88e0-3518546c2ef6",
   "metadata": {},
   "source": [
    "### DY method"
   ]
  },
  {
   "cell_type": "markdown",
   "id": "0f693b91-fab9-43c3-91f5-57f180091338",
   "metadata": {},
   "source": [
    "使用Diebold和Yilmaz的方法计算波动率溢出指数。该方法通过VAR（向量自回归）模型计算不同时间序列之间的波动率传递和溢出效应。\n"
   ]
  },
  {
   "cell_type": "code",
   "execution_count": 2,
   "id": "d7f88e75-3636-4bb1-ab76-1d60f192f04e",
   "metadata": {
    "tags": []
   },
   "outputs": [
    {
     "data": {
      "text/html": [
       "<div>\n",
       "<style scoped>\n",
       "    .dataframe tbody tr th:only-of-type {\n",
       "        vertical-align: middle;\n",
       "    }\n",
       "\n",
       "    .dataframe tbody tr th {\n",
       "        vertical-align: top;\n",
       "    }\n",
       "\n",
       "    .dataframe thead th {\n",
       "        text-align: right;\n",
       "    }\n",
       "</style>\n",
       "<table border=\"1\" class=\"dataframe\">\n",
       "  <thead>\n",
       "    <tr style=\"text-align: right;\">\n",
       "      <th></th>\n",
       "      <th>000001</th>\n",
       "      <th>000002</th>\n",
       "      <th>000004</th>\n",
       "      <th>000005</th>\n",
       "      <th>000006</th>\n",
       "      <th>000007</th>\n",
       "      <th>000008</th>\n",
       "      <th>000009</th>\n",
       "      <th>000010</th>\n",
       "      <th>000011</th>\n",
       "      <th>...</th>\n",
       "      <th>601933</th>\n",
       "      <th>601939</th>\n",
       "      <th>601958</th>\n",
       "      <th>601988</th>\n",
       "      <th>601989</th>\n",
       "      <th>601991</th>\n",
       "      <th>601992</th>\n",
       "      <th>601996</th>\n",
       "      <th>601998</th>\n",
       "      <th>601999</th>\n",
       "    </tr>\n",
       "    <tr>\n",
       "      <th>time</th>\n",
       "      <th></th>\n",
       "      <th></th>\n",
       "      <th></th>\n",
       "      <th></th>\n",
       "      <th></th>\n",
       "      <th></th>\n",
       "      <th></th>\n",
       "      <th></th>\n",
       "      <th></th>\n",
       "      <th></th>\n",
       "      <th></th>\n",
       "      <th></th>\n",
       "      <th></th>\n",
       "      <th></th>\n",
       "      <th></th>\n",
       "      <th></th>\n",
       "      <th></th>\n",
       "      <th></th>\n",
       "      <th></th>\n",
       "      <th></th>\n",
       "      <th></th>\n",
       "    </tr>\n",
       "  </thead>\n",
       "  <tbody>\n",
       "    <tr>\n",
       "      <th>2012-01-20</th>\n",
       "      <td>1.884160</td>\n",
       "      <td>2.066665</td>\n",
       "      <td>2.286852</td>\n",
       "      <td>0.731061</td>\n",
       "      <td>2.407929</td>\n",
       "      <td>2.721594</td>\n",
       "      <td>2.209964</td>\n",
       "      <td>2.812903</td>\n",
       "      <td>1.363675</td>\n",
       "      <td>3.331488</td>\n",
       "      <td>...</td>\n",
       "      <td>2.755140</td>\n",
       "      <td>1.089197</td>\n",
       "      <td>2.288879</td>\n",
       "      <td>0.861095</td>\n",
       "      <td>2.136018</td>\n",
       "      <td>1.535771</td>\n",
       "      <td>2.686177</td>\n",
       "      <td>2.376037</td>\n",
       "      <td>1.324802</td>\n",
       "      <td>2.297640</td>\n",
       "    </tr>\n",
       "    <tr>\n",
       "      <th>2012-01-30</th>\n",
       "      <td>2.411903</td>\n",
       "      <td>2.031186</td>\n",
       "      <td>2.219985</td>\n",
       "      <td>0.857659</td>\n",
       "      <td>2.361746</td>\n",
       "      <td>2.543625</td>\n",
       "      <td>2.148125</td>\n",
       "      <td>2.714427</td>\n",
       "      <td>1.391026</td>\n",
       "      <td>3.227820</td>\n",
       "      <td>...</td>\n",
       "      <td>3.717847</td>\n",
       "      <td>1.035498</td>\n",
       "      <td>2.153772</td>\n",
       "      <td>0.865869</td>\n",
       "      <td>2.003292</td>\n",
       "      <td>1.517830</td>\n",
       "      <td>2.651255</td>\n",
       "      <td>2.366631</td>\n",
       "      <td>1.456511</td>\n",
       "      <td>2.256588</td>\n",
       "    </tr>\n",
       "    <tr>\n",
       "      <th>2012-01-31</th>\n",
       "      <td>2.336884</td>\n",
       "      <td>2.364132</td>\n",
       "      <td>2.151476</td>\n",
       "      <td>0.947898</td>\n",
       "      <td>2.544614</td>\n",
       "      <td>2.355691</td>\n",
       "      <td>2.019882</td>\n",
       "      <td>2.681453</td>\n",
       "      <td>1.411791</td>\n",
       "      <td>3.130959</td>\n",
       "      <td>...</td>\n",
       "      <td>3.557059</td>\n",
       "      <td>1.512826</td>\n",
       "      <td>2.166017</td>\n",
       "      <td>0.955502</td>\n",
       "      <td>1.916189</td>\n",
       "      <td>1.574921</td>\n",
       "      <td>2.729802</td>\n",
       "      <td>2.273397</td>\n",
       "      <td>1.514844</td>\n",
       "      <td>2.151353</td>\n",
       "    </tr>\n",
       "    <tr>\n",
       "      <th>2012-02-01</th>\n",
       "      <td>2.264754</td>\n",
       "      <td>2.294564</td>\n",
       "      <td>2.140024</td>\n",
       "      <td>1.015135</td>\n",
       "      <td>2.452450</td>\n",
       "      <td>2.392157</td>\n",
       "      <td>2.598155</td>\n",
       "      <td>2.720486</td>\n",
       "      <td>1.427624</td>\n",
       "      <td>2.961174</td>\n",
       "      <td>...</td>\n",
       "      <td>3.463173</td>\n",
       "      <td>1.405492</td>\n",
       "      <td>2.034719</td>\n",
       "      <td>0.910728</td>\n",
       "      <td>1.915663</td>\n",
       "      <td>1.611220</td>\n",
       "      <td>2.631289</td>\n",
       "      <td>2.190599</td>\n",
       "      <td>1.404144</td>\n",
       "      <td>2.633883</td>\n",
       "    </tr>\n",
       "    <tr>\n",
       "      <th>2012-02-02</th>\n",
       "      <td>2.212680</td>\n",
       "      <td>2.226720</td>\n",
       "      <td>2.171805</td>\n",
       "      <td>1.066499</td>\n",
       "      <td>2.386096</td>\n",
       "      <td>2.218796</td>\n",
       "      <td>2.411577</td>\n",
       "      <td>2.809333</td>\n",
       "      <td>1.439735</td>\n",
       "      <td>2.929225</td>\n",
       "      <td>...</td>\n",
       "      <td>3.264411</td>\n",
       "      <td>1.316867</td>\n",
       "      <td>2.437764</td>\n",
       "      <td>0.887648</td>\n",
       "      <td>1.941197</td>\n",
       "      <td>1.581820</td>\n",
       "      <td>2.943972</td>\n",
       "      <td>2.107233</td>\n",
       "      <td>1.480218</td>\n",
       "      <td>2.752529</td>\n",
       "    </tr>\n",
       "  </tbody>\n",
       "</table>\n",
       "<p>5 rows × 2212 columns</p>\n",
       "</div>"
      ],
      "text/plain": [
       "              000001    000002    000004    000005    000006    000007  \\\n",
       "time                                                                     \n",
       "2012-01-20  1.884160  2.066665  2.286852  0.731061  2.407929  2.721594   \n",
       "2012-01-30  2.411903  2.031186  2.219985  0.857659  2.361746  2.543625   \n",
       "2012-01-31  2.336884  2.364132  2.151476  0.947898  2.544614  2.355691   \n",
       "2012-02-01  2.264754  2.294564  2.140024  1.015135  2.452450  2.392157   \n",
       "2012-02-02  2.212680  2.226720  2.171805  1.066499  2.386096  2.218796   \n",
       "\n",
       "              000008    000009    000010    000011  ...    601933    601939  \\\n",
       "time                                                ...                       \n",
       "2012-01-20  2.209964  2.812903  1.363675  3.331488  ...  2.755140  1.089197   \n",
       "2012-01-30  2.148125  2.714427  1.391026  3.227820  ...  3.717847  1.035498   \n",
       "2012-01-31  2.019882  2.681453  1.411791  3.130959  ...  3.557059  1.512826   \n",
       "2012-02-01  2.598155  2.720486  1.427624  2.961174  ...  3.463173  1.405492   \n",
       "2012-02-02  2.411577  2.809333  1.439735  2.929225  ...  3.264411  1.316867   \n",
       "\n",
       "              601958    601988    601989    601991    601992    601996  \\\n",
       "time                                                                     \n",
       "2012-01-20  2.288879  0.861095  2.136018  1.535771  2.686177  2.376037   \n",
       "2012-01-30  2.153772  0.865869  2.003292  1.517830  2.651255  2.366631   \n",
       "2012-01-31  2.166017  0.955502  1.916189  1.574921  2.729802  2.273397   \n",
       "2012-02-01  2.034719  0.910728  1.915663  1.611220  2.631289  2.190599   \n",
       "2012-02-02  2.437764  0.887648  1.941197  1.581820  2.943972  2.107233   \n",
       "\n",
       "              601998    601999  \n",
       "time                            \n",
       "2012-01-20  1.324802  2.297640  \n",
       "2012-01-30  1.456511  2.256588  \n",
       "2012-01-31  1.514844  2.151353  \n",
       "2012-02-01  1.404144  2.633883  \n",
       "2012-02-02  1.480218  2.752529  \n",
       "\n",
       "[5 rows x 2212 columns]"
      ]
     },
     "execution_count": 2,
     "metadata": {},
     "output_type": "execute_result"
    }
   ],
   "source": [
    "conditional_vol = pd.read_csv('datasets/processed_data/conditional_vol.csv', index_col=0)\n",
    "conditional_vol.head()"
   ]
  },
  {
   "cell_type": "code",
   "execution_count": null,
   "id": "4325bf16-6dbe-40e1-bd95-a64c5f63e549",
   "metadata": {},
   "outputs": [],
   "source": [
    "conditional_vol."
   ]
  },
  {
   "cell_type": "code",
   "execution_count": 3,
   "id": "6b97249f-e5fc-49b6-af88-ba1a75a27110",
   "metadata": {
    "tags": []
   },
   "outputs": [
    {
     "name": "stderr",
     "output_type": "stream",
     "text": [
      "/Users/hans/opt/anaconda3/lib/python3.9/site-packages/statsmodels/tsa/base/tsa_model.py:473: ValueWarning: A date index has been provided, but it has no associated frequency information and so will be ignored when e.g. forecasting.\n",
      "  self._init_dates(dates, freq)\n"
     ]
    }
   ],
   "source": [
    "from statsmodels.tsa.api import VAR\n",
    "model = VAR(conditional_vol)\n",
    "results = model.fit(maxlags=5)\n",
    "H=5"
   ]
  },
  {
   "cell_type": "code",
   "execution_count": 4,
   "id": "6ea0fb67-8e98-48db-9d26-36adc97841c3",
   "metadata": {
    "tags": []
   },
   "outputs": [],
   "source": [
    "from tqdm import tqdm\n",
    "# 获取模型残差的协方差矩阵及其逆矩阵\n",
    "sigma_u = results.sigma_u\n",
    "sigma_u_inv = np.linalg.inv(sigma_u)\n",
    "\n",
    "# 计算 GFEVD\n",
    "def compute_gfevd(H, A, sigma_u, sigma_u_inv):\n",
    "    n_vars = A.shape[1]\n",
    "    gfevd = np.zeros((n_vars, n_vars))\n",
    "    e = np.eye(n_vars)\n",
    "    \n",
    "    for i in tqdm(range(n_vars)):\n",
    "        for j in range(n_vars):\n",
    "            num = sigma_u_inv[j, j] * np.sum([(e[i].T @ A[h] @ sigma_u @ e[j]) ** 2 for h in range(H)]) \n",
    "            den = np.sum([(e[i].T @ A[h] @ sigma_u @ A[h].T @ e[i]) for h in range(H)])\n",
    "            gfevd[i, j] = num / den\n",
    "    return gfevd\n"
   ]
  },
  {
   "cell_type": "code",
   "execution_count": 5,
   "id": "b5d8ade4-ddc9-4541-a8c0-935fc3ba546c",
   "metadata": {
    "tags": []
   },
   "outputs": [],
   "source": [
    "MA_A = results.ma_rep(maxn=5)"
   ]
  },
  {
   "cell_type": "code",
   "execution_count": 6,
   "id": "156bc2bc-daa3-4647-a79a-eb318a29ea7d",
   "metadata": {
    "tags": []
   },
   "outputs": [
    {
     "name": "stderr",
     "output_type": "stream",
     "text": [
      "  2%|▏         | 42/2212 [2:31:02<130:04:04, 215.78s/it]\n"
     ]
    },
    {
     "ename": "KeyboardInterrupt",
     "evalue": "",
     "output_type": "error",
     "traceback": [
      "\u001b[0;31m---------------------------------------------------------------------------\u001b[0m",
      "\u001b[0;31mKeyboardInterrupt\u001b[0m                         Traceback (most recent call last)",
      "Cell \u001b[0;32mIn[6], line 2\u001b[0m\n\u001b[1;32m      1\u001b[0m \u001b[38;5;66;03m# 计算 GFEVD\u001b[39;00m\n\u001b[0;32m----> 2\u001b[0m gfevd \u001b[38;5;241m=\u001b[39m \u001b[43mcompute_gfevd\u001b[49m\u001b[43m(\u001b[49m\u001b[43mH\u001b[49m\u001b[43m,\u001b[49m\u001b[43m \u001b[49m\u001b[43mMA_A\u001b[49m\u001b[43m,\u001b[49m\u001b[43m \u001b[49m\u001b[43msigma_u\u001b[49m\u001b[43m,\u001b[49m\u001b[43m \u001b[49m\u001b[43msigma_u_inv\u001b[49m\u001b[43m)\u001b[49m\n\u001b[1;32m      4\u001b[0m gfevd \u001b[38;5;241m=\u001b[39m pd\u001b[38;5;241m.\u001b[39mDataFrame(gfevd[:,:], index\u001b[38;5;241m=\u001b[39mvolatilities\u001b[38;5;241m.\u001b[39mcolumns,\n\u001b[1;32m      5\u001b[0m              columns\u001b[38;5;241m=\u001b[39mvolatilities\u001b[38;5;241m.\u001b[39mcolumns)\n\u001b[1;32m      7\u001b[0m gfevd\n",
      "Cell \u001b[0;32mIn[4], line 15\u001b[0m, in \u001b[0;36mcompute_gfevd\u001b[0;34m(H, A, sigma_u, sigma_u_inv)\u001b[0m\n\u001b[1;32m     13\u001b[0m     \u001b[38;5;28;01mfor\u001b[39;00m j \u001b[38;5;129;01min\u001b[39;00m \u001b[38;5;28mrange\u001b[39m(n_vars):\n\u001b[1;32m     14\u001b[0m         num \u001b[38;5;241m=\u001b[39m sigma_u_inv[j, j] \u001b[38;5;241m*\u001b[39m np\u001b[38;5;241m.\u001b[39msum([(e[i]\u001b[38;5;241m.\u001b[39mT \u001b[38;5;241m@\u001b[39m A[h] \u001b[38;5;241m@\u001b[39m sigma_u \u001b[38;5;241m@\u001b[39m e[j]) \u001b[38;5;241m*\u001b[39m\u001b[38;5;241m*\u001b[39m \u001b[38;5;241m2\u001b[39m \u001b[38;5;28;01mfor\u001b[39;00m h \u001b[38;5;129;01min\u001b[39;00m \u001b[38;5;28mrange\u001b[39m(H)]) \n\u001b[0;32m---> 15\u001b[0m         den \u001b[38;5;241m=\u001b[39m np\u001b[38;5;241m.\u001b[39msum([(e[i]\u001b[38;5;241m.\u001b[39mT \u001b[38;5;241m@\u001b[39m A[h] \u001b[38;5;241m@\u001b[39m sigma_u \u001b[38;5;241m@\u001b[39m A[h]\u001b[38;5;241m.\u001b[39mT \u001b[38;5;241m@\u001b[39m e[i]) \u001b[38;5;28;01mfor\u001b[39;00m h \u001b[38;5;129;01min\u001b[39;00m \u001b[38;5;28mrange\u001b[39m(H)])\n\u001b[1;32m     16\u001b[0m         gfevd[i, j] \u001b[38;5;241m=\u001b[39m num \u001b[38;5;241m/\u001b[39m den\n\u001b[1;32m     17\u001b[0m \u001b[38;5;28;01mreturn\u001b[39;00m gfevd\n",
      "Cell \u001b[0;32mIn[4], line 15\u001b[0m, in \u001b[0;36m<listcomp>\u001b[0;34m(.0)\u001b[0m\n\u001b[1;32m     13\u001b[0m     \u001b[38;5;28;01mfor\u001b[39;00m j \u001b[38;5;129;01min\u001b[39;00m \u001b[38;5;28mrange\u001b[39m(n_vars):\n\u001b[1;32m     14\u001b[0m         num \u001b[38;5;241m=\u001b[39m sigma_u_inv[j, j] \u001b[38;5;241m*\u001b[39m np\u001b[38;5;241m.\u001b[39msum([(e[i]\u001b[38;5;241m.\u001b[39mT \u001b[38;5;241m@\u001b[39m A[h] \u001b[38;5;241m@\u001b[39m sigma_u \u001b[38;5;241m@\u001b[39m e[j]) \u001b[38;5;241m*\u001b[39m\u001b[38;5;241m*\u001b[39m \u001b[38;5;241m2\u001b[39m \u001b[38;5;28;01mfor\u001b[39;00m h \u001b[38;5;129;01min\u001b[39;00m \u001b[38;5;28mrange\u001b[39m(H)]) \n\u001b[0;32m---> 15\u001b[0m         den \u001b[38;5;241m=\u001b[39m np\u001b[38;5;241m.\u001b[39msum([(\u001b[43me\u001b[49m\u001b[43m[\u001b[49m\u001b[43mi\u001b[49m\u001b[43m]\u001b[49m\u001b[38;5;241;43m.\u001b[39;49m\u001b[43mT\u001b[49m\u001b[43m \u001b[49m\u001b[38;5;241;43m@\u001b[39;49m\u001b[43m \u001b[49m\u001b[43mA\u001b[49m\u001b[43m[\u001b[49m\u001b[43mh\u001b[49m\u001b[43m]\u001b[49m\u001b[43m \u001b[49m\u001b[38;5;241;43m@\u001b[39;49m\u001b[43m \u001b[49m\u001b[43msigma_u\u001b[49m \u001b[38;5;241m@\u001b[39m A[h]\u001b[38;5;241m.\u001b[39mT \u001b[38;5;241m@\u001b[39m e[i]) \u001b[38;5;28;01mfor\u001b[39;00m h \u001b[38;5;129;01min\u001b[39;00m \u001b[38;5;28mrange\u001b[39m(H)])\n\u001b[1;32m     16\u001b[0m         gfevd[i, j] \u001b[38;5;241m=\u001b[39m num \u001b[38;5;241m/\u001b[39m den\n\u001b[1;32m     17\u001b[0m \u001b[38;5;28;01mreturn\u001b[39;00m gfevd\n",
      "File \u001b[0;32m~/opt/anaconda3/lib/python3.9/site-packages/pandas/core/generic.py:2016\u001b[0m, in \u001b[0;36mNDFrame.__array_ufunc__\u001b[0;34m(self, ufunc, method, *inputs, **kwargs)\u001b[0m\n\u001b[1;32m   2012\u001b[0m \u001b[38;5;129m@final\u001b[39m\n\u001b[1;32m   2013\u001b[0m \u001b[38;5;28;01mdef\u001b[39;00m \u001b[38;5;21m__array_ufunc__\u001b[39m(\n\u001b[1;32m   2014\u001b[0m     \u001b[38;5;28mself\u001b[39m, ufunc: np\u001b[38;5;241m.\u001b[39mufunc, method: \u001b[38;5;28mstr\u001b[39m, \u001b[38;5;241m*\u001b[39minputs: Any, \u001b[38;5;241m*\u001b[39m\u001b[38;5;241m*\u001b[39mkwargs: Any\n\u001b[1;32m   2015\u001b[0m ):\n\u001b[0;32m-> 2016\u001b[0m     \u001b[38;5;28;01mreturn\u001b[39;00m \u001b[43marraylike\u001b[49m\u001b[38;5;241;43m.\u001b[39;49m\u001b[43marray_ufunc\u001b[49m\u001b[43m(\u001b[49m\u001b[38;5;28;43mself\u001b[39;49m\u001b[43m,\u001b[49m\u001b[43m \u001b[49m\u001b[43mufunc\u001b[49m\u001b[43m,\u001b[49m\u001b[43m \u001b[49m\u001b[43mmethod\u001b[49m\u001b[43m,\u001b[49m\u001b[43m \u001b[49m\u001b[38;5;241;43m*\u001b[39;49m\u001b[43minputs\u001b[49m\u001b[43m,\u001b[49m\u001b[43m \u001b[49m\u001b[38;5;241;43m*\u001b[39;49m\u001b[38;5;241;43m*\u001b[39;49m\u001b[43mkwargs\u001b[49m\u001b[43m)\u001b[49m\n",
      "File \u001b[0;32m~/opt/anaconda3/lib/python3.9/site-packages/pandas/core/arraylike.py:273\u001b[0m, in \u001b[0;36marray_ufunc\u001b[0;34m(self, ufunc, method, *inputs, **kwargs)\u001b[0m\n\u001b[1;32m    270\u001b[0m kwargs \u001b[38;5;241m=\u001b[39m _standardize_out_kwarg(\u001b[38;5;241m*\u001b[39m\u001b[38;5;241m*\u001b[39mkwargs)\n\u001b[1;32m    272\u001b[0m \u001b[38;5;66;03m# for binary ops, use our custom dunder methods\u001b[39;00m\n\u001b[0;32m--> 273\u001b[0m result \u001b[38;5;241m=\u001b[39m \u001b[43mmaybe_dispatch_ufunc_to_dunder_op\u001b[49m\u001b[43m(\u001b[49m\u001b[38;5;28;43mself\u001b[39;49m\u001b[43m,\u001b[49m\u001b[43m \u001b[49m\u001b[43mufunc\u001b[49m\u001b[43m,\u001b[49m\u001b[43m \u001b[49m\u001b[43mmethod\u001b[49m\u001b[43m,\u001b[49m\u001b[43m \u001b[49m\u001b[38;5;241;43m*\u001b[39;49m\u001b[43minputs\u001b[49m\u001b[43m,\u001b[49m\u001b[43m \u001b[49m\u001b[38;5;241;43m*\u001b[39;49m\u001b[38;5;241;43m*\u001b[39;49m\u001b[43mkwargs\u001b[49m\u001b[43m)\u001b[49m\n\u001b[1;32m    274\u001b[0m \u001b[38;5;28;01mif\u001b[39;00m result \u001b[38;5;129;01mis\u001b[39;00m \u001b[38;5;129;01mnot\u001b[39;00m \u001b[38;5;28mNotImplemented\u001b[39m:\n\u001b[1;32m    275\u001b[0m     \u001b[38;5;28;01mreturn\u001b[39;00m result\n",
      "File \u001b[0;32m~/opt/anaconda3/lib/python3.9/site-packages/pandas/_libs/ops_dispatch.pyx:113\u001b[0m, in \u001b[0;36mpandas._libs.ops_dispatch.maybe_dispatch_ufunc_to_dunder_op\u001b[0;34m()\u001b[0m\n",
      "File \u001b[0;32m~/opt/anaconda3/lib/python3.9/site-packages/pandas/core/frame.py:1637\u001b[0m, in \u001b[0;36mDataFrame.__rmatmul__\u001b[0;34m(self, other)\u001b[0m\n\u001b[1;32m   1633\u001b[0m \u001b[38;5;250m\u001b[39m\u001b[38;5;124;03m\"\"\"\u001b[39;00m\n\u001b[1;32m   1634\u001b[0m \u001b[38;5;124;03mMatrix multiplication using binary `@` operator in Python>=3.5.\u001b[39;00m\n\u001b[1;32m   1635\u001b[0m \u001b[38;5;124;03m\"\"\"\u001b[39;00m\n\u001b[1;32m   1636\u001b[0m \u001b[38;5;28;01mtry\u001b[39;00m:\n\u001b[0;32m-> 1637\u001b[0m     \u001b[38;5;28;01mreturn\u001b[39;00m \u001b[38;5;28;43mself\u001b[39;49m\u001b[38;5;241;43m.\u001b[39;49m\u001b[43mT\u001b[49m\u001b[38;5;241;43m.\u001b[39;49m\u001b[43mdot\u001b[49m\u001b[43m(\u001b[49m\u001b[43mnp\u001b[49m\u001b[38;5;241;43m.\u001b[39;49m\u001b[43mtranspose\u001b[49m\u001b[43m(\u001b[49m\u001b[43mother\u001b[49m\u001b[43m)\u001b[49m\u001b[43m)\u001b[49m\u001b[38;5;241m.\u001b[39mT\n\u001b[1;32m   1638\u001b[0m \u001b[38;5;28;01mexcept\u001b[39;00m \u001b[38;5;167;01mValueError\u001b[39;00m \u001b[38;5;28;01mas\u001b[39;00m err:\n\u001b[1;32m   1639\u001b[0m     \u001b[38;5;28;01mif\u001b[39;00m \u001b[38;5;124m\"\u001b[39m\u001b[38;5;124mshape mismatch\u001b[39m\u001b[38;5;124m\"\u001b[39m \u001b[38;5;129;01mnot\u001b[39;00m \u001b[38;5;129;01min\u001b[39;00m \u001b[38;5;28mstr\u001b[39m(err):\n",
      "File \u001b[0;32m~/opt/anaconda3/lib/python3.9/site-packages/pandas/core/frame.py:1610\u001b[0m, in \u001b[0;36mDataFrame.dot\u001b[0;34m(self, other)\u001b[0m\n\u001b[1;32m   1606\u001b[0m     \u001b[38;5;28;01mreturn\u001b[39;00m \u001b[38;5;28mself\u001b[39m\u001b[38;5;241m.\u001b[39m_constructor_sliced(\n\u001b[1;32m   1607\u001b[0m         np\u001b[38;5;241m.\u001b[39mdot(lvals, rvals), index\u001b[38;5;241m=\u001b[39mleft\u001b[38;5;241m.\u001b[39mindex, copy\u001b[38;5;241m=\u001b[39m\u001b[38;5;28;01mFalse\u001b[39;00m\n\u001b[1;32m   1608\u001b[0m     )\n\u001b[1;32m   1609\u001b[0m \u001b[38;5;28;01melif\u001b[39;00m \u001b[38;5;28misinstance\u001b[39m(rvals, (np\u001b[38;5;241m.\u001b[39mndarray, Index)):\n\u001b[0;32m-> 1610\u001b[0m     result \u001b[38;5;241m=\u001b[39m \u001b[43mnp\u001b[49m\u001b[38;5;241;43m.\u001b[39;49m\u001b[43mdot\u001b[49m\u001b[43m(\u001b[49m\u001b[43mlvals\u001b[49m\u001b[43m,\u001b[49m\u001b[43m \u001b[49m\u001b[43mrvals\u001b[49m\u001b[43m)\u001b[49m\n\u001b[1;32m   1611\u001b[0m     \u001b[38;5;28;01mif\u001b[39;00m result\u001b[38;5;241m.\u001b[39mndim \u001b[38;5;241m==\u001b[39m \u001b[38;5;241m2\u001b[39m:\n\u001b[1;32m   1612\u001b[0m         \u001b[38;5;28;01mreturn\u001b[39;00m \u001b[38;5;28mself\u001b[39m\u001b[38;5;241m.\u001b[39m_constructor(result, index\u001b[38;5;241m=\u001b[39mleft\u001b[38;5;241m.\u001b[39mindex, copy\u001b[38;5;241m=\u001b[39m\u001b[38;5;28;01mFalse\u001b[39;00m)\n",
      "File \u001b[0;32m<__array_function__ internals>:200\u001b[0m, in \u001b[0;36mdot\u001b[0;34m(*args, **kwargs)\u001b[0m\n",
      "\u001b[0;31mKeyboardInterrupt\u001b[0m: "
     ]
    }
   ],
   "source": [
    "# 计算 GFEVD\n",
    "gfevd = compute_gfevd(H, MA_A, sigma_u, sigma_u_inv)\n",
    "\n",
    "gfevd = pd.DataFrame(gfevd[:,:], index=volatilities.columns,\n",
    "             columns=volatilities.columns)\n",
    "\n",
    "gfevd"
   ]
  },
  {
   "cell_type": "code",
   "execution_count": null,
   "id": "309d3004-6636-471b-9f21-a73ebef2825b",
   "metadata": {
    "tags": []
   },
   "outputs": [],
   "source": [
    "a = gfevd/10e14\n",
    "plt.hist(a.values.ravel())"
   ]
  },
  {
   "cell_type": "markdown",
   "id": "338995bb-5cf8-4455-9569-8d031d694d76",
   "metadata": {},
   "source": [
    "### Scaling"
   ]
  },
  {
   "cell_type": "code",
   "execution_count": null,
   "id": "3b1d84c9-ef50-4891-a054-1e74df4ae005",
   "metadata": {
    "tags": []
   },
   "outputs": [],
   "source": [
    "def scale_one(df):\n",
    "    # j 归一化\n",
    "    s1 = df.values\n",
    "    s2 = df.values.sum(axis=1)\n",
    "    s3 = (s1.T/s2).T\n",
    "    return pd.DataFrame(s3, index=df.index, columns=df.index)"
   ]
  },
  {
   "cell_type": "code",
   "execution_count": null,
   "id": "8a133ef0-98df-477c-9bd7-8e27b5299d24",
   "metadata": {},
   "outputs": [],
   "source": []
  },
  {
   "cell_type": "code",
   "execution_count": null,
   "id": "72a696bf-0241-452c-89ed-fb448162c5fd",
   "metadata": {
    "tags": []
   },
   "outputs": [],
   "source": [
    "spillover_matrix = scale_one(gfevd)\n",
    "spillover_matrix"
   ]
  },
  {
   "cell_type": "code",
   "execution_count": null,
   "id": "8445c22b-659f-4ece-b301-766631e999a9",
   "metadata": {
    "tags": []
   },
   "outputs": [],
   "source": [
    "esg_quantiles = df_esg.groupby('月份')['综合得分'].quantile([0.2, 0.4, 0.6, 0.8]).unstack()\n",
    "esg_quantiles.head(5)"
   ]
  },
  {
   "cell_type": "code",
   "execution_count": null,
   "id": "4405b741-b369-4f3a-8d69-d5ec3cd1b24f",
   "metadata": {
    "tags": []
   },
   "outputs": [],
   "source": [
    "resample_prices = df_prices.reindex(pd.date_range(start=df_prices.index.min(),\n",
    "                                         end=df_prices.index.max(),\n",
    "                                         freq='D'))"
   ]
  },
  {
   "cell_type": "code",
   "execution_count": null,
   "id": "8ca053c1-c1e0-4a6e-9848-773475f8c5f3",
   "metadata": {
    "tags": []
   },
   "outputs": [],
   "source": [
    "diff = np.log(resample_prices.resample('M').last() / resample_prices.resample('M').first())\n",
    "diff.index = ['%s-%s' %(diff.index.year[i], diff.index.month[i]) for i in range(diff.shape[0])]\n",
    "diff.head()"
   ]
  },
  {
   "cell_type": "code",
   "execution_count": null,
   "id": "212d2ab6-5b4f-40c6-ae50-8d7be09b2a0e",
   "metadata": {
    "tags": []
   },
   "outputs": [],
   "source": [
    "# 为每个股票计算五分位\n",
    "def assign_quantile(row):\n",
    "    for quantile in [0.2, 0.4, 0.6, 0.8]:\n",
    "        if row['综合得分'] <= esg_quantiles.loc[row['月份'], quantile]:\n",
    "            return int(quantile * 5)\n",
    "    return 5\n",
    "\n",
    "df_esg['quantile'] = df_esg.apply(assign_quantile, axis=1)"
   ]
  },
  {
   "cell_type": "code",
   "execution_count": null,
   "id": "6ac9a14b-eb9a-4f3b-9589-9e548f08601a",
   "metadata": {
    "tags": []
   },
   "outputs": [],
   "source": [
    "pivot_df = pd.DataFrame()\n",
    "for i in tqdm(range(diff.shape[1])):\n",
    "    df = pd.DataFrame()\n",
    "    df['收益率'] = diff.iloc[:, i]\n",
    "    df['证券代码'] = diff.columns[i]\n",
    "    pivot_df = pd.concat([pivot_df, df])"
   ]
  },
  {
   "cell_type": "code",
   "execution_count": null,
   "id": "3032eb4c-c2b7-47bc-a88b-cefca4abc2c2",
   "metadata": {
    "tags": []
   },
   "outputs": [],
   "source": [
    "pivot_df"
   ]
  },
  {
   "cell_type": "code",
   "execution_count": null,
   "id": "736e036a-8f83-4f8b-a831-8d84d694131e",
   "metadata": {
    "tags": []
   },
   "outputs": [],
   "source": [
    "ret = []\n",
    "for i in tqdm(range(df_esg.shape[0])):\n",
    "    if df_esg.iloc[i]['月份'] in diff.index and df_esg.iloc[i]['证券代码'] in diff.columns: \n",
    "        ret.append(diff.loc[df_esg.iloc[i]['月份'], df_esg.iloc[i]['证券代码']])\n",
    "    else:\n",
    "        ret.append(np.nan)"
   ]
  },
  {
   "cell_type": "code",
   "execution_count": null,
   "id": "2738affc-19eb-40a1-9b97-5a509e77917d",
   "metadata": {
    "tags": []
   },
   "outputs": [],
   "source": [
    "df_esg['收益率'] = ret"
   ]
  },
  {
   "cell_type": "code",
   "execution_count": null,
   "id": "1e8db619-56bf-46a8-99bc-a30579d48424",
   "metadata": {
    "tags": []
   },
   "outputs": [],
   "source": [
    "df_esg.head()"
   ]
  },
  {
   "cell_type": "code",
   "execution_count": null,
   "id": "b2a921a4-7200-45bb-b544-c14fe5884537",
   "metadata": {
    "tags": []
   },
   "outputs": [],
   "source": [
    "a = df_esg.groupby(['quantile', '月份'])['收益率'].mean()"
   ]
  },
  {
   "cell_type": "code",
   "execution_count": null,
   "id": "457a7496-f957-44b3-9cec-d47b013784a2",
   "metadata": {
    "tags": []
   },
   "outputs": [],
   "source": [
    "import matplotlib.pyplot as plt\n",
    "for i in [1,2,3,4,5]:\n",
    "    a[i].index = pd.to_datetime(a[i].index)\n",
    "    b = a[i].sort_index()\n",
    "    b.plot()"
   ]
  },
  {
   "cell_type": "code",
   "execution_count": null,
   "id": "5a9a4155-830e-4dc4-ac52-185495ae6d67",
   "metadata": {
    "tags": []
   },
   "outputs": [],
   "source": [
    "b"
   ]
  },
  {
   "cell_type": "code",
   "execution_count": null,
   "id": "201e8ece-36c9-4438-94c4-c270ddadb8db",
   "metadata": {
    "tags": []
   },
   "outputs": [],
   "source": [
    "from arch import arch_model\n",
    "from joblib import Parallel, delayed\n",
    "from tqdm import tqdm\n",
    "\n",
    "def estimate_volatility_single_series(returns):\n",
    "    model = arch_model(returns, vol='Garch', p=1, q=1)\n",
    "    res = model.fit(disp='off')\n",
    "    return res.conditional_volatility"
   ]
  },
  {
   "cell_type": "code",
   "execution_count": null,
   "id": "5bc15fd2-29ab-4b48-8af1-cb9ea2150d91",
   "metadata": {
    "tags": []
   },
   "outputs": [],
   "source": [
    "def estimate_volatility(returns, n_jobs=50):\n",
    "    # 使用并行处理每列数据\n",
    "    results = Parallel(n_jobs=n_jobs)(delayed(estimate_volatility_single_series)(returns[col]) for col in tqdm(returns.columns))\n",
    "    \n",
    "    # 将结果合并为一个 DataFrame\n",
    "    volatilities = pd.concat(results, axis=1)\n",
    "    volatilities.columns = returns.columns\n",
    "    volatilities.index = returns.index\n",
    "    \n",
    "    return volatilities"
   ]
  },
  {
   "cell_type": "code",
   "execution_count": null,
   "id": "e46fabc8-7c6f-403f-a14b-97c05d4b21df",
   "metadata": {
    "tags": []
   },
   "outputs": [],
   "source": [
    "a[1].pd.to_datetime(a[1].index)"
   ]
  },
  {
   "cell_type": "code",
   "execution_count": null,
   "id": "c4f25205-522a-438b-956d-a090e8ac885c",
   "metadata": {
    "tags": []
   },
   "outputs": [],
   "source": [
    "volatilities = estimate_volatility(a[1]*100.)"
   ]
  },
  {
   "cell_type": "markdown",
   "id": "79e89b22-daee-4fbf-8412-84a920c94333",
   "metadata": {},
   "source": [
    "### 数据平稳性检验和差分处理"
   ]
  },
  {
   "cell_type": "code",
   "execution_count": null,
   "id": "de5aa8b2-022d-415e-8716-9095460ce748",
   "metadata": {
    "tags": []
   },
   "outputs": [],
   "source": [
    "from statsmodels.tsa.stattools import adfuller\n",
    "from tqdm.notebook import tqdm\n",
    "adf_no_list = []\n",
    "def check_stationarity(series):\n",
    "    result = adfuller(series)\n",
    "    return result[1]  # 返回p值\n",
    "\n",
    "\n",
    "for col in tqdm(volatilities.columns):\n",
    "    p_value = check_stationarity(volatilities[col])\n",
    "    if p_value > 0.05:            # 如果p值大于0.05，进行差分\n",
    "        adf_no_list.append(col)\n",
    "print(len(adf_no_list))"
   ]
  },
  {
   "cell_type": "code",
   "execution_count": null,
   "id": "05d0a8ee-a65c-4985-8b74-e3021738875c",
   "metadata": {
    "tags": []
   },
   "outputs": [],
   "source": [
    "print(len(adf_no_list))"
   ]
  },
  {
   "cell_type": "markdown",
   "id": "122f1fb3-9b4c-45bc-859a-d82390ecef2b",
   "metadata": {},
   "source": [
    "### 波动率溢出指数"
   ]
  },
  {
   "cell_type": "markdown",
   "id": "af7cb275-afd0-47f6-b8b5-ee32f219f2bf",
   "metadata": {},
   "source": [
    "使用Diebold和Yilmaz的方法计算波动率溢出指数。该方法通过VAR（向量自回归）模型计算不同时间序列之间的波动率传递和溢出效应。\n"
   ]
  },
  {
   "cell_type": "code",
   "execution_count": null,
   "id": "37c8c63d-a66e-4160-8419-f775735af507",
   "metadata": {
    "tags": []
   },
   "outputs": [],
   "source": [
    "volatilities = volatilities.drop(adf_no_list, axis=1)\n",
    "volatilities.shape"
   ]
  },
  {
   "cell_type": "code",
   "execution_count": null,
   "id": "cf44f663-5e0e-4bf4-89aa-fc2e3ff49f92",
   "metadata": {
    "tags": []
   },
   "outputs": [],
   "source": [
    "# 查找全是常数的列\n",
    "constant_columns = [col for col in volatilities.columns if volatilities[col].nunique() < 100]\n",
    "constant_columns"
   ]
  },
  {
   "cell_type": "code",
   "execution_count": null,
   "id": "912023b3-a4d6-4ae0-82b1-eda666308d75",
   "metadata": {
    "tags": []
   },
   "outputs": [],
   "source": [
    "# 删除全是常数的列\n",
    "volatilities = volatilities.drop(columns=constant_columns)"
   ]
  },
  {
   "cell_type": "code",
   "execution_count": null,
   "id": "fa0508d9-87a7-432e-9b4e-c05715a7d3cb",
   "metadata": {
    "tags": []
   },
   "outputs": [],
   "source": [
    "volatilities = volatilities.iloc[:252, :300]\n",
    "volatilities.to_csv('datasets/processed_data/volatilities.csv')"
   ]
  },
  {
   "cell_type": "code",
   "execution_count": null,
   "id": "5b33f0c8-97b5-47c8-ac98-cad7d9d1a29e",
   "metadata": {
    "tags": []
   },
   "outputs": [],
   "source": [
    "from statsmodels.tsa.api import VAR\n",
    "model = VAR(volatilities)\n",
    "results = model.fit(maxlags=5)\n",
    "H=5"
   ]
  },
  {
   "cell_type": "code",
   "execution_count": null,
   "id": "6c2c2a0a-2c30-4f97-bd97-d33c3fb54acd",
   "metadata": {
    "tags": []
   },
   "outputs": [],
   "source": [
    "from tqdm import tqdm\n",
    "# 获取模型残差的协方差矩阵及其逆矩阵\n",
    "sigma_u = results.sigma_u\n",
    "sigma_u_inv = np.linalg.inv(sigma_u)\n",
    "\n",
    "# 计算 GFEVD\n",
    "def compute_gfevd(H, A, sigma_u, sigma_u_inv):\n",
    "    n_vars = A.shape[1]\n",
    "    gfevd = np.zeros((n_vars, n_vars))\n",
    "    e = np.eye(n_vars)\n",
    "    \n",
    "    for i in tqdm(range(n_vars)):\n",
    "        for j in range(n_vars):\n",
    "            num = sigma_u_inv[j, j] * np.sum([(e[i].T @ A[h] @ sigma_u @ e[j]) ** 2 for h in range(H)]) \n",
    "            den = np.sum([(e[i].T @ A[h] @ sigma_u @ A[h].T @ e[i]) for h in range(H)])\n",
    "            gfevd[i, j] = num / den\n",
    "    return gfevd\n"
   ]
  },
  {
   "cell_type": "code",
   "execution_count": null,
   "id": "ac5b5533-de19-4ab4-9d20-89d4ce3e821d",
   "metadata": {
    "tags": []
   },
   "outputs": [],
   "source": [
    "MA_A = results.ma_rep(maxn=5)"
   ]
  },
  {
   "cell_type": "code",
   "execution_count": null,
   "id": "6a44d49a-f053-47ff-8179-eeb08170fd07",
   "metadata": {
    "tags": []
   },
   "outputs": [],
   "source": [
    "# 计算 GFEVD\n",
    "gfevd = compute_gfevd(H, MA_A, sigma_u, sigma_u_inv)\n",
    "\n",
    "gfevd = pd.DataFrame(gfevd[:,:], index=volatilities.columns,\n",
    "             columns=volatilities.columns)\n",
    "\n",
    "gfevd"
   ]
  },
  {
   "cell_type": "code",
   "execution_count": null,
   "id": "d5ea082e-b2cb-490c-b104-47d61b081411",
   "metadata": {
    "tags": []
   },
   "outputs": [],
   "source": [
    "a = gfevd/10e14\n",
    "plt.hist(a.values.ravel())"
   ]
  },
  {
   "cell_type": "markdown",
   "id": "1b81d249-aee8-40bc-ab50-32808f5b9178",
   "metadata": {},
   "source": [
    "### 归一化"
   ]
  },
  {
   "cell_type": "code",
   "execution_count": null,
   "id": "ae62d687-11e8-41f6-9405-c10a0f9f5eb2",
   "metadata": {
    "tags": []
   },
   "outputs": [],
   "source": [
    "def scale_one(df):\n",
    "    # j 归一化\n",
    "    s1 = df.values\n",
    "    s2 = df.values.sum(axis=1)\n",
    "    s3 = (s1.T/s2).T\n",
    "    return pd.DataFrame(s3, index=df.index, columns=df.index)"
   ]
  },
  {
   "cell_type": "code",
   "execution_count": null,
   "id": "5b0d44f9-5aeb-47fa-aedc-0e24a0045342",
   "metadata": {
    "tags": []
   },
   "outputs": [],
   "source": [
    "spillover_matrix = scale_one(gfevd)\n",
    "spillover_matrix"
   ]
  },
  {
   "cell_type": "code",
   "execution_count": null,
   "id": "bd32cfef-308b-4fa0-aa8a-da4a3a47c62b",
   "metadata": {
    "tags": []
   },
   "outputs": [],
   "source": [
    "import pandas as pd\n",
    "path='datasets/华证2009-2023年（含细分项+季度)）/华证esg评级2009-2023（细分项）/华证esg评级含细分项（年度）2009-2023.xlsx'\n",
    "ESG_df = pd.read_excel(path, dtype={'股票代码':str})\n",
    "ESG_df['股票代码'] = ESG_df['股票代码'].str.zfill(6)\n",
    "ESG_df.head(1)"
   ]
  },
  {
   "cell_type": "code",
   "execution_count": null,
   "id": "bb5f2e72-24e7-40c0-a951-c196e8cdd58d",
   "metadata": {
    "tags": []
   },
   "outputs": [],
   "source": [
    "ESG = ESG_df[['股票代码', '综合得分']].groupby('股票代码').mean()"
   ]
  },
  {
   "cell_type": "code",
   "execution_count": null,
   "id": "5b94ff4b-c225-433c-9779-ba54e6cb6a37",
   "metadata": {
    "tags": []
   },
   "outputs": [],
   "source": [
    "df = pd.DataFrame((gfevd/10e14).sum(axis=0), columns=['spillover'])\n",
    "df['ESG_Score'] = ESG\n",
    "df"
   ]
  },
  {
   "cell_type": "code",
   "execution_count": null,
   "id": "e401a4d1-37fb-4783-ab2c-6df4c46f333f",
   "metadata": {
    "tags": []
   },
   "outputs": [],
   "source": [
    "df.plot(kind='scatter', x='ESG_Score', y='spillover')"
   ]
  },
  {
   "cell_type": "code",
   "execution_count": null,
   "id": "a0a4f197-6d28-4165-a300-018fa775bcb5",
   "metadata": {
    "tags": []
   },
   "outputs": [],
   "source": [
    "import pandas as pd\n",
    "import matplotlib.pyplot as plt\n",
    "from scipy.stats import pearsonr\n",
    "import statsmodels.api as sm"
   ]
  },
  {
   "cell_type": "code",
   "execution_count": null,
   "id": "e7163c6c-3958-4c35-9240-c4728064801d",
   "metadata": {
    "tags": []
   },
   "outputs": [],
   "source": [
    "# 计算皮尔逊相关系数\n",
    "corr, p_value = pearsonr(df['spillover'], df['ESG_Score'])\n",
    "print(f\"Pearson correlation coefficient: {corr:.4f}, P-value: {p_value:.4f}\")"
   ]
  },
  {
   "cell_type": "code",
   "execution_count": null,
   "id": "89ee4ac7-fc4b-49ef-a584-c413940bc38d",
   "metadata": {
    "tags": []
   },
   "outputs": [],
   "source": [
    "import pandas as pd\n",
    "import matplotlib.pyplot as plt\n",
    "from scipy.stats import pearsonr\n",
    "import statsmodels.api as sm\n",
    "\n",
    "X = df['spillover']\n",
    "y = df['ESG_Score']\n",
    "X = sm.add_constant(X)  # 添加常数项\n",
    "model = sm.OLS(y, X).fit()\n",
    "print(model.summary())"
   ]
  },
  {
   "cell_type": "markdown",
   "id": "0f529e52-ba68-4101-880e-5b6d4afc0e48",
   "metadata": {},
   "source": [
    "### 净溢出"
   ]
  },
  {
   "cell_type": "markdown",
   "id": "ec1e8fc5-6ced-4d69-8454-0154af270f26",
   "metadata": {},
   "source": [
    "检查是否需要标准化"
   ]
  },
  {
   "cell_type": "code",
   "execution_count": null,
   "id": "516c653c-5577-4bcc-9558-20c4f761729f",
   "metadata": {
    "tags": []
   },
   "outputs": [],
   "source": [
    "spillover_matrix.sum().sum() "
   ]
  },
  {
   "cell_type": "code",
   "execution_count": null,
   "id": "ac927fe6-999c-4c99-b711-0b3a315c6b44",
   "metadata": {
    "tags": []
   },
   "outputs": [],
   "source": [
    "net_spillover_matrix = spillover_matrix.copy() * 0.\n",
    "for i in spillover_matrix.index:\n",
    "    for j in spillover_matrix.columns:\n",
    "        net = spillover_matrix.loc[i,j] - spillover_matrix.loc[j,i]\n",
    "        if net >= 0:\n",
    "            net_spillover_matrix.loc[i,j] = net\n",
    "        else:\n",
    "            net_spillover_matrix.loc[j,i] = -1 * net"
   ]
  },
  {
   "cell_type": "markdown",
   "id": "6d8d7a57-ede4-4038-886d-544c908f7988",
   "metadata": {},
   "source": [
    "### 热力图"
   ]
  },
  {
   "cell_type": "code",
   "execution_count": null,
   "id": "98ff3deb-3b26-40ff-856e-143525cd8da7",
   "metadata": {
    "tags": []
   },
   "outputs": [],
   "source": [
    "import seaborn as sns\n",
    "import matplotlib.pyplot as plt\n",
    "from matplotlib_inline import backend_inline\n",
    "backend_inline.set_matplotlib_formats('svg') \n",
    "\n",
    "sns.heatmap(net_spillover_matrix, annot=True, fmt=\".3f\", cmap=\"YlGnBu\")\n",
    "\n",
    "plt.title(\"Net Spillover Matrices\")\n",
    "\n",
    "plt.show()\n"
   ]
  },
  {
   "cell_type": "code",
   "execution_count": null,
   "id": "49c39140-05d7-4111-8ee9-f3638a5fae3a",
   "metadata": {
    "tags": []
   },
   "outputs": [],
   "source": [
    "import pandas as pd\n",
    "net_spillover_matrix = pd.read_csv('bb.csv', index_col=0, dtype={'code':str})\n",
    "net_spillover_matrix = net_spillover_matrix.iloc[:100, :100]"
   ]
  },
  {
   "cell_type": "markdown",
   "id": "a9691b37-a940-4768-b2fe-c8ca26e13ad3",
   "metadata": {},
   "source": [
    "## 构建溢出网络\n",
    "\n",
    "根据计算得到的溢出指数，构建各个股票网络之间的溢出矩阵。\n"
   ]
  },
  {
   "cell_type": "markdown",
   "id": "abe4855c-5828-46fa-9f1b-6a02c02e07de",
   "metadata": {},
   "source": [
    "将溢出矩阵转换为图网络，节点代表股票，边的权重代表波动率溢出的强度。\n"
   ]
  },
  {
   "cell_type": "code",
   "execution_count": null,
   "id": "ae181cb9-f90e-4617-ba1a-a3cabeb6db98",
   "metadata": {},
   "outputs": [],
   "source": [
    "import networkx as nx\n",
    "import matplotlib.pyplot as plt\n",
    "from tqdm.notebook import tqdm\n",
    "\n",
    "def build_spillover_network(spillover_matrix):\n",
    "    G = nx.DiGraph()\n",
    "    num_nodes = spillover_matrix.shape[0]\n",
    "    for i in tqdm(spillover_matrix.index):\n",
    "        for j in spillover_matrix.columns:\n",
    "            if i != j:\n",
    "                G.add_edge(i, j, weight=spillover_matrix.loc[i, j])\n",
    "    return G\n",
    "\n",
    "G = build_spillover_network(net_spillover_matrix)\n"
   ]
  },
  {
   "cell_type": "code",
   "execution_count": null,
   "id": "4676126a-2cf7-4992-8f30-ab911bb4f4b6",
   "metadata": {
    "tags": []
   },
   "outputs": [],
   "source": [
    "import seaborn as sns\n",
    "# 使用Seaborn的调色板生成九种颜色\n",
    "palette = sns.color_palette(\"husl\", 9)\n",
    "# 转换为十六进制颜色代码\n",
    "colors_list = [sns.desaturate(color, 0.8) for color in palette]"
   ]
  },
  {
   "cell_type": "code",
   "execution_count": null,
   "id": "66cc5afe-cc09-443d-842b-1c9268be1200",
   "metadata": {
    "tags": []
   },
   "outputs": [],
   "source": [
    "# import matplotlib.patches as mpatches\n",
    "# ESG_rate = np.array(['AAA', 'AA', 'A', 'BBB', 'BB', 'B', 'CCC', 'CC', 'C'])\n",
    "# node_colors = []\n",
    "# used_rate = set()\n",
    "# for code in net_spillover_matrix.index:\n",
    "#     a = ESG_df.loc[ESG_df['证券代码'] == str(code), 'ESG评级'].values[0]\n",
    "#     loc = np.where(ESG_rate == str(a))[0][0]\n",
    "#     node_colors.append(colors_list[loc])\n",
    "#     used_rate.add(loc)\n",
    "# legend_color = []\n",
    "# for c in used_rate:\n",
    "#     legend_color.append(mpatches.Patch(color=colors_list[c], label=ESG_rate[c]))"
   ]
  },
  {
   "cell_type": "code",
   "execution_count": null,
   "id": "04909476-38e4-45c1-bc80-7fc2fd7f58ae",
   "metadata": {
    "tags": []
   },
   "outputs": [],
   "source": [
    "import numpy as np\n",
    "# 定义边的权重\n",
    "edge_weights = []\n",
    "for u, v in G.edges():\n",
    "    if G[u][v]['weight'] == 0:\n",
    "        edge_weights.append(np.nan)\n",
    "    else:\n",
    "        if np.abs(G[u][v]['weight']*20 )/10>10:\n",
    "            edge_weights.append(np.abs(G[u][v]['weight']*20 )/10)\n",
    "        else:\n",
    "            edge_weights.append(np.nan)"
   ]
  },
  {
   "cell_type": "code",
   "execution_count": null,
   "id": "f7b779f7-2c91-4f72-8250-ab93899b4092",
   "metadata": {
    "tags": []
   },
   "outputs": [],
   "source": [
    "(~np.isnan(edge_weights)).sum()"
   ]
  },
  {
   "cell_type": "code",
   "execution_count": null,
   "id": "3b7321cf-e859-4804-9f0c-ee0c5d9b6d7d",
   "metadata": {
    "tags": []
   },
   "outputs": [],
   "source": [
    "import matplotlib.cm as cm\n",
    "plt.figure(figsize=(6, 6))  \n",
    "pos = nx.spring_layout(G)  # 使用弹簧布局\n",
    "\n",
    "#node_style = { 'node_size': 100, 'alpha': 0.8} #'node_color': node_colors,\n",
    "edge_style = {'width': edge_weights, 'alpha': 0.5} #'edge_color': 'gray', \n",
    "nx.draw(G,\n",
    "        pos=pos,\n",
    "        with_labels=False, \n",
    "        font_size=6,\n",
    "        font_color='black',\n",
    "        font_weight='bold',\n",
    "        arrows=True,\n",
    "        arrowsize=8,\n",
    "        #**node_style,\n",
    "        **edge_style\n",
    "       )\n",
    "\n",
    "#plt.legend(handles=legend_color, loc='best')"
   ]
  },
  {
   "cell_type": "code",
   "execution_count": null,
   "id": "53947bb0-fbd1-4360-8b7a-d3e7d5419b32",
   "metadata": {},
   "outputs": [],
   "source": [
    "sns.clustermap(net_spillover_matrix)"
   ]
  },
  {
   "cell_type": "code",
   "execution_count": null,
   "id": "d9177aaf-17fc-4b7e-b142-b825b3490e95",
   "metadata": {},
   "outputs": [],
   "source": []
  }
 ],
 "metadata": {
  "kernelspec": {
   "display_name": "Python 3 (ipykernel)",
   "language": "python",
   "name": "python3"
  },
  "language_info": {
   "codemirror_mode": {
    "name": "ipython",
    "version": 3
   },
   "file_extension": ".py",
   "mimetype": "text/x-python",
   "name": "python",
   "nbconvert_exporter": "python",
   "pygments_lexer": "ipython3",
   "version": "3.11.5"
  }
 },
 "nbformat": 4,
 "nbformat_minor": 5
}
