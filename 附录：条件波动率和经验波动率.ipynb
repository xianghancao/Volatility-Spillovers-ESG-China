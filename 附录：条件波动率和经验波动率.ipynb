{
 "cells": [
  {
   "cell_type": "markdown",
   "id": "5cf372a2-bf0f-4c3f-8c8f-761326705c70",
   "metadata": {},
   "source": [
    "# 附录：条件波动率和经验波动率"
   ]
  },
  {
   "cell_type": "code",
   "execution_count": 1,
   "id": "0cec3cd0-5936-41cf-9428-c73168c97f01",
   "metadata": {},
   "outputs": [],
   "source": [
    "def cal_vol_from_Diebolda(df_high, df_low):\n",
    "    \"\"\"\n",
    "    计算diebolda波动率\n",
    "    \"\"\"\n",
    "    df_vol_better =  0.361 * (np.log(df_high) - np.log(df_low)) ** 2\n",
    "    return (100 * np.sqrt(df_vol_better  * 365))\n"
   ]
  },
  {
   "cell_type": "markdown",
   "id": "593612ee-b6d0-4b7e-bcb6-b64ef9e4b4d7",
   "metadata": {},
   "source": [
    "### 日内波动率的计算"
   ]
  },
  {
   "cell_type": "code",
   "execution_count": 1,
   "id": "1ab06958-16f6-427f-acdd-0526959f3fec",
   "metadata": {
    "tags": []
   },
   "outputs": [],
   "source": [
    "#波动率={0.511*（H-L）2-0.019*[（C-O）（H+L-2*O）-2*（H-O）*(L-O)]-0.383*(C-O)2}1/2\n",
    "#其中H、L、O和C分别表示最高价、最低价、开盘价和收盘价。从计算的波动率时间序列来看，与VIX指数走势基本一致。\n",
    "def calculate_intral_volatility(open_, high, low, close):\n",
    "    term1 = 0.511 * (high - low) ** 2\n",
    "    term2 = -0.019 * ((close - open_) * (high + low - 2 * open_) - 2 * (high - open_) * (low - open_))\n",
    "    term3 = -0.383 * (close - open_) ** 2\n",
    "    #print (term1 + term2)\n",
    "    volatility = np.sqrt(term1 + term2 + term3)\n",
    "    return volatility"
   ]
  },
  {
   "cell_type": "code",
   "execution_count": 2,
   "id": "1cbaa6be-20f3-4542-be17-d54de37a2767",
   "metadata": {
    "tags": []
   },
   "outputs": [
    {
     "data": {
      "text/plain": [
       "(3504, 2212)"
      ]
     },
     "execution_count": 2,
     "metadata": {},
     "output_type": "execute_result"
    }
   ],
   "source": [
    "import pandas as pd\n",
    "close_df = pd.read_csv('datasets/processed_data/close.csv')\n",
    "close_df.index = close_df['time']\n",
    "close_df = close_df.iloc[:, 1:]\n",
    "\n",
    "open_df = pd.read_csv('datasets/processed_data/open.csv')\n",
    "open_df.index = open_df['time']\n",
    "open_df = open_df.iloc[:, 1:]\n",
    "\n",
    "high_df = pd.read_csv('datasets/processed_data/high.csv')\n",
    "high_df.index = high_df['time']\n",
    "high_df = high_df.iloc[:, 1:]\n",
    "\n",
    "low_df = pd.read_csv('datasets/processed_data/low.csv')\n",
    "low_df.index = low_df['time']\n",
    "low_df = low_df.iloc[:, 1:]\n",
    "close_df.shape"
   ]
  },
  {
   "cell_type": "code",
   "execution_count": 3,
   "id": "4bf56ebb-7ddf-4da3-a8a6-9cbe921d51c3",
   "metadata": {
    "tags": []
   },
   "outputs": [
    {
     "name": "stderr",
     "output_type": "stream",
     "text": [
      "/Users/xhc/miniconda3/envs/d2l/lib/python3.11/site-packages/pandas/core/internals/blocks.py:393: RuntimeWarning: invalid value encountered in sqrt\n",
      "  result = func(self.values, **kwargs)\n"
     ]
    },
    {
     "data": {
      "text/plain": [
       "(3007, 2212)"
      ]
     },
     "execution_count": 3,
     "metadata": {},
     "output_type": "execute_result"
    }
   ],
   "source": [
    "import numpy as np\n",
    "vol_interday = calculate_intral_volatility(open_df, high_df, low_df, close_df)\n",
    "vol_interday = vol_interday.ffill()\n",
    "# 控制缺失值的数量\n",
    "vol_interday = vol_interday.loc[:, (vol_interday.isnull().sum()>500) == False].dropna()\n",
    "vol_interday.shape"
   ]
  },
  {
   "cell_type": "code",
   "execution_count": 12,
   "id": "419810f7-5247-41e9-b944-d2d702051664",
   "metadata": {},
   "outputs": [],
   "source": [
    "vol_interday.to_csv('vol_interday.csv')"
   ]
  },
  {
   "cell_type": "code",
   "execution_count": 5,
   "id": "0b0edfb8-d775-4fad-b6c9-6d32bf979c9f",
   "metadata": {
    "tags": []
   },
   "outputs": [],
   "source": [
    "vol_cond = pd.read_csv('datasets/processed_data/conditional_vol.csv', index_col=0)"
   ]
  },
  {
   "cell_type": "code",
   "execution_count": 6,
   "id": "ab091da8-c4d3-4b6e-ac38-af0226d2aaf8",
   "metadata": {
    "tags": []
   },
   "outputs": [
    {
     "data": {
      "text/plain": [
       "(3006, 2212)"
      ]
     },
     "execution_count": 6,
     "metadata": {},
     "output_type": "execute_result"
    }
   ],
   "source": [
    "vol_cond.shape"
   ]
  },
  {
   "cell_type": "code",
   "execution_count": 7,
   "id": "94a6bd98-2df4-4f65-9872-d24228c81dfc",
   "metadata": {
    "tags": []
   },
   "outputs": [
    {
     "data": {
      "text/html": [
       "<div>\n",
       "<style scoped>\n",
       "    .dataframe tbody tr th:only-of-type {\n",
       "        vertical-align: middle;\n",
       "    }\n",
       "\n",
       "    .dataframe tbody tr th {\n",
       "        vertical-align: top;\n",
       "    }\n",
       "\n",
       "    .dataframe thead th {\n",
       "        text-align: right;\n",
       "    }\n",
       "</style>\n",
       "<table border=\"1\" class=\"dataframe\">\n",
       "  <thead>\n",
       "    <tr style=\"text-align: right;\">\n",
       "      <th></th>\n",
       "      <th>vol_interday</th>\n",
       "      <th>vol_cond</th>\n",
       "    </tr>\n",
       "  </thead>\n",
       "  <tbody>\n",
       "    <tr>\n",
       "      <th>000001</th>\n",
       "      <td>22.781253</td>\n",
       "      <td>2.030806</td>\n",
       "    </tr>\n",
       "    <tr>\n",
       "      <th>000002</th>\n",
       "      <td>54.917648</td>\n",
       "      <td>2.270816</td>\n",
       "    </tr>\n",
       "    <tr>\n",
       "      <th>000004</th>\n",
       "      <td>4.364469</td>\n",
       "      <td>3.071209</td>\n",
       "    </tr>\n",
       "    <tr>\n",
       "      <th>000005</th>\n",
       "      <td>0.799437</td>\n",
       "      <td>2.373780</td>\n",
       "    </tr>\n",
       "    <tr>\n",
       "      <th>000006</th>\n",
       "      <td>7.342952</td>\n",
       "      <td>2.525693</td>\n",
       "    </tr>\n",
       "    <tr>\n",
       "      <th>...</th>\n",
       "      <td>...</td>\n",
       "      <td>...</td>\n",
       "    </tr>\n",
       "    <tr>\n",
       "      <th>601991</th>\n",
       "      <td>0.171858</td>\n",
       "      <td>1.997373</td>\n",
       "    </tr>\n",
       "    <tr>\n",
       "      <th>601992</th>\n",
       "      <td>0.158343</td>\n",
       "      <td>2.239497</td>\n",
       "    </tr>\n",
       "    <tr>\n",
       "      <th>601996</th>\n",
       "      <td>0.331205</td>\n",
       "      <td>2.480986</td>\n",
       "    </tr>\n",
       "    <tr>\n",
       "      <th>601998</th>\n",
       "      <td>0.118209</td>\n",
       "      <td>1.708615</td>\n",
       "    </tr>\n",
       "    <tr>\n",
       "      <th>601999</th>\n",
       "      <td>0.189440</td>\n",
       "      <td>2.767418</td>\n",
       "    </tr>\n",
       "  </tbody>\n",
       "</table>\n",
       "<p>2212 rows × 2 columns</p>\n",
       "</div>"
      ],
      "text/plain": [
       "        vol_interday  vol_cond\n",
       "000001     22.781253  2.030806\n",
       "000002     54.917648  2.270816\n",
       "000004      4.364469  3.071209\n",
       "000005      0.799437  2.373780\n",
       "000006      7.342952  2.525693\n",
       "...              ...       ...\n",
       "601991      0.171858  1.997373\n",
       "601992      0.158343  2.239497\n",
       "601996      0.331205  2.480986\n",
       "601998      0.118209  1.708615\n",
       "601999      0.189440  2.767418\n",
       "\n",
       "[2212 rows x 2 columns]"
      ]
     },
     "execution_count": 7,
     "metadata": {},
     "output_type": "execute_result"
    }
   ],
   "source": [
    "df = pd.DataFrame(vol_interday.mean(), columns=['vol_interday'])\n",
    "df['vol_cond'] = vol_cond.mean()\n",
    "df"
   ]
  },
  {
   "cell_type": "code",
   "execution_count": 8,
   "id": "b89d1206-eb57-472f-8dd5-91b4994d899a",
   "metadata": {
    "tags": []
   },
   "outputs": [],
   "source": [
    "import pandas as pd\n",
    "import matplotlib.pyplot as plt\n",
    "from scipy.stats import pearsonr\n",
    "import statsmodels.api as sm"
   ]
  },
  {
   "cell_type": "code",
   "execution_count": 9,
   "id": "a033cf1a-dd83-40dd-812f-952ea8511111",
   "metadata": {
    "tags": []
   },
   "outputs": [
    {
     "data": {
      "image/png": "[encoded data removed]",
      "text/plain": [
       "<Figure size 1000x600 with 1 Axes>"
      ]
     },
     "metadata": {},
     "output_type": "display_data"
    }
   ],
   "source": [
    "# df.plot(kind='scatter', x='Volatility', y='ESG_Score')\n",
    "plt.figure(figsize=(10, 6))\n",
    "plt.scatter(df['vol_interday'], df['vol_cond'], alpha=0.5)\n",
    "plt.title('Scatter Plot of vol_interday vs vol_cond')\n",
    "plt.xlabel('vol_interday')\n",
    "plt.ylabel('vol_cond')\n",
    "plt.show()"
   ]
  },
  {
   "cell_type": "code",
   "execution_count": 18,
   "id": "9ba013ca-ff2e-4549-887f-a64bcd040ea0",
   "metadata": {
    "tags": []
   },
   "outputs": [
    {
     "name": "stdout",
     "output_type": "stream",
     "text": [
      "Pearson correlation coefficient: -0.0249, P-value: 0.2418\n"
     ]
    }
   ],
   "source": [
    "# 计算皮尔逊相关系数\n",
    "corr, p_value = pearsonr(df['vol_interday'], df['vol_cond'])\n",
    "print(f\"Pearson correlation coefficient: {corr:.4f}, P-value: {p_value:.4f}\")"
   ]
  },
  {
   "cell_type": "code",
   "execution_count": 19,
   "id": "75a61808-b72d-49e2-b77a-17bc5c4fb818",
   "metadata": {
    "tags": []
   },
   "outputs": [
    {
     "name": "stdout",
     "output_type": "stream",
     "text": [
      "                            OLS Regression Results                            \n",
      "==============================================================================\n",
      "Dep. Variable:               vol_cond   R-squared:                       0.001\n",
      "Model:                            OLS   Adj. R-squared:                  0.000\n",
      "Method:                 Least Squares   F-statistic:                     1.371\n",
      "Date:                Tue, 16 Jul 2024   Prob (F-statistic):              0.242\n",
      "Time:                        17:26:05   Log-Likelihood:                -1132.3\n",
      "No. Observations:                2212   AIC:                             2269.\n",
      "Df Residuals:                    2210   BIC:                             2280.\n",
      "Df Model:                           1                                         \n",
      "Covariance Type:            nonrobust                                         \n",
      "================================================================================\n",
      "                   coef    std err          t      P>|t|      [0.025      0.975]\n",
      "--------------------------------------------------------------------------------\n",
      "const            2.6566      0.009    307.007      0.000       2.640       2.674\n",
      "vol_interday    -0.0004      0.000     -1.171      0.242      -0.001       0.000\n",
      "==============================================================================\n",
      "Omnibus:                      986.412   Durbin-Watson:                   1.367\n",
      "Prob(Omnibus):                  0.000   Jarque-Bera (JB):            37333.838\n",
      "Skew:                           1.419   Prob(JB):                         0.00\n",
      "Kurtosis:                      22.925   Cond. No.                         28.1\n",
      "==============================================================================\n",
      "\n",
      "Notes:\n",
      "[1] Standard Errors assume that the covariance matrix of the errors is correctly specified.\n"
     ]
    }
   ],
   "source": [
    "import pandas as pd\n",
    "import matplotlib.pyplot as plt\n",
    "from scipy.stats import pearsonr\n",
    "import statsmodels.api as sm\n",
    "\n",
    "X = df['vol_interday']\n",
    "y = df['vol_cond']\n",
    "X = sm.add_constant(X)  # 添加常数项\n",
    "model = sm.OLS(y, X).fit()\n",
    "print(model.summary())"
   ]
  },
  {
   "cell_type": "code",
   "execution_count": null,
   "id": "fa9c84a0-2e2b-4e24-a0e3-5bf858ce586f",
   "metadata": {},
   "outputs": [],
   "source": []
  }
 ],
 "metadata": {
  "kernelspec": {
   "display_name": "Python 3 (ipykernel)",
   "language": "python",
   "name": "python3"
  },
  "language_info": {
   "codemirror_mode": {
    "name": "ipython",
    "version": 3
   },
   "file_extension": ".py",
   "mimetype": "text/x-python",
   "name": "python",
   "nbconvert_exporter": "python",
   "pygments_lexer": "ipython3",
   "version": "3.11.7"
  }
 },
 "nbformat": 4,
 "nbformat_minor": 5
}
