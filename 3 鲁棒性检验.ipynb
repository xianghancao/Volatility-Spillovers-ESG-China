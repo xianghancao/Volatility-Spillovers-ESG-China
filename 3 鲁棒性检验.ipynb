{
 "cells": [
  {
   "cell_type": "markdown",
   "id": "21ba3d30-78a4-45c6-985c-26459996f485",
   "metadata": {},
   "source": [
    "# 3 鲁棒性检验"
   ]
  },
  {
   "cell_type": "code",
   "execution_count": null,
   "id": "05cb0c8f-a596-4bcf-8dac-751a4442d7f4",
   "metadata": {},
   "outputs": [],
   "source": []
  }
 ],
 "metadata": {
  "kernelspec": {
   "display_name": "Python 3 (ipykernel)",
   "language": "python",
   "name": "python3"
  },
  "language_info": {
   "codemirror_mode": {
    "name": "ipython",
    "version": 3
   },
   "file_extension": ".py",
   "mimetype": "text/x-python",
   "name": "python",
   "nbconvert_exporter": "python",
   "pygments_lexer": "ipython3",
   "version": "3.11.5"
  }
 },
 "nbformat": 4,
 "nbformat_minor": 5
}
