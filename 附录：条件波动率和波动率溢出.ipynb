{
 "cells": [
  {
   "cell_type": "markdown",
   "id": "4f2f56aa-a774-4375-85d6-18076dd5c99e",
   "metadata": {},
   "source": [
    "# 条件波动率和波动率溢出的关系"
   ]
  },
  {
   "cell_type": "code",
   "execution_count": 107,
   "id": "7990d10a-732c-44ad-b077-6f69e8908ee1",
   "metadata": {
    "tags": []
   },
   "outputs": [],
   "source": [
    "import pandas as pd\n",
    "volatilities = pd.read_csv('datasets/processed_data/conditional_vol.csv', index_col=0)\n",
    "#volatilities = volatilities.iloc[-500:, :500]"
   ]
  },
  {
   "cell_type": "markdown",
   "id": "8f7debfb-8f52-4645-884e-2bf97a3c940a",
   "metadata": {},
   "source": [
    "### 数据平稳性检验和差分处理"
   ]
  },
  {
   "cell_type": "code",
   "execution_count": 67,
   "id": "96b0bd54-cb8f-4901-bd1c-d441c6ab58a3",
   "metadata": {
    "tags": []
   },
   "outputs": [
    {
     "data": {
      "application/vnd.jupyter.widget-view+json": {
       "model_id": "1097e0154993495eb5d188adae5d0c0b",
       "version_major": 2,
       "version_minor": 0
      },
      "text/plain": [
       "  0%|          | 0/500 [00:00<?, ?it/s]"
      ]
     },
     "metadata": {},
     "output_type": "display_data"
    },
    {
     "name": "stdout",
     "output_type": "stream",
     "text": [
      "85\n"
     ]
    }
   ],
   "source": [
    "from statsmodels.tsa.stattools import adfuller\n",
    "from tqdm.notebook import tqdm\n",
    "adf_no_list = []\n",
    "def check_stationarity(series):\n",
    "    result = adfuller(series)\n",
    "    return result[1]  # 返回p值\n",
    "\n",
    "\n",
    "for col in tqdm(volatilities.columns):\n",
    "    p_value = check_stationarity(volatilities[col])\n",
    "    if p_value > 0.05:            # 如果p值大于0.05，进行差分\n",
    "        adf_no_list.append(col)\n",
    "print(len(adf_no_list))"
   ]
  },
  {
   "cell_type": "code",
   "execution_count": 68,
   "id": "21c17579-b8f9-4316-ab99-3bf9b42aa8d3",
   "metadata": {
    "tags": []
   },
   "outputs": [
    {
     "name": "stdout",
     "output_type": "stream",
     "text": [
      "85\n"
     ]
    }
   ],
   "source": [
    "print(len(adf_no_list))"
   ]
  },
  {
   "cell_type": "markdown",
   "id": "9156be3e-69f7-4367-9951-80ecd520ccf7",
   "metadata": {},
   "source": [
    "### 波动率溢出指数"
   ]
  },
  {
   "cell_type": "markdown",
   "id": "b1a60036-7849-48f3-ba4b-0b4936cd5e86",
   "metadata": {},
   "source": [
    "使用Diebold和Yilmaz的方法计算波动率溢出指数。该方法通过VAR（向量自回归）模型计算不同时间序列之间的波动率传递和溢出效应。\n"
   ]
  },
  {
   "cell_type": "code",
   "execution_count": 69,
   "id": "d6e5c523-f852-428f-b40b-dfd4ebf31598",
   "metadata": {
    "tags": []
   },
   "outputs": [
    {
     "data": {
      "text/plain": [
       "(500, 415)"
      ]
     },
     "execution_count": 69,
     "metadata": {},
     "output_type": "execute_result"
    }
   ],
   "source": [
    "volatilities = volatilities.drop(adf_no_list, axis=1)\n",
    "volatilities.shape"
   ]
  },
  {
   "cell_type": "code",
   "execution_count": 70,
   "id": "04e72886-e1b9-4860-94fa-80ff9c42d9fc",
   "metadata": {
    "tags": []
   },
   "outputs": [
    {
     "data": {
      "text/plain": [
       "[]"
      ]
     },
     "execution_count": 70,
     "metadata": {},
     "output_type": "execute_result"
    }
   ],
   "source": [
    "# 查找全是常数的列\n",
    "constant_columns = [col for col in volatilities.columns if volatilities[col].nunique() < 100]\n",
    "constant_columns"
   ]
  },
  {
   "cell_type": "code",
   "execution_count": 71,
   "id": "55b8d04f-212e-4383-9bd9-eeb1dde33419",
   "metadata": {
    "tags": []
   },
   "outputs": [],
   "source": [
    "# 删除全是常数的列\n",
    "volatilities = volatilities.drop(columns=constant_columns)"
   ]
  },
  {
   "cell_type": "code",
   "execution_count": 72,
   "id": "458e7a6f-6e6a-4d3b-acfc-c267bd912210",
   "metadata": {
    "tags": []
   },
   "outputs": [
    {
     "name": "stderr",
     "output_type": "stream",
     "text": [
      "/Users/hans/opt/anaconda3/lib/python3.9/site-packages/statsmodels/tsa/base/tsa_model.py:473: ValueWarning: A date index has been provided, but it has no associated frequency information and so will be ignored when e.g. forecasting.\n",
      "  self._init_dates(dates, freq)\n"
     ]
    }
   ],
   "source": [
    "from statsmodels.tsa.api import VAR\n",
    "model = VAR(volatilities)\n",
    "results = model.fit(maxlags=5)\n",
    "H=5"
   ]
  },
  {
   "cell_type": "code",
   "execution_count": 73,
   "id": "b5246fb8-f4c8-467a-b9f7-9469bf1609f7",
   "metadata": {
    "tags": []
   },
   "outputs": [],
   "source": [
    "import numpy as np\n",
    "from tqdm import tqdm\n",
    "# 获取模型残差的协方差矩阵及其逆矩阵\n",
    "sigma_u = results.sigma_u\n",
    "sigma_u_inv = np.linalg.inv(sigma_u)\n",
    "\n",
    "# 计算 GFEVD\n",
    "def compute_gfevd(H, A, sigma_u, sigma_u_inv):\n",
    "    n_vars = A.shape[1]\n",
    "    gfevd = np.zeros((n_vars, n_vars))\n",
    "    e = np.eye(n_vars)\n",
    "    \n",
    "    for i in tqdm(range(n_vars)):\n",
    "        for j in range(n_vars):\n",
    "            num = sigma_u_inv[j, j] * np.sum([(e[i].T @ A[h] @ sigma_u @ e[j]) ** 2 for h in range(H)]) \n",
    "            den = np.sum([(e[i].T @ A[h] @ sigma_u @ A[h].T @ e[i]) for h in range(H)])\n",
    "            gfevd[i, j] = num / den\n",
    "    return gfevd\n"
   ]
  },
  {
   "cell_type": "code",
   "execution_count": 74,
   "id": "0e73ae04-0ab6-4642-ac1a-18992ae2658b",
   "metadata": {
    "tags": []
   },
   "outputs": [],
   "source": [
    "MA_A = results.ma_rep(maxn=5)"
   ]
  },
  {
   "cell_type": "code",
   "execution_count": 75,
   "id": "1e083962-5338-466f-b1df-4ec8aec51d85",
   "metadata": {
    "tags": []
   },
   "outputs": [
    {
     "name": "stderr",
     "output_type": "stream",
     "text": [
      "100%|██████████| 415/415 [08:42<00:00,  1.26s/it]\n"
     ]
    },
    {
     "data": {
      "text/html": [
       "<div>\n",
       "<style scoped>\n",
       "    .dataframe tbody tr th:only-of-type {\n",
       "        vertical-align: middle;\n",
       "    }\n",
       "\n",
       "    .dataframe tbody tr th {\n",
       "        vertical-align: top;\n",
       "    }\n",
       "\n",
       "    .dataframe thead th {\n",
       "        text-align: right;\n",
       "    }\n",
       "</style>\n",
       "<table border=\"1\" class=\"dataframe\">\n",
       "  <thead>\n",
       "    <tr style=\"text-align: right;\">\n",
       "      <th></th>\n",
       "      <th>000001</th>\n",
       "      <th>000005</th>\n",
       "      <th>000006</th>\n",
       "      <th>000007</th>\n",
       "      <th>000008</th>\n",
       "      <th>000009</th>\n",
       "      <th>000010</th>\n",
       "      <th>000011</th>\n",
       "      <th>000014</th>\n",
       "      <th>000016</th>\n",
       "      <th>...</th>\n",
       "      <th>002058</th>\n",
       "      <th>002059</th>\n",
       "      <th>002060</th>\n",
       "      <th>002061</th>\n",
       "      <th>002062</th>\n",
       "      <th>002063</th>\n",
       "      <th>002064</th>\n",
       "      <th>002065</th>\n",
       "      <th>002066</th>\n",
       "      <th>002067</th>\n",
       "    </tr>\n",
       "  </thead>\n",
       "  <tbody>\n",
       "    <tr>\n",
       "      <th>000001</th>\n",
       "      <td>167.251789</td>\n",
       "      <td>22.980037</td>\n",
       "      <td>38.298827</td>\n",
       "      <td>64.147626</td>\n",
       "      <td>61.067967</td>\n",
       "      <td>22.202875</td>\n",
       "      <td>23.713066</td>\n",
       "      <td>9.899132</td>\n",
       "      <td>64.541872</td>\n",
       "      <td>88.263447</td>\n",
       "      <td>...</td>\n",
       "      <td>56.388124</td>\n",
       "      <td>17.208079</td>\n",
       "      <td>61.023476</td>\n",
       "      <td>15.814884</td>\n",
       "      <td>8.365614</td>\n",
       "      <td>118.377067</td>\n",
       "      <td>150.465783</td>\n",
       "      <td>19.188454</td>\n",
       "      <td>59.144506</td>\n",
       "      <td>7.538930</td>\n",
       "    </tr>\n",
       "    <tr>\n",
       "      <th>000005</th>\n",
       "      <td>42.440735</td>\n",
       "      <td>24.112947</td>\n",
       "      <td>10.994963</td>\n",
       "      <td>152.154941</td>\n",
       "      <td>69.807333</td>\n",
       "      <td>23.093950</td>\n",
       "      <td>38.430028</td>\n",
       "      <td>17.738171</td>\n",
       "      <td>22.989449</td>\n",
       "      <td>84.379210</td>\n",
       "      <td>...</td>\n",
       "      <td>40.546625</td>\n",
       "      <td>37.180790</td>\n",
       "      <td>25.863991</td>\n",
       "      <td>24.362021</td>\n",
       "      <td>8.411708</td>\n",
       "      <td>87.954315</td>\n",
       "      <td>56.297001</td>\n",
       "      <td>26.560553</td>\n",
       "      <td>47.884311</td>\n",
       "      <td>13.972484</td>\n",
       "    </tr>\n",
       "    <tr>\n",
       "      <th>000006</th>\n",
       "      <td>82.180004</td>\n",
       "      <td>13.754036</td>\n",
       "      <td>38.633512</td>\n",
       "      <td>127.061452</td>\n",
       "      <td>103.248059</td>\n",
       "      <td>27.355648</td>\n",
       "      <td>12.106851</td>\n",
       "      <td>9.239554</td>\n",
       "      <td>91.592732</td>\n",
       "      <td>110.843308</td>\n",
       "      <td>...</td>\n",
       "      <td>56.913853</td>\n",
       "      <td>23.187407</td>\n",
       "      <td>33.952075</td>\n",
       "      <td>9.695847</td>\n",
       "      <td>12.982752</td>\n",
       "      <td>140.246312</td>\n",
       "      <td>202.685850</td>\n",
       "      <td>9.725668</td>\n",
       "      <td>89.874677</td>\n",
       "      <td>12.665249</td>\n",
       "    </tr>\n",
       "    <tr>\n",
       "      <th>000007</th>\n",
       "      <td>20.772771</td>\n",
       "      <td>5.171478</td>\n",
       "      <td>5.161918</td>\n",
       "      <td>300.290186</td>\n",
       "      <td>174.860541</td>\n",
       "      <td>27.340422</td>\n",
       "      <td>37.152245</td>\n",
       "      <td>16.776462</td>\n",
       "      <td>115.064671</td>\n",
       "      <td>131.239176</td>\n",
       "      <td>...</td>\n",
       "      <td>52.921704</td>\n",
       "      <td>22.103730</td>\n",
       "      <td>12.436884</td>\n",
       "      <td>19.668619</td>\n",
       "      <td>7.670852</td>\n",
       "      <td>133.556555</td>\n",
       "      <td>244.756376</td>\n",
       "      <td>29.139828</td>\n",
       "      <td>138.754540</td>\n",
       "      <td>18.144746</td>\n",
       "    </tr>\n",
       "    <tr>\n",
       "      <th>000008</th>\n",
       "      <td>20.690816</td>\n",
       "      <td>2.644553</td>\n",
       "      <td>8.578859</td>\n",
       "      <td>154.021270</td>\n",
       "      <td>217.669812</td>\n",
       "      <td>54.511892</td>\n",
       "      <td>10.100722</td>\n",
       "      <td>13.893499</td>\n",
       "      <td>166.022932</td>\n",
       "      <td>57.417994</td>\n",
       "      <td>...</td>\n",
       "      <td>36.057052</td>\n",
       "      <td>31.303795</td>\n",
       "      <td>15.165330</td>\n",
       "      <td>9.421494</td>\n",
       "      <td>16.555828</td>\n",
       "      <td>199.676208</td>\n",
       "      <td>307.066468</td>\n",
       "      <td>9.505597</td>\n",
       "      <td>161.224241</td>\n",
       "      <td>14.473927</td>\n",
       "    </tr>\n",
       "    <tr>\n",
       "      <th>...</th>\n",
       "      <td>...</td>\n",
       "      <td>...</td>\n",
       "      <td>...</td>\n",
       "      <td>...</td>\n",
       "      <td>...</td>\n",
       "      <td>...</td>\n",
       "      <td>...</td>\n",
       "      <td>...</td>\n",
       "      <td>...</td>\n",
       "      <td>...</td>\n",
       "      <td>...</td>\n",
       "      <td>...</td>\n",
       "      <td>...</td>\n",
       "      <td>...</td>\n",
       "      <td>...</td>\n",
       "      <td>...</td>\n",
       "      <td>...</td>\n",
       "      <td>...</td>\n",
       "      <td>...</td>\n",
       "      <td>...</td>\n",
       "      <td>...</td>\n",
       "    </tr>\n",
       "    <tr>\n",
       "      <th>002063</th>\n",
       "      <td>29.758882</td>\n",
       "      <td>9.105117</td>\n",
       "      <td>2.341334</td>\n",
       "      <td>71.485371</td>\n",
       "      <td>181.163164</td>\n",
       "      <td>17.993221</td>\n",
       "      <td>26.799976</td>\n",
       "      <td>29.930586</td>\n",
       "      <td>137.769021</td>\n",
       "      <td>68.849805</td>\n",
       "      <td>...</td>\n",
       "      <td>66.001368</td>\n",
       "      <td>78.323580</td>\n",
       "      <td>28.759368</td>\n",
       "      <td>4.088532</td>\n",
       "      <td>26.299974</td>\n",
       "      <td>534.199473</td>\n",
       "      <td>217.930891</td>\n",
       "      <td>4.874400</td>\n",
       "      <td>33.799159</td>\n",
       "      <td>22.183837</td>\n",
       "    </tr>\n",
       "    <tr>\n",
       "      <th>002064</th>\n",
       "      <td>43.985231</td>\n",
       "      <td>3.903790</td>\n",
       "      <td>10.570592</td>\n",
       "      <td>146.529566</td>\n",
       "      <td>199.754700</td>\n",
       "      <td>96.520656</td>\n",
       "      <td>4.032747</td>\n",
       "      <td>5.926896</td>\n",
       "      <td>249.231294</td>\n",
       "      <td>82.167783</td>\n",
       "      <td>...</td>\n",
       "      <td>46.726827</td>\n",
       "      <td>1.636337</td>\n",
       "      <td>30.998525</td>\n",
       "      <td>2.380820</td>\n",
       "      <td>0.913659</td>\n",
       "      <td>159.542513</td>\n",
       "      <td>557.986840</td>\n",
       "      <td>1.920877</td>\n",
       "      <td>259.440733</td>\n",
       "      <td>9.843395</td>\n",
       "    </tr>\n",
       "    <tr>\n",
       "      <th>002065</th>\n",
       "      <td>54.779761</td>\n",
       "      <td>10.615517</td>\n",
       "      <td>13.128263</td>\n",
       "      <td>187.576373</td>\n",
       "      <td>105.601299</td>\n",
       "      <td>38.908130</td>\n",
       "      <td>46.400033</td>\n",
       "      <td>19.160049</td>\n",
       "      <td>103.870313</td>\n",
       "      <td>126.914035</td>\n",
       "      <td>...</td>\n",
       "      <td>55.548194</td>\n",
       "      <td>10.354784</td>\n",
       "      <td>34.082374</td>\n",
       "      <td>15.568133</td>\n",
       "      <td>2.639433</td>\n",
       "      <td>94.701346</td>\n",
       "      <td>240.553043</td>\n",
       "      <td>34.549680</td>\n",
       "      <td>134.659894</td>\n",
       "      <td>12.146370</td>\n",
       "    </tr>\n",
       "    <tr>\n",
       "      <th>002066</th>\n",
       "      <td>15.600515</td>\n",
       "      <td>0.803280</td>\n",
       "      <td>9.255997</td>\n",
       "      <td>123.952661</td>\n",
       "      <td>108.305135</td>\n",
       "      <td>140.833118</td>\n",
       "      <td>10.646427</td>\n",
       "      <td>34.270417</td>\n",
       "      <td>144.045715</td>\n",
       "      <td>35.339080</td>\n",
       "      <td>...</td>\n",
       "      <td>11.494200</td>\n",
       "      <td>22.445113</td>\n",
       "      <td>8.803656</td>\n",
       "      <td>2.310730</td>\n",
       "      <td>4.797184</td>\n",
       "      <td>30.440383</td>\n",
       "      <td>337.076389</td>\n",
       "      <td>8.021640</td>\n",
       "      <td>353.190539</td>\n",
       "      <td>2.769061</td>\n",
       "    </tr>\n",
       "    <tr>\n",
       "      <th>002067</th>\n",
       "      <td>12.892258</td>\n",
       "      <td>9.577590</td>\n",
       "      <td>3.084745</td>\n",
       "      <td>42.575354</td>\n",
       "      <td>58.130426</td>\n",
       "      <td>80.391215</td>\n",
       "      <td>18.311078</td>\n",
       "      <td>48.981363</td>\n",
       "      <td>30.364281</td>\n",
       "      <td>45.934040</td>\n",
       "      <td>...</td>\n",
       "      <td>42.520303</td>\n",
       "      <td>101.990795</td>\n",
       "      <td>7.959801</td>\n",
       "      <td>6.046785</td>\n",
       "      <td>31.883268</td>\n",
       "      <td>279.329491</td>\n",
       "      <td>57.683311</td>\n",
       "      <td>5.773401</td>\n",
       "      <td>85.457451</td>\n",
       "      <td>24.702132</td>\n",
       "    </tr>\n",
       "  </tbody>\n",
       "</table>\n",
       "<p>415 rows × 415 columns</p>\n",
       "</div>"
      ],
      "text/plain": [
       "            000001     000005     000006      000007      000008      000009  \\\n",
       "000001  167.251789  22.980037  38.298827   64.147626   61.067967   22.202875   \n",
       "000005   42.440735  24.112947  10.994963  152.154941   69.807333   23.093950   \n",
       "000006   82.180004  13.754036  38.633512  127.061452  103.248059   27.355648   \n",
       "000007   20.772771   5.171478   5.161918  300.290186  174.860541   27.340422   \n",
       "000008   20.690816   2.644553   8.578859  154.021270  217.669812   54.511892   \n",
       "...            ...        ...        ...         ...         ...         ...   \n",
       "002063   29.758882   9.105117   2.341334   71.485371  181.163164   17.993221   \n",
       "002064   43.985231   3.903790  10.570592  146.529566  199.754700   96.520656   \n",
       "002065   54.779761  10.615517  13.128263  187.576373  105.601299   38.908130   \n",
       "002066   15.600515   0.803280   9.255997  123.952661  108.305135  140.833118   \n",
       "002067   12.892258   9.577590   3.084745   42.575354   58.130426   80.391215   \n",
       "\n",
       "           000010     000011      000014      000016  ...     002058  \\\n",
       "000001  23.713066   9.899132   64.541872   88.263447  ...  56.388124   \n",
       "000005  38.430028  17.738171   22.989449   84.379210  ...  40.546625   \n",
       "000006  12.106851   9.239554   91.592732  110.843308  ...  56.913853   \n",
       "000007  37.152245  16.776462  115.064671  131.239176  ...  52.921704   \n",
       "000008  10.100722  13.893499  166.022932   57.417994  ...  36.057052   \n",
       "...           ...        ...         ...         ...  ...        ...   \n",
       "002063  26.799976  29.930586  137.769021   68.849805  ...  66.001368   \n",
       "002064   4.032747   5.926896  249.231294   82.167783  ...  46.726827   \n",
       "002065  46.400033  19.160049  103.870313  126.914035  ...  55.548194   \n",
       "002066  10.646427  34.270417  144.045715   35.339080  ...  11.494200   \n",
       "002067  18.311078  48.981363   30.364281   45.934040  ...  42.520303   \n",
       "\n",
       "            002059     002060     002061     002062      002063      002064  \\\n",
       "000001   17.208079  61.023476  15.814884   8.365614  118.377067  150.465783   \n",
       "000005   37.180790  25.863991  24.362021   8.411708   87.954315   56.297001   \n",
       "000006   23.187407  33.952075   9.695847  12.982752  140.246312  202.685850   \n",
       "000007   22.103730  12.436884  19.668619   7.670852  133.556555  244.756376   \n",
       "000008   31.303795  15.165330   9.421494  16.555828  199.676208  307.066468   \n",
       "...            ...        ...        ...        ...         ...         ...   \n",
       "002063   78.323580  28.759368   4.088532  26.299974  534.199473  217.930891   \n",
       "002064    1.636337  30.998525   2.380820   0.913659  159.542513  557.986840   \n",
       "002065   10.354784  34.082374  15.568133   2.639433   94.701346  240.553043   \n",
       "002066   22.445113   8.803656   2.310730   4.797184   30.440383  337.076389   \n",
       "002067  101.990795   7.959801   6.046785  31.883268  279.329491   57.683311   \n",
       "\n",
       "           002065      002066     002067  \n",
       "000001  19.188454   59.144506   7.538930  \n",
       "000005  26.560553   47.884311  13.972484  \n",
       "000006   9.725668   89.874677  12.665249  \n",
       "000007  29.139828  138.754540  18.144746  \n",
       "000008   9.505597  161.224241  14.473927  \n",
       "...           ...         ...        ...  \n",
       "002063   4.874400   33.799159  22.183837  \n",
       "002064   1.920877  259.440733   9.843395  \n",
       "002065  34.549680  134.659894  12.146370  \n",
       "002066   8.021640  353.190539   2.769061  \n",
       "002067   5.773401   85.457451  24.702132  \n",
       "\n",
       "[415 rows x 415 columns]"
      ]
     },
     "execution_count": 75,
     "metadata": {},
     "output_type": "execute_result"
    }
   ],
   "source": [
    "# 计算 GFEVD\n",
    "gfevd = compute_gfevd(H, MA_A, sigma_u, sigma_u_inv)\n",
    "\n",
    "gfevd = pd.DataFrame(gfevd[:,:], index=volatilities.columns,\n",
    "             columns=volatilities.columns)\n",
    "\n",
    "gfevd"
   ]
  },
  {
   "cell_type": "markdown",
   "id": "7480b1c3-a621-42d1-93cb-6a9792905ede",
   "metadata": {},
   "source": [
    "### 归一化"
   ]
  },
  {
   "cell_type": "code",
   "execution_count": 81,
   "id": "031d3164-8d13-4d94-9240-1d41d5eb3a2a",
   "metadata": {
    "tags": []
   },
   "outputs": [],
   "source": [
    "def scale_one(df):\n",
    "    # j 归一化\n",
    "    s1 = df.values\n",
    "    s2 = df.values.sum(axis=1)\n",
    "    s3 = (s1.T/s2).T\n",
    "    return pd.DataFrame(s3, index=df.index, columns=df.index)"
   ]
  },
  {
   "cell_type": "code",
   "execution_count": 82,
   "id": "044e014c-3228-476b-915d-83be01e2de78",
   "metadata": {
    "tags": []
   },
   "outputs": [],
   "source": [
    "gfevd_scaled = scale_one(gfevd)"
   ]
  },
  {
   "cell_type": "code",
   "execution_count": 92,
   "id": "de8f423c-9f8d-41c2-806d-678350736f77",
   "metadata": {
    "tags": []
   },
   "outputs": [
    {
     "data": {
      "text/html": [
       "<div>\n",
       "<style scoped>\n",
       "    .dataframe tbody tr th:only-of-type {\n",
       "        vertical-align: middle;\n",
       "    }\n",
       "\n",
       "    .dataframe tbody tr th {\n",
       "        vertical-align: top;\n",
       "    }\n",
       "\n",
       "    .dataframe thead th {\n",
       "        text-align: right;\n",
       "    }\n",
       "</style>\n",
       "<table border=\"1\" class=\"dataframe\">\n",
       "  <thead>\n",
       "    <tr style=\"text-align: right;\">\n",
       "      <th></th>\n",
       "      <th>股票代码</th>\n",
       "      <th>年份</th>\n",
       "      <th>综合评级</th>\n",
       "      <th>综合得分</th>\n",
       "      <th>E评级</th>\n",
       "      <th>E得分</th>\n",
       "      <th>S评级</th>\n",
       "      <th>S得分</th>\n",
       "      <th>G评级</th>\n",
       "      <th>G得分</th>\n",
       "      <th>...</th>\n",
       "      <th>重污染分组2</th>\n",
       "      <th>重污染分组3</th>\n",
       "      <th>所属省份代码</th>\n",
       "      <th>所属省份</th>\n",
       "      <th>所属城市代码</th>\n",
       "      <th>所属城市</th>\n",
       "      <th>是否属于西部</th>\n",
       "      <th>是否属于东部</th>\n",
       "      <th>是否属于中部</th>\n",
       "      <th>产权性质</th>\n",
       "    </tr>\n",
       "  </thead>\n",
       "  <tbody>\n",
       "    <tr>\n",
       "      <th>0</th>\n",
       "      <td>000001</td>\n",
       "      <td>2009</td>\n",
       "      <td>BBB</td>\n",
       "      <td>82.38</td>\n",
       "      <td>CCC</td>\n",
       "      <td>69.87</td>\n",
       "      <td>BB</td>\n",
       "      <td>77.46</td>\n",
       "      <td>AA</td>\n",
       "      <td>91.77</td>\n",
       "      <td>...</td>\n",
       "      <td>0.0</td>\n",
       "      <td>0.0</td>\n",
       "      <td>440000.0</td>\n",
       "      <td>广东省</td>\n",
       "      <td>440300.0</td>\n",
       "      <td>深圳市</td>\n",
       "      <td>0.0</td>\n",
       "      <td>1.0</td>\n",
       "      <td>0.0</td>\n",
       "      <td>0.0</td>\n",
       "    </tr>\n",
       "  </tbody>\n",
       "</table>\n",
       "<p>1 rows × 30 columns</p>\n",
       "</div>"
      ],
      "text/plain": [
       "     股票代码    年份 综合评级   综合得分  E评级    E得分 S评级    S得分 G评级    G得分  ... 重污染分组2  \\\n",
       "0  000001  2009  BBB  82.38  CCC  69.87  BB  77.46  AA  91.77  ...    0.0   \n",
       "\n",
       "  重污染分组3    所属省份代码 所属省份    所属城市代码  所属城市  是否属于西部  是否属于东部  是否属于中部  产权性质  \n",
       "0    0.0  440000.0  广东省  440300.0   深圳市     0.0     1.0     0.0   0.0  \n",
       "\n",
       "[1 rows x 30 columns]"
      ]
     },
     "execution_count": 92,
     "metadata": {},
     "output_type": "execute_result"
    }
   ],
   "source": [
    "import pandas as pd\n",
    "path='datasets/华证2009-2023年（含细分项+季度)）/华证esg评级2009-2023（细分项）/华证esg评级含细分项（年度）2009-2023.xlsx'\n",
    "ESG_df = pd.read_excel(path, dtype={'股票代码':str})\n",
    "ESG_df['股票代码'] = ESG_df['股票代码'].str.zfill(6)\n",
    "ESG_df.head(1)"
   ]
  },
  {
   "cell_type": "code",
   "execution_count": 97,
   "id": "febc5791-0eb6-4a46-a5de-0305fbfdeb2f",
   "metadata": {
    "tags": []
   },
   "outputs": [
    {
     "data": {
      "text/html": [
       "<div>\n",
       "<style scoped>\n",
       "    .dataframe tbody tr th:only-of-type {\n",
       "        vertical-align: middle;\n",
       "    }\n",
       "\n",
       "    .dataframe tbody tr th {\n",
       "        vertical-align: top;\n",
       "    }\n",
       "\n",
       "    .dataframe thead th {\n",
       "        text-align: right;\n",
       "    }\n",
       "</style>\n",
       "<table border=\"1\" class=\"dataframe\">\n",
       "  <thead>\n",
       "    <tr style=\"text-align: right;\">\n",
       "      <th></th>\n",
       "      <th>gfevd</th>\n",
       "      <th>conditional_vol</th>\n",
       "      <th>ESG_Score</th>\n",
       "    </tr>\n",
       "  </thead>\n",
       "  <tbody>\n",
       "    <tr>\n",
       "      <th>000001</th>\n",
       "      <td>0.001381</td>\n",
       "      <td>1.671599</td>\n",
       "      <td>83.117333</td>\n",
       "    </tr>\n",
       "    <tr>\n",
       "      <th>000005</th>\n",
       "      <td>0.000293</td>\n",
       "      <td>2.176908</td>\n",
       "      <td>65.218667</td>\n",
       "    </tr>\n",
       "    <tr>\n",
       "      <th>000006</th>\n",
       "      <td>0.000368</td>\n",
       "      <td>2.618998</td>\n",
       "      <td>80.014000</td>\n",
       "    </tr>\n",
       "    <tr>\n",
       "      <th>000007</th>\n",
       "      <td>0.003808</td>\n",
       "      <td>2.313067</td>\n",
       "      <td>67.800667</td>\n",
       "    </tr>\n",
       "    <tr>\n",
       "      <th>000008</th>\n",
       "      <td>0.003585</td>\n",
       "      <td>1.991441</td>\n",
       "      <td>70.848000</td>\n",
       "    </tr>\n",
       "    <tr>\n",
       "      <th>...</th>\n",
       "      <td>...</td>\n",
       "      <td>...</td>\n",
       "      <td>...</td>\n",
       "    </tr>\n",
       "    <tr>\n",
       "      <th>002063</th>\n",
       "      <td>0.005945</td>\n",
       "      <td>2.535804</td>\n",
       "      <td>78.850000</td>\n",
       "    </tr>\n",
       "    <tr>\n",
       "      <th>002064</th>\n",
       "      <td>0.007072</td>\n",
       "      <td>1.723903</td>\n",
       "      <td>73.255333</td>\n",
       "    </tr>\n",
       "    <tr>\n",
       "      <th>002065</th>\n",
       "      <td>0.000469</td>\n",
       "      <td>2.154844</td>\n",
       "      <td>76.232000</td>\n",
       "    </tr>\n",
       "    <tr>\n",
       "      <th>002066</th>\n",
       "      <td>0.004136</td>\n",
       "      <td>2.664736</td>\n",
       "      <td>69.768667</td>\n",
       "    </tr>\n",
       "    <tr>\n",
       "      <th>002067</th>\n",
       "      <td>0.000430</td>\n",
       "      <td>1.801489</td>\n",
       "      <td>75.067333</td>\n",
       "    </tr>\n",
       "  </tbody>\n",
       "</table>\n",
       "<p>415 rows × 3 columns</p>\n",
       "</div>"
      ],
      "text/plain": [
       "           gfevd  conditional_vol  ESG_Score\n",
       "000001  0.001381         1.671599  83.117333\n",
       "000005  0.000293         2.176908  65.218667\n",
       "000006  0.000368         2.618998  80.014000\n",
       "000007  0.003808         2.313067  67.800667\n",
       "000008  0.003585         1.991441  70.848000\n",
       "...          ...              ...        ...\n",
       "002063  0.005945         2.535804  78.850000\n",
       "002064  0.007072         1.723903  73.255333\n",
       "002065  0.000469         2.154844  76.232000\n",
       "002066  0.004136         2.664736  69.768667\n",
       "002067  0.000430         1.801489  75.067333\n",
       "\n",
       "[415 rows x 3 columns]"
      ]
     },
     "execution_count": 97,
     "metadata": {},
     "output_type": "execute_result"
    }
   ],
   "source": [
    "df = pd.DataFrame(gfevd_scaled.mean(), columns=['gfevd'])\n",
    "df['conditional_vol'] = volatilities.mean()\n",
    "ESG = ESG_df[['股票代码', '综合得分']].groupby('股票代码').mean()\n",
    "df['ESG_Score'] = ESG\n",
    "df"
   ]
  },
  {
   "cell_type": "code",
   "execution_count": 105,
   "id": "0d95d2b8-15f2-4fab-9ec6-f15c044dafb9",
   "metadata": {
    "tags": []
   },
   "outputs": [
    {
     "data": {
      "text/plain": [
       "<Axes: >"
      ]
     },
     "execution_count": 105,
     "metadata": {},
     "output_type": "execute_result"
    },
    {
     "data": {
      "image/png": "[encoded data removed]",
      "text/plain": [
       "<Figure size 640x480 with 1 Axes>"
      ]
     },
     "metadata": {},
     "output_type": "display_data"
    }
   ],
   "source": [
    "df['gfevd'].hist()"
   ]
  },
  {
   "cell_type": "code",
   "execution_count": 98,
   "id": "f230ec14-a564-4d07-913c-92fae42634a7",
   "metadata": {
    "tags": []
   },
   "outputs": [],
   "source": [
    "import pandas as pd\n",
    "import matplotlib.pyplot as plt\n",
    "from scipy.stats import pearsonr\n",
    "import statsmodels.api as sm"
   ]
  },
  {
   "cell_type": "code",
   "execution_count": 99,
   "id": "acbf2d40-b815-4c58-8a5d-5d0bf097bb27",
   "metadata": {
    "tags": []
   },
   "outputs": [
    {
     "data": {
      "image/png": "[encoded data removed]",
      "text/plain": [
       "<Figure size 1000x600 with 1 Axes>"
      ]
     },
     "metadata": {},
     "output_type": "display_data"
    }
   ],
   "source": [
    "# df.plot(kind='scatter', x='Volatility', y='ESG_Score')\n",
    "plt.figure(figsize=(10, 6))\n",
    "plt.scatter(df['gfevd'], df['ESG_Score'], alpha=0.5)\n",
    "plt.title('Scatter Plot of gfevd vs conditional_vol')\n",
    "plt.xlabel('gfevd')\n",
    "plt.ylabel('ESG_Score')\n",
    "plt.show()"
   ]
  },
  {
   "cell_type": "code",
   "execution_count": 100,
   "id": "84077a4e-0aa0-4e83-b259-2a31219a69c3",
   "metadata": {
    "tags": []
   },
   "outputs": [
    {
     "name": "stdout",
     "output_type": "stream",
     "text": [
      "Pearson correlation coefficient: -0.0125, P-value: 0.7990\n"
     ]
    }
   ],
   "source": [
    "# 计算皮尔逊相关系数\n",
    "corr, p_value = pearsonr(df['gfevd'], df['ESG_Score'])\n",
    "print(f\"Pearson correlation coefficient: {corr:.4f}, P-value: {p_value:.4f}\")"
   ]
  },
  {
   "cell_type": "code",
   "execution_count": 103,
   "id": "8df8f4bd-710d-4d31-a8c3-4906a5a7ba3b",
   "metadata": {
    "tags": []
   },
   "outputs": [
    {
     "name": "stdout",
     "output_type": "stream",
     "text": [
      "                            OLS Regression Results                            \n",
      "==============================================================================\n",
      "Dep. Variable:              ESG_Score   R-squared:                       0.000\n",
      "Model:                            OLS   Adj. R-squared:                 -0.002\n",
      "Method:                 Least Squares   F-statistic:                   0.06490\n",
      "Date:                Tue, 16 Jul 2024   Prob (F-statistic):              0.799\n",
      "Time:                        18:09:58   Log-Likelihood:                -1180.1\n",
      "No. Observations:                 415   AIC:                             2364.\n",
      "Df Residuals:                     413   BIC:                             2372.\n",
      "Df Model:                           1                                         \n",
      "Covariance Type:            nonrobust                                         \n",
      "==============================================================================\n",
      "                 coef    std err          t      P>|t|      [0.025      0.975]\n",
      "------------------------------------------------------------------------------\n",
      "const         72.0345      0.286    251.841      0.000      71.472      72.597\n",
      "gfevd        -21.1370     82.972     -0.255      0.799    -184.236     141.962\n",
      "==============================================================================\n",
      "Omnibus:                        2.041   Durbin-Watson:                   1.955\n",
      "Prob(Omnibus):                  0.360   Jarque-Bera (JB):                1.831\n",
      "Skew:                          -0.153   Prob(JB):                        0.400\n",
      "Kurtosis:                       3.109   Cond. No.                         406.\n",
      "==============================================================================\n",
      "\n",
      "Notes:\n",
      "[1] Standard Errors assume that the covariance matrix of the errors is correctly specified.\n"
     ]
    }
   ],
   "source": [
    "import pandas as pd\n",
    "import matplotlib.pyplot as plt\n",
    "from scipy.stats import pearsonr\n",
    "import statsmodels.api as sm\n",
    "\n",
    "X = df['gfevd']\n",
    "y = df['ESG_Score']\n",
    "X = sm.add_constant(X)  # 添加常数项\n",
    "model = sm.OLS(y, X).fit()\n",
    "print(model.summary())"
   ]
  },
  {
   "cell_type": "code",
   "execution_count": null,
   "id": "b78e2558-2d6a-4cb8-9725-2463de0d3082",
   "metadata": {},
   "outputs": [],
   "source": []
  }
 ],
 "metadata": {
  "kernelspec": {
   "display_name": "Python 3 (ipykernel)",
   "language": "python",
   "name": "python3"
  },
  "language_info": {
   "codemirror_mode": {
    "name": "ipython",
    "version": 3
   },
   "file_extension": ".py",
   "mimetype": "text/x-python",
   "name": "python",
   "nbconvert_exporter": "python",
   "pygments_lexer": "ipython3",
   "version": "3.9.17"
  }
 },
 "nbformat": 4,
 "nbformat_minor": 5
}
