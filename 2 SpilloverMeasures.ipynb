{
 "cells": [
  {
   "cell_type": "markdown",
   "id": "77fd5256-d196-485e-8865-491e43a87396",
   "metadata": {},
   "source": [
    "# 2 SpilloverMeasures"
   ]
  },
  {
   "cell_type": "code",
   "execution_count": 3,
   "id": "83177ffd-1135-409d-8ab6-5a0cb6816b96",
   "metadata": {},
   "outputs": [],
   "source": [
    "%load_ext autoreload\n",
    "%autoreload 2\n",
    "from lib.base import *"
   ]
  },
  {
   "cell_type": "code",
   "execution_count": 4,
   "id": "ea1b8fa7-e475-4a3f-8d35-c718ddeec546",
   "metadata": {},
   "outputs": [],
   "source": [
    "from tqdm.notebook import tqdm\n",
    "import numpy as np\n",
    "from statsmodels.tsa.api import VAR\n",
    "from lib.gfevd import compute_gfevd\n",
    "import pandas as pd\n",
    "from lib.stat import adf_check\n"
   ]
  },
  {
   "cell_type": "markdown",
   "id": "878d7995-b230-4244-9a36-4650425ce6d5",
   "metadata": {},
   "source": [
    "# 读取数据"
   ]
  },
  {
   "cell_type": "code",
   "execution_count": 1,
   "id": "9c64cb41-eb71-4429-8bbb-b2d54dd7a0a3",
   "metadata": {},
   "outputs": [],
   "source": [
    "from lib.data import load_vol, load_price\n",
    "open_df, high_df, low_df, close_df = load_price()"
   ]
  },
  {
   "cell_type": "code",
   "execution_count": 5,
   "id": "1881791c-b581-4a11-9f82-a45a487b1492",
   "metadata": {},
   "outputs": [
    {
     "name": "stdout",
     "output_type": "stream",
     "text": [
      "/Users/xhc/Documents/Research/[文章]ESG volatility China/[Github]Volatility-Spillovers-ESG-China\n",
      "/Users/xhc/Documents/Research/[文章]ESG volatility China/[Github]Volatility-Spillovers-ESG-China/datasets/华证2009-2023年（含细分项+季度)）/华证esg评级2009-2023（细分项）/华证esg评级含细分项（季度）2009-2023.xlsx\n"
     ]
    }
   ],
   "source": [
    "from lib.data import get_hz_esg_data\n",
    "df_hz_esg = get_hz_esg_data(time_type='season')\n",
    "df_hz_esg['评级日期'] = pd.to_datetime(df_hz_esg['评级日期'])"
   ]
  },
  {
   "cell_type": "markdown",
   "id": "f7c7f482-fcf3-42c5-8655-baa5a83f47b0",
   "metadata": {},
   "source": [
    "## 计算波动率"
   ]
  },
  {
   "cell_type": "code",
   "execution_count": 6,
   "id": "06047af1-382f-4870-bce2-80c430e4878c",
   "metadata": {},
   "outputs": [],
   "source": [
    "from lib.volatility import calculate_volatility\n",
    "vol_interday = calculate_volatility(open_df, high_df, low_df, close_df)"
   ]
  },
  {
   "cell_type": "markdown",
   "id": "426d4019-54a9-4e3f-ad48-a67d1261c880",
   "metadata": {},
   "source": [
    "## 稳定性检验\n",
    "剔除不稳定的股票"
   ]
  },
  {
   "cell_type": "code",
   "execution_count": null,
   "id": "acd6ef59-d57e-48d0-a6b3-cb9356d89de4",
   "metadata": {},
   "outputs": [],
   "source": [
    "from lib.stat import adf_check\n",
    "vol_df = adf_check(vol_df)"
   ]
  },
  {
   "cell_type": "markdown",
   "id": "a1935424-a536-4dfc-af58-fb9ad20b72b7",
   "metadata": {},
   "source": [
    "## VAR和方差分解"
   ]
  },
  {
   "cell_type": "code",
   "execution_count": 69,
   "id": "2aed651a-7cdc-49a1-b9ae-7cfcfc57b5db",
   "metadata": {},
   "outputs": [
    {
     "data": {
      "application/vnd.jupyter.widget-view+json": {
       "model_id": "21d992c437bc4536b88d54da689c412d",
       "version_major": 2,
       "version_minor": 0
      },
      "text/plain": [
       "  0%|          | 0/60 [00:00<?, ?it/s]"
      ]
     },
     "metadata": {},
     "output_type": "display_data"
    },
    {
     "name": "stdout",
     "output_type": "stream",
     "text": [
      "2010-01-31 00:00:00\n",
      "vol shape before ADF (20, 1523)\n",
      "vol shape after ADF (20, 1521)\n",
      "2010-04-30 00:00:00\n",
      "vol shape before ADF (21, 1614)\n",
      "vol shape after ADF (21, 1608)\n",
      "2010-07-31 00:00:00\n",
      "vol shape before ADF (22, 1691)\n",
      "vol shape after ADF (0, 0)\n"
     ]
    },
    {
     "ename": "ValueError",
     "evalue": "zero-size array to reduction operation maximum which has no identity",
     "output_type": "error",
     "traceback": [
      "\u001b[0;31m---------------------------------------------------------------------------\u001b[0m",
      "\u001b[0;31mValueError\u001b[0m                                Traceback (most recent call last)",
      "Cell \u001b[0;32mIn[69], line 34\u001b[0m\n\u001b[1;32m     32\u001b[0m model \u001b[38;5;241m=\u001b[39m VAR(volatilities_i)\n\u001b[1;32m     33\u001b[0m p \u001b[38;5;241m=\u001b[39m \u001b[38;5;241m1\u001b[39m  \u001b[38;5;66;03m# 1,2,3,4\u001b[39;00m\n\u001b[0;32m---> 34\u001b[0m results \u001b[38;5;241m=\u001b[39m model\u001b[38;5;241m.\u001b[39mfit(p) \u001b[38;5;66;03m# p: 滞后阶数\u001b[39;00m\n\u001b[1;32m     35\u001b[0m \u001b[38;5;66;03m# 获取模型残差的协方差矩阵及其逆矩阵    \u001b[39;00m\n\u001b[1;32m     36\u001b[0m \u001b[38;5;66;03m# resid = results.resid\u001b[39;00m\n\u001b[1;32m     37\u001b[0m \u001b[38;5;66;03m# cov_matrix = np.cov(resid, rowvar=False)\u001b[39;00m\n\u001b[1;32m     39\u001b[0m sigma_u \u001b[38;5;241m=\u001b[39m results\u001b[38;5;241m.\u001b[39msigma_u\u001b[38;5;241m.\u001b[39mvalues\n",
      "File \u001b[0;32m~/miniconda3/lib/python3.11/site-packages/statsmodels/tsa/vector_ar/var_model.py:694\u001b[0m, in \u001b[0;36mVAR.fit\u001b[0;34m(self, maxlags, method, ic, trend, verbose)\u001b[0m\n\u001b[1;32m    686\u001b[0m     \u001b[38;5;28mself\u001b[39m\u001b[38;5;241m.\u001b[39mdata\u001b[38;5;241m.\u001b[39mxnames \u001b[38;5;241m=\u001b[39m (\n\u001b[1;32m    687\u001b[0m         \u001b[38;5;28mself\u001b[39m\u001b[38;5;241m.\u001b[39mdata\u001b[38;5;241m.\u001b[39mxnames[:k_trend]\n\u001b[1;32m    688\u001b[0m         \u001b[38;5;241m+\u001b[39m x_names_to_add\n\u001b[1;32m    689\u001b[0m         \u001b[38;5;241m+\u001b[39m \u001b[38;5;28mself\u001b[39m\u001b[38;5;241m.\u001b[39mdata\u001b[38;5;241m.\u001b[39mxnames[k_trend:]\n\u001b[1;32m    690\u001b[0m     )\n\u001b[1;32m    691\u001b[0m \u001b[38;5;28mself\u001b[39m\u001b[38;5;241m.\u001b[39mdata\u001b[38;5;241m.\u001b[39mcov_names \u001b[38;5;241m=\u001b[39m pd\u001b[38;5;241m.\u001b[39mMultiIndex\u001b[38;5;241m.\u001b[39mfrom_product(\n\u001b[1;32m    692\u001b[0m     (\u001b[38;5;28mself\u001b[39m\u001b[38;5;241m.\u001b[39mdata\u001b[38;5;241m.\u001b[39mxnames, \u001b[38;5;28mself\u001b[39m\u001b[38;5;241m.\u001b[39mdata\u001b[38;5;241m.\u001b[39mynames)\n\u001b[1;32m    693\u001b[0m )\n\u001b[0;32m--> 694\u001b[0m \u001b[38;5;28;01mreturn\u001b[39;00m \u001b[38;5;28mself\u001b[39m\u001b[38;5;241m.\u001b[39m_estimate_var(lags, trend\u001b[38;5;241m=\u001b[39mtrend)\n",
      "File \u001b[0;32m~/miniconda3/lib/python3.11/site-packages/statsmodels/tsa/vector_ar/var_model.py:715\u001b[0m, in \u001b[0;36mVAR._estimate_var\u001b[0;34m(self, lags, offset, trend)\u001b[0m\n\u001b[1;32m    713\u001b[0m endog \u001b[38;5;241m=\u001b[39m \u001b[38;5;28mself\u001b[39m\u001b[38;5;241m.\u001b[39mendog[offset:]\n\u001b[1;32m    714\u001b[0m exog \u001b[38;5;241m=\u001b[39m \u001b[38;5;28;01mNone\u001b[39;00m \u001b[38;5;28;01mif\u001b[39;00m \u001b[38;5;28mself\u001b[39m\u001b[38;5;241m.\u001b[39mexog \u001b[38;5;129;01mis\u001b[39;00m \u001b[38;5;28;01mNone\u001b[39;00m \u001b[38;5;28;01melse\u001b[39;00m \u001b[38;5;28mself\u001b[39m\u001b[38;5;241m.\u001b[39mexog[offset:]\n\u001b[0;32m--> 715\u001b[0m z \u001b[38;5;241m=\u001b[39m util\u001b[38;5;241m.\u001b[39mget_var_endog(endog, lags, trend\u001b[38;5;241m=\u001b[39mtrend, has_constant\u001b[38;5;241m=\u001b[39m\u001b[38;5;124m\"\u001b[39m\u001b[38;5;124mraise\u001b[39m\u001b[38;5;124m\"\u001b[39m)\n\u001b[1;32m    716\u001b[0m \u001b[38;5;28;01mif\u001b[39;00m exog \u001b[38;5;129;01mis\u001b[39;00m \u001b[38;5;129;01mnot\u001b[39;00m \u001b[38;5;28;01mNone\u001b[39;00m:\n\u001b[1;32m    717\u001b[0m     \u001b[38;5;66;03m# TODO: currently only deterministic terms supported (exoglags==0)\u001b[39;00m\n\u001b[1;32m    718\u001b[0m     \u001b[38;5;66;03m# and since exoglags==0, x will be an array of size 0.\u001b[39;00m\n\u001b[1;32m    719\u001b[0m     x \u001b[38;5;241m=\u001b[39m util\u001b[38;5;241m.\u001b[39mget_var_endog(\n\u001b[1;32m    720\u001b[0m         exog[\u001b[38;5;241m-\u001b[39mnobs:], \u001b[38;5;241m0\u001b[39m, trend\u001b[38;5;241m=\u001b[39m\u001b[38;5;124m\"\u001b[39m\u001b[38;5;124mn\u001b[39m\u001b[38;5;124m\"\u001b[39m, has_constant\u001b[38;5;241m=\u001b[39m\u001b[38;5;124m\"\u001b[39m\u001b[38;5;124mraise\u001b[39m\u001b[38;5;124m\"\u001b[39m\n\u001b[1;32m    721\u001b[0m     )\n",
      "File \u001b[0;32m~/miniconda3/lib/python3.11/site-packages/statsmodels/tsa/vector_ar/util.py:34\u001b[0m, in \u001b[0;36mget_var_endog\u001b[0;34m(y, lags, trend, has_constant)\u001b[0m\n\u001b[1;32m     32\u001b[0m \u001b[38;5;66;03m# Add constant, trend, etc.\u001b[39;00m\n\u001b[1;32m     33\u001b[0m \u001b[38;5;28;01mif\u001b[39;00m trend \u001b[38;5;241m!=\u001b[39m \u001b[38;5;124m'\u001b[39m\u001b[38;5;124mn\u001b[39m\u001b[38;5;124m'\u001b[39m:\n\u001b[0;32m---> 34\u001b[0m     Z \u001b[38;5;241m=\u001b[39m tsa\u001b[38;5;241m.\u001b[39madd_trend(Z, prepend\u001b[38;5;241m=\u001b[39m\u001b[38;5;28;01mTrue\u001b[39;00m, trend\u001b[38;5;241m=\u001b[39mtrend,\n\u001b[1;32m     35\u001b[0m                       has_constant\u001b[38;5;241m=\u001b[39mhas_constant)\n\u001b[1;32m     37\u001b[0m \u001b[38;5;28;01mreturn\u001b[39;00m Z\n",
      "File \u001b[0;32m~/miniconda3/lib/python3.11/site-packages/statsmodels/tsa/tsatools.py:134\u001b[0m, in \u001b[0;36madd_trend\u001b[0;34m(x, trend, prepend, has_constant)\u001b[0m\n\u001b[1;32m    132\u001b[0m     col_const \u001b[38;5;241m=\u001b[39m x\u001b[38;5;241m.\u001b[39mapply(safe_is_const, \u001b[38;5;241m0\u001b[39m)\n\u001b[1;32m    133\u001b[0m \u001b[38;5;28;01melse\u001b[39;00m:\n\u001b[0;32m--> 134\u001b[0m     ptp0 \u001b[38;5;241m=\u001b[39m np\u001b[38;5;241m.\u001b[39mptp(np\u001b[38;5;241m.\u001b[39masanyarray(x), axis\u001b[38;5;241m=\u001b[39m\u001b[38;5;241m0\u001b[39m)\n\u001b[1;32m    135\u001b[0m     col_is_const \u001b[38;5;241m=\u001b[39m ptp0 \u001b[38;5;241m==\u001b[39m \u001b[38;5;241m0\u001b[39m\n\u001b[1;32m    136\u001b[0m     nz_const \u001b[38;5;241m=\u001b[39m col_is_const \u001b[38;5;241m&\u001b[39m (x[\u001b[38;5;241m0\u001b[39m] \u001b[38;5;241m!=\u001b[39m \u001b[38;5;241m0\u001b[39m)\n",
      "File \u001b[0;32m~/miniconda3/lib/python3.11/site-packages/numpy/core/fromnumeric.py:2684\u001b[0m, in \u001b[0;36mptp\u001b[0;34m(a, axis, out, keepdims)\u001b[0m\n\u001b[1;32m   2682\u001b[0m     \u001b[38;5;28;01melse\u001b[39;00m:\n\u001b[1;32m   2683\u001b[0m         \u001b[38;5;28;01mreturn\u001b[39;00m ptp(axis\u001b[38;5;241m=\u001b[39maxis, out\u001b[38;5;241m=\u001b[39mout, \u001b[38;5;241m*\u001b[39m\u001b[38;5;241m*\u001b[39mkwargs)\n\u001b[0;32m-> 2684\u001b[0m \u001b[38;5;28;01mreturn\u001b[39;00m _methods\u001b[38;5;241m.\u001b[39m_ptp(a, axis\u001b[38;5;241m=\u001b[39maxis, out\u001b[38;5;241m=\u001b[39mout, \u001b[38;5;241m*\u001b[39m\u001b[38;5;241m*\u001b[39mkwargs)\n",
      "File \u001b[0;32m~/miniconda3/lib/python3.11/site-packages/numpy/core/_methods.py:220\u001b[0m, in \u001b[0;36m_ptp\u001b[0;34m(a, axis, out, keepdims)\u001b[0m\n\u001b[1;32m    218\u001b[0m \u001b[38;5;28;01mdef\u001b[39;00m \u001b[38;5;21m_ptp\u001b[39m(a, axis\u001b[38;5;241m=\u001b[39m\u001b[38;5;28;01mNone\u001b[39;00m, out\u001b[38;5;241m=\u001b[39m\u001b[38;5;28;01mNone\u001b[39;00m, keepdims\u001b[38;5;241m=\u001b[39m\u001b[38;5;28;01mFalse\u001b[39;00m):\n\u001b[1;32m    219\u001b[0m     \u001b[38;5;28;01mreturn\u001b[39;00m um\u001b[38;5;241m.\u001b[39msubtract(\n\u001b[0;32m--> 220\u001b[0m         umr_maximum(a, axis, \u001b[38;5;28;01mNone\u001b[39;00m, out, keepdims),\n\u001b[1;32m    221\u001b[0m         umr_minimum(a, axis, \u001b[38;5;28;01mNone\u001b[39;00m, \u001b[38;5;28;01mNone\u001b[39;00m, keepdims),\n\u001b[1;32m    222\u001b[0m         out\n\u001b[1;32m    223\u001b[0m     )\n",
      "\u001b[0;31mValueError\u001b[0m: zero-size array to reduction operation maximum which has no identity"
     ]
    }
   ],
   "source": [
    "season = df_hz_esg['评级日期'].unique()\n",
    "steps = 10\n",
    "for i in tqdm(season):\n",
    "    i = pd.to_datetime(i)\n",
    "    # 按季度计算波动率\n",
    "    df_hz_esg_i = df_hz_esg[df_hz_esg['评级日期'] == i]\n",
    "    code_list_i = np.intersect1d(df_hz_esg_i.index.values, vol_interday.columns.values)\n",
    "    logic = (vol_interday.index.month == i.month) * (vol_interday.index.year == i.year)\n",
    "    if logic.any() == True: \n",
    "        print(i)\n",
    "    else:\n",
    "        continue\n",
    "    vol_interday_i = vol_interday[logic]\n",
    "    code_list_i = np.intersect1d(vol_interday.columns.values, code_list_i)\n",
    "    volatilities_i = vol_interday_i[code_list_i]\n",
    "    volatilities_i = volatilities_i.loc[:, (volatilities_i.isnull().sum()>200) == False].fillna(method = 'ffill').fillna(method ='pad')\n",
    "    volatilities_i = volatilities_i.dropna(axis = 1)\n",
    "\n",
    "    print(\"vol shape before ADF\", volatilities_i.shape)\n",
    "    # 标准化\n",
    "    volatilities_i = (volatilities_i - volatilities_i.mean()) / volatilities_i.std()\n",
    "    volatilities_i = volatilities_i.dropna()\n",
    "    # 全部都是一样的数据删除\n",
    "    constant_columns = volatilities_i.columns[volatilities_i.nunique() < 10]\n",
    "    # 删除这些列\n",
    "    volatilities_i = volatilities_i.drop(columns=constant_columns)\n",
    "    #P平稳性检验\n",
    "    #volatilities_i = adf_check(volatilities_i)\n",
    "    print(\"vol shape after ADF\", volatilities_i.shape)\n",
    "\n",
    "    #计算方差分解的矩阵  这里是全网络的生成\n",
    "    model = VAR(volatilities_i)\n",
    "    p = 1  # 1,2,3,4\n",
    "    results = model.fit(p) # p: 滞后阶数\n",
    "    # 获取模型残差的协方差矩阵及其逆矩阵    \n",
    "    # resid = results.resid\n",
    "    # cov_matrix = np.cov(resid, rowvar=False)\n",
    "\n",
    "    sigma_u = results.sigma_u.values\n",
    "    A = results.ma_rep(steps)\n",
    "    H = 10   # 预测误差的步数 2,5,10,20\n",
    "    gfevd = compute_gfevd(H, A, sigma_u)\n",
    "    gfevd_df = pd.DataFrame(gfevd, index=volatilities_i.columns, columns=volatilities_i.columns)\n",
    "\n",
    "    # 按行做归一化\n",
    "    #gfevd_df_nor = normalize_rows_with_non_negative(gfevd_df)\n",
    "\n",
    "    gfevd_df.to_csv('outputs/season/' + str(i)[:10] + '.csv')"
   ]
  },
  {
   "cell_type": "code",
   "execution_count": null,
   "id": "b8626fb8-fc93-4b00-b80d-ce72e6fe9284",
   "metadata": {},
   "outputs": [],
   "source": []
  }
 ],
 "metadata": {
  "kernelspec": {
   "display_name": "Python 3 (ipykernel)",
   "language": "python",
   "name": "python3"
  },
  "language_info": {
   "codemirror_mode": {
    "name": "ipython",
    "version": 3
   },
   "file_extension": ".py",
   "mimetype": "text/x-python",
   "name": "python",
   "nbconvert_exporter": "python",
   "pygments_lexer": "ipython3",
   "version": "3.11.5"
  }
 },
 "nbformat": 4,
 "nbformat_minor": 5
}
