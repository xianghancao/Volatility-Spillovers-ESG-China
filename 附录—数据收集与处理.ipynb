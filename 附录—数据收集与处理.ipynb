{
 "cells": [
  {
   "cell_type": "markdown",
   "id": "b07a8d52-f7df-4c60-8c8a-f86c5fa7b979",
   "metadata": {},
   "source": [
    "# 数据收集与处理"
   ]
  },
  {
   "cell_type": "markdown",
   "id": "6f75379b-b4fc-498b-b7f3-2c4a365da442",
   "metadata": {},
   "source": [
    "## ESG数据"
   ]
  },
  {
   "cell_type": "code",
   "execution_count": 12,
   "id": "920dc26e-49d3-4760-bb91-08a05507edcd",
   "metadata": {
    "tags": []
   },
   "outputs": [
    {
     "data": {
      "text/html": [
       "<div>\n",
       "<style scoped>\n",
       "    .dataframe tbody tr th:only-of-type {\n",
       "        vertical-align: middle;\n",
       "    }\n",
       "\n",
       "    .dataframe tbody tr th {\n",
       "        vertical-align: top;\n",
       "    }\n",
       "\n",
       "    .dataframe thead th {\n",
       "        text-align: right;\n",
       "    }\n",
       "</style>\n",
       "<table border=\"1\" class=\"dataframe\">\n",
       "  <thead>\n",
       "    <tr style=\"text-align: right;\">\n",
       "      <th></th>\n",
       "      <th>股票代码</th>\n",
       "      <th>年份</th>\n",
       "      <th>综合评级</th>\n",
       "      <th>综合得分</th>\n",
       "      <th>E评级</th>\n",
       "      <th>E得分</th>\n",
       "      <th>S评级</th>\n",
       "      <th>S得分</th>\n",
       "      <th>G评级</th>\n",
       "      <th>G得分</th>\n",
       "      <th>...</th>\n",
       "      <th>重污染分组2</th>\n",
       "      <th>重污染分组3</th>\n",
       "      <th>所属省份代码</th>\n",
       "      <th>所属省份</th>\n",
       "      <th>所属城市代码</th>\n",
       "      <th>所属城市</th>\n",
       "      <th>是否属于西部</th>\n",
       "      <th>是否属于东部</th>\n",
       "      <th>是否属于中部</th>\n",
       "      <th>产权性质</th>\n",
       "    </tr>\n",
       "  </thead>\n",
       "  <tbody>\n",
       "    <tr>\n",
       "      <th>0</th>\n",
       "      <td>000001</td>\n",
       "      <td>2009</td>\n",
       "      <td>BBB</td>\n",
       "      <td>82.38</td>\n",
       "      <td>CCC</td>\n",
       "      <td>69.87</td>\n",
       "      <td>BB</td>\n",
       "      <td>77.46</td>\n",
       "      <td>AA</td>\n",
       "      <td>91.77</td>\n",
       "      <td>...</td>\n",
       "      <td>0.0</td>\n",
       "      <td>0.0</td>\n",
       "      <td>440000.0</td>\n",
       "      <td>广东省</td>\n",
       "      <td>440300.0</td>\n",
       "      <td>深圳市</td>\n",
       "      <td>0.0</td>\n",
       "      <td>1.0</td>\n",
       "      <td>0.0</td>\n",
       "      <td>0.0</td>\n",
       "    </tr>\n",
       "  </tbody>\n",
       "</table>\n",
       "<p>1 rows × 30 columns</p>\n",
       "</div>"
      ],
      "text/plain": [
       "     股票代码    年份 综合评级   综合得分  E评级    E得分 S评级    S得分 G评级    G得分  ... 重污染分组2  \\\n",
       "0  000001  2009  BBB  82.38  CCC  69.87  BB  77.46  AA  91.77  ...    0.0   \n",
       "\n",
       "  重污染分组3    所属省份代码 所属省份    所属城市代码  所属城市  是否属于西部  是否属于东部  是否属于中部  产权性质  \n",
       "0    0.0  440000.0  广东省  440300.0   深圳市     0.0     1.0     0.0   0.0  \n",
       "\n",
       "[1 rows x 30 columns]"
      ]
     },
     "execution_count": 12,
     "metadata": {},
     "output_type": "execute_result"
    }
   ],
   "source": [
    "import pandas as pd\n",
    "path='datasets/华证2009-2023年（含细分项+季度)）/华证esg评级2009-2023（细分项）/华证esg评级含细分项（年度）2009-2023.xlsx'\n",
    "ESG_df = pd.read_excel(path, dtype={'股票代码':str})\n",
    "ESG_df['股票代码'] = ESG_df['股票代码'].str.zfill(6)\n",
    "ESG_df.head(1)"
   ]
  },
  {
   "cell_type": "code",
   "execution_count": 13,
   "id": "0d37381e-1d24-44ff-a922-38a75a8ea204",
   "metadata": {
    "tags": []
   },
   "outputs": [
    {
     "data": {
      "text/plain": [
       "<Axes: >"
      ]
     },
     "execution_count": 13,
     "metadata": {},
     "output_type": "execute_result"
    },
    {
     "data": {
      "image/png": "[encoded data removed]",
      "text/plain": [
       "<Figure size 800x300 with 1 Axes>"
      ]
     },
     "metadata": {},
     "output_type": "display_data"
    }
   ],
   "source": [
    "ESG_df['综合评级'].hist(figsize=(8,3))"
   ]
  },
  {
   "cell_type": "code",
   "execution_count": 14,
   "id": "69853b7b-3c1d-46ad-95c9-a38ffa91c28a",
   "metadata": {
    "tags": []
   },
   "outputs": [
    {
     "data": {
      "text/plain": [
       "<Axes: >"
      ]
     },
     "execution_count": 14,
     "metadata": {},
     "output_type": "execute_result"
    },
    {
     "data": {
      "image/png": "[encoded data removed]",
      "text/plain": [
       "<Figure size 800x300 with 1 Axes>"
      ]
     },
     "metadata": {},
     "output_type": "display_data"
    }
   ],
   "source": [
    "ESG_df['综合得分'].hist(figsize=(8,3))"
   ]
  },
  {
   "cell_type": "markdown",
   "id": "791f3139-7e22-490b-bb63-ff423d685026",
   "metadata": {},
   "source": [
    "## 股票价格数据"
   ]
  },
  {
   "cell_type": "markdown",
   "id": "e5a561f4-1e38-4c11-89e7-0c7e4a205a6f",
   "metadata": {},
   "source": [
    "获取各个ESG评级的股票数据，通常包括收盘价、成交量等每日数据。"
   ]
  },
  {
   "cell_type": "code",
   "execution_count": 15,
   "id": "b0c44add-1598-423b-ba9b-18fdf78f874e",
   "metadata": {
    "tags": []
   },
   "outputs": [
    {
     "data": {
      "text/html": [
       "<div>\n",
       "<style scoped>\n",
       "    .dataframe tbody tr th:only-of-type {\n",
       "        vertical-align: middle;\n",
       "    }\n",
       "\n",
       "    .dataframe tbody tr th {\n",
       "        vertical-align: top;\n",
       "    }\n",
       "\n",
       "    .dataframe thead th {\n",
       "        text-align: right;\n",
       "    }\n",
       "</style>\n",
       "<table border=\"1\" class=\"dataframe\">\n",
       "  <thead>\n",
       "    <tr style=\"text-align: right;\">\n",
       "      <th>code</th>\n",
       "      <th>000001</th>\n",
       "      <th>000002</th>\n",
       "      <th>000004</th>\n",
       "      <th>000005</th>\n",
       "      <th>000006</th>\n",
       "      <th>000007</th>\n",
       "      <th>000008</th>\n",
       "      <th>000009</th>\n",
       "      <th>000010</th>\n",
       "      <th>000011</th>\n",
       "      <th>...</th>\n",
       "      <th>688787</th>\n",
       "      <th>688788</th>\n",
       "      <th>688789</th>\n",
       "      <th>688793</th>\n",
       "      <th>688798</th>\n",
       "      <th>688799</th>\n",
       "      <th>688800</th>\n",
       "      <th>688819</th>\n",
       "      <th>688981</th>\n",
       "      <th>689009</th>\n",
       "    </tr>\n",
       "    <tr>\n",
       "      <th>time</th>\n",
       "      <th></th>\n",
       "      <th></th>\n",
       "      <th></th>\n",
       "      <th></th>\n",
       "      <th></th>\n",
       "      <th></th>\n",
       "      <th></th>\n",
       "      <th></th>\n",
       "      <th></th>\n",
       "      <th></th>\n",
       "      <th></th>\n",
       "      <th></th>\n",
       "      <th></th>\n",
       "      <th></th>\n",
       "      <th></th>\n",
       "      <th></th>\n",
       "      <th></th>\n",
       "      <th></th>\n",
       "      <th></th>\n",
       "      <th></th>\n",
       "      <th></th>\n",
       "    </tr>\n",
       "  </thead>\n",
       "  <tbody>\n",
       "    <tr>\n",
       "      <th>2010-01-04</th>\n",
       "      <td>926.73</td>\n",
       "      <td>1091.9</td>\n",
       "      <td>NaN</td>\n",
       "      <td>61.24</td>\n",
       "      <td>158.64</td>\n",
       "      <td>55.68</td>\n",
       "      <td>NaN</td>\n",
       "      <td>47.34</td>\n",
       "      <td>39.24</td>\n",
       "      <td>35.42</td>\n",
       "      <td>...</td>\n",
       "      <td>NaN</td>\n",
       "      <td>NaN</td>\n",
       "      <td>NaN</td>\n",
       "      <td>NaN</td>\n",
       "      <td>NaN</td>\n",
       "      <td>NaN</td>\n",
       "      <td>NaN</td>\n",
       "      <td>NaN</td>\n",
       "      <td>NaN</td>\n",
       "      <td>NaN</td>\n",
       "    </tr>\n",
       "  </tbody>\n",
       "</table>\n",
       "<p>1 rows × 5338 columns</p>\n",
       "</div>"
      ],
      "text/plain": [
       "code        000001  000002  000004  000005  000006  000007  000008  000009  \\\n",
       "time                                                                         \n",
       "2010-01-04  926.73  1091.9     NaN   61.24  158.64   55.68     NaN   47.34   \n",
       "\n",
       "code        000010  000011  ...  688787  688788  688789  688793  688798  \\\n",
       "time                        ...                                           \n",
       "2010-01-04   39.24   35.42  ...     NaN     NaN     NaN     NaN     NaN   \n",
       "\n",
       "code        688799  688800  688819  688981  689009  \n",
       "time                                                \n",
       "2010-01-04     NaN     NaN     NaN     NaN     NaN  \n",
       "\n",
       "[1 rows x 5338 columns]"
      ]
     },
     "execution_count": 15,
     "metadata": {},
     "output_type": "execute_result"
    }
   ],
   "source": [
    "close_df = pd.read_feather('datasets/stock_price/Close.feather')\n",
    "close_df.index = close_df['time']\n",
    "close_df = close_df.iloc[:, 1:]\n",
    "close_df.head(1)"
   ]
  },
  {
   "cell_type": "code",
   "execution_count": 16,
   "id": "a5ec7dfc-0e35-4e34-aa87-e7ac00bd889f",
   "metadata": {
    "tags": []
   },
   "outputs": [
    {
     "data": {
      "text/plain": [
       "(3007, 2323)"
      ]
     },
     "execution_count": 16,
     "metadata": {},
     "output_type": "execute_result"
    }
   ],
   "source": [
    "close_df = close_df.ffill()\n",
    "# 控制缺失值的数量\n",
    "close_df = close_df.loc[:, (close_df.isnull().sum()>500) == False].dropna()\n",
    "close_df.shape"
   ]
  },
  {
   "cell_type": "markdown",
   "id": "172fee24-50e5-4179-9f6d-cd3d6746d606",
   "metadata": {},
   "source": [
    "合并ESG和价格两个表的股票代码"
   ]
  },
  {
   "cell_type": "code",
   "execution_count": 18,
   "id": "564a4e35-051e-4067-93c3-c39e32b0c591",
   "metadata": {
    "tags": []
   },
   "outputs": [],
   "source": [
    "import numpy as np\n",
    "code_list = np.intersect1d(ESG_df['股票代码'].values, close_df.columns.values)"
   ]
  },
  {
   "cell_type": "code",
   "execution_count": 25,
   "id": "3370c905-1381-4991-96ab-210d0bbf2026",
   "metadata": {
    "tags": []
   },
   "outputs": [
    {
     "data": {
      "text/plain": [
       "array(['000001', '000002', '000004', ..., '601996', '601998', '601999'],\n",
       "      dtype=object)"
      ]
     },
     "execution_count": 25,
     "metadata": {},
     "output_type": "execute_result"
    }
   ],
   "source": [
    "code_list"
   ]
  },
  {
   "cell_type": "markdown",
   "id": "e4195e96-0df9-428d-a447-4e2b13e3e0d4",
   "metadata": {},
   "source": [
    "## 保存数据"
   ]
  },
  {
   "cell_type": "code",
   "execution_count": 29,
   "id": "55f00a1b-7feb-4c9c-a36a-50715b9cc32f",
   "metadata": {
    "tags": []
   },
   "outputs": [],
   "source": [
    "close_df = pd.read_feather('datasets/stock_price/Close.feather')\n",
    "close_df.index = close_df['time']\n",
    "close_df = close_df.iloc[:, 1:].loc[:,code_list]\n",
    "\n",
    "open_df = pd.read_feather('datasets/stock_price/Open.feather')\n",
    "open_df.index = open_df['time']\n",
    "open_df = open_df.iloc[:, 1:].loc[:,code_list]\n",
    "\n",
    "high_df = pd.read_feather('datasets/stock_price/High.feather')\n",
    "high_df.index = high_df['time']\n",
    "high_df = high_df.iloc[:, 1:].loc[:,code_list]\n",
    "\n",
    "low_df = pd.read_feather('datasets/stock_price/Low.feather')\n",
    "low_df.index = low_df['time']\n",
    "low_df = low_df.iloc[:, 1:].loc[:,code_list]"
   ]
  },
  {
   "cell_type": "code",
   "execution_count": 31,
   "id": "94c80e6e-f14c-4f05-84a3-0ea7bf0723dc",
   "metadata": {
    "tags": []
   },
   "outputs": [],
   "source": [
    "close_df.to_csv('datasets/processed_data/close.csv')\n",
    "open_df.to_csv('datasets/processed_data/open.csv')\n",
    "high_df.to_csv('datasets/processed_data/high.csv')\n",
    "low_df.to_csv('datasets/processed_data/low.csv')"
   ]
  }
 ],
 "metadata": {
  "kernelspec": {
   "display_name": "Python 3 (ipykernel)",
   "language": "python",
   "name": "python3"
  },
  "language_info": {
   "codemirror_mode": {
    "name": "ipython",
    "version": 3
   },
   "file_extension": ".py",
   "mimetype": "text/x-python",
   "name": "python",
   "nbconvert_exporter": "python",
   "pygments_lexer": "ipython3",
   "version": "3.9.17"
  }
 },
 "nbformat": 4,
 "nbformat_minor": 5
}
