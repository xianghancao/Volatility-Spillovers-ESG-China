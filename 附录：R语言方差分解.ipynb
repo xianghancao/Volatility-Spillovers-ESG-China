{
 "cells": [
  {
   "cell_type": "markdown",
   "id": "70f9004d-3979-4389-abe8-8b1e2607bc64",
   "metadata": {},
   "source": [
    "# 附录：方差分解的计算对比"
   ]
  },
  {
   "cell_type": "markdown",
   "id": "5c8ae28a-967d-49da-b10f-097c7b110fe8",
   "metadata": {},
   "source": [
    "1. 和R语言\n",
    "2. Stata语言\n",
    "3. python内部MA和脉冲响应对比"
   ]
  },
  {
   "cell_type": "code",
   "execution_count": 2,
   "id": "afd7ef4e-3efd-4503-987d-e1c9fda7fac5",
   "metadata": {},
   "outputs": [],
   "source": [
    "# 安装并加载必要的包\n",
    "#install.packages(\"vars\")\n",
    "library(vars)\n",
    "\n",
    "# 示例数据\n",
    "data <- as.data.frame(matrix(rnorm(1000), ncol=5))\n",
    "colnames(data) <- c(\"Asset1\", \"Asset2\", \"Asset3\", \"Asset4\", \"Asset5\")\n",
    "\n",
    "# 选择滞后阶数\n",
    "lag_selection <- VARselect(data, lag.max=10, type=\"const\")\n",
    "p <- lag_selection$selection[\"AIC(n)\"]\n",
    "\n",
    "# 建立VAR模型\n",
    "var_model <- VAR(data, p=p, type=\"const\")\n",
    "\n"
   ]
  },
  {
   "cell_type": "code",
   "execution_count": 4,
   "id": "faf04ace-0da7-4f74-aef7-e42703705a08",
   "metadata": {},
   "outputs": [],
   "source": [
    "\n",
    "# 自定义非正交化预测误差方差分解\n",
    "gfevd_custom <- function(var_model, n.ahead) {\n",
    "  Phi <- fevd(var_model, n.ahead=n.ahead)$Phi\n",
    "  Sigma <- cov(residuals(var_model))\n",
    "  n_vars <- dim(Phi)[1]\n",
    "  \n",
    "  # 初始化FEVD矩阵\n",
    "  fevd_matrix <- array(0, dim=c(n_vars, n_vars, n.ahead))\n",
    "  \n",
    "  for (i in 1:n.ahead) {\n",
    "    theta <- Phi[,,i]\n",
    "    for (j in 1:n_vars) {\n",
    "      fevd_matrix[, j, i] <- diag(theta %*% Sigma %*% t(theta)) / sum(diag(theta %*% Sigma %*% t(theta)))\n",
    "    }\n",
    "  }\n",
    "  \n",
    "  return(fevd_matrix)\n",
    "}\n"
   ]
  },
  {
   "cell_type": "code",
   "execution_count": 5,
   "id": "d40d6ba3-6113-4a81-bad1-73e78c5f5119",
   "metadata": {},
   "outputs": [
    {
     "ename": "ERROR",
     "evalue": "Error in 1:n_vars: argument of length 0\n",
     "output_type": "error",
     "traceback": [
      "Error in 1:n_vars: argument of length 0\nTraceback:\n",
      "1. gfevd_custom(var_model, n.ahead = 10)"
     ]
    }
   ],
   "source": [
    "# 计算GFEVD\n",
    "gfevd_result <- gfevd_custom(var_model, n.ahead=10)\n",
    "\n",
    "# 查看结果\n",
    "print(gfevd_result)"
   ]
  },
  {
   "cell_type": "markdown",
   "id": "5ad780ce-a555-4ccc-a72a-bbd88b09e381",
   "metadata": {},
   "source": []
  }
 ],
 "metadata": {
  "kernelspec": {
   "display_name": "R",
   "language": "R",
   "name": "ir"
  },
  "language_info": {
   "codemirror_mode": "r",
   "file_extension": ".r",
   "mimetype": "text/x-r-source",
   "name": "R",
   "pygments_lexer": "r",
   "version": "4.4.0"
  }
 },
 "nbformat": 4,
 "nbformat_minor": 5
}
