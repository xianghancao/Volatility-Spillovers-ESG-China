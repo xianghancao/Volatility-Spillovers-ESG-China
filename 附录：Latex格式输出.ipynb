{
 "cells": [
  {
   "cell_type": "markdown",
   "id": "b8c94c81-1eb7-4fce-874e-d85e1e6edc14",
   "metadata": {},
   "source": [
    "# Latex格式输出"
   ]
  },
  {
   "cell_type": "code",
   "execution_count": 1,
   "id": "075a2d28-1e82-4829-9e07-99e0c785afa5",
   "metadata": {},
   "outputs": [],
   "source": [
    "def print_latex_table(c):\n",
    "    print('-'*50)\n",
    "    for i in c.index:\n",
    "        a = ' %s, %s &  %.5f ($\\pm $%.5f) &   %.5f ($\\pm $%.5f) &   %.5f ($\\pm $%.5f) \\\\\\\\' %(list_df['国家全称EN'][i], list_df['指数编码'][i],\n",
    "                                      c.loc[i, 'p=0'], c.loc[i, 'p=0 std'],\n",
    "                                     c.loc[i, 'p=3'], c.loc[i, 'p=3 std'],\n",
    "                                     c.loc[i, 'p=p_t'], c.loc[i, 'p=p_t std'],\n",
    "                                    )\n",
    "        print(a.replace('S&P500', 'S\\&P500'))"
   ]
  },
  {
   "cell_type": "code",
   "execution_count": null,
   "id": "fbeb3091-46d4-4efb-83a2-546a5792b7e4",
   "metadata": {},
   "outputs": [],
   "source": [
    "def print_latex_table():\n",
    "    print(r\"\"\"\n",
    "            \\begin{table}[h])\n",
    "                \\centering\n",
    "                \\caption{}\n",
    "                \\begin{tabular}{c*{10}{c}}\n",
    "                %\\begin{tabular}{c|c c c c}\n",
    "                \"\"\")\n",
    "    for i in c.index:\n",
    "        print*)"
   ]
  },
  {
   "cell_type": "code",
   "execution_count": 9,
   "id": "52b3724f-92ac-4ecc-9324-dc98875de565",
   "metadata": {
    "collapsed": true,
    "jupyter": {
     "outputs_hidden": true
    }
   },
   "outputs": [
    {
     "name": "stdout",
     "output_type": "stream",
     "text": [
      "\n",
      "\\begin{table}[h])\n",
      "    \\centering\n",
      "    \\caption{%s}\n",
      "    \\begin{tabular}{c*{10}{c}}\n",
      "    %\\begin{tabular}{c|c c c c}\n",
      "        \\hline\n",
      "        \\textbf{个数} & \\textbf{AAA} & \\textbf{AA} & \\textbf{A} & \\textbf{BBB} & \\textbf{BB} & \\textbf{B} & \\textbf{CCC} & \\textbf{CC} & \\textbf{C}  \\\\\n",
      "        \\hline\n",
      "        \\textbf{2013}  &  2360 & 2452 & 2673 & 2849 & 3303 & 3458 & 3615 & 3996 & 4482 & 4853 & 5117 \\\\\n",
      "        \\hline\n",
      "        \\textbf{2014} &  \\quad & \\quad & \\quad & \\quad & \\quad & \\quad & \\quad & \\quad & \\quad & \\quad & \\quad \\\\\n",
      "        \\hline\n",
      "        \\textbf{2014} &  \\quad & \\quad & \\quad & \\quad & \\quad & \\quad & \\quad & \\quad & \\quad & \\quad & \\quad \\\\\n",
      "        \\hline\n",
      "        \\textbf{2015} &  \\quad & \\quad & \\quad & \\quad & \\quad & \\quad & \\quad & \\quad & \\quad & \\quad & \\quad \\\\\n",
      "        \\hline\n",
      "        \\textbf{2015} &  \\quad & \\quad & \\quad & \\quad & \\quad & \\quad & \\quad & \\quad & \\quad & \\quad & \\quad \\\\\n",
      "        \\hline\n",
      "    \\end{tabular}\n",
      "    \\label{tab:stock_numbers}\n",
      "\\end{table}\n",
      "\n"
     ]
    }
   ],
   "source": [
    "title = 'xxxx'\n",
    "print(r\"\"\"\n",
    "\\begin{table}[h])\n",
    "    \\centering\n",
    "    \\caption{}\n",
    "    \\begin{tabular}{c*{10}{c}}\n",
    "    %\\begin{tabular}{c|c c c c}\n",
    "        \\hline\n",
    "        \\textbf{个数} & \\textbf{AAA} & \\textbf{AA} & \\textbf{A} & \\textbf{BBB} & \\textbf{BB} & \\textbf{B} & \\textbf{CCC} & \\textbf{CC} & \\textbf{C}  \\\\\n",
    "        \\hline\n",
    "        \\textbf{2013}  &  2360 & 2452 & 2673 & 2849 & 3303 & 3458 & 3615 & 3996 & 4482 & 4853 & 5117 \\\\\n",
    "        \\hline\n",
    "        \\textbf{2014} &  \\quad & \\quad & \\quad & \\quad & \\quad & \\quad & \\quad & \\quad & \\quad & \\quad & \\quad \\\\\n",
    "        \\hline\n",
    "        \\textbf{2014} &  \\quad & \\quad & \\quad & \\quad & \\quad & \\quad & \\quad & \\quad & \\quad & \\quad & \\quad \\\\\n",
    "        \\hline\n",
    "        \\textbf{2015} &  \\quad & \\quad & \\quad & \\quad & \\quad & \\quad & \\quad & \\quad & \\quad & \\quad & \\quad \\\\\n",
    "        \\hline\n",
    "        \\textbf{2015} &  \\quad & \\quad & \\quad & \\quad & \\quad & \\quad & \\quad & \\quad & \\quad & \\quad & \\quad \\\\\n",
    "        \\hline\n",
    "    \\end{tabular}\n",
    "    \\label{tab:stock_numbers}\n",
    "\\end{table}\n",
    "\"\"\")"
   ]
  },
  {
   "cell_type": "code",
   "execution_count": 10,
   "id": "91b79ae9-b9fa-41ec-85b3-351e1051cac3",
   "metadata": {},
   "outputs": [],
   "source": [
    "import pandas as pd"
   ]
  },
  {
   "cell_type": "markdown",
   "id": "8451bbb6-34c4-4225-932b-504b94159706",
   "metadata": {},
   "source": [
    "pd.read_csv('esg_descrb')"
   ]
  }
 ],
 "metadata": {
  "kernelspec": {
   "display_name": "Python 3 (ipykernel)",
   "language": "python",
   "name": "python3"
  },
  "language_info": {
   "codemirror_mode": {
    "name": "ipython",
    "version": 3
   },
   "file_extension": ".py",
   "mimetype": "text/x-python",
   "name": "python",
   "nbconvert_exporter": "python",
   "pygments_lexer": "ipython3",
   "version": "3.11.7"
  }
 },
 "nbformat": 4,
 "nbformat_minor": 5
}
